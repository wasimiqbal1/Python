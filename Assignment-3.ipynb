{
 "cells": [
  {
   "cell_type": "markdown",
   "metadata": {},
   "source": [
    "# Question No 01"
   ]
  },
  {
   "cell_type": "code",
   "execution_count": 2,
   "metadata": {},
   "outputs": [
    {
     "name": "stdout",
     "output_type": "stream",
     "text": [
      "Enter first value 10\n",
      "Enter first value 9\n",
      " + , - , / , * kindly selct the option +\n",
      "19  Answer\n"
     ]
    }
   ],
   "source": [
    "value1 = int(input('Enter first value '))\n",
    "value2 = int(input('Enter first value '))\n",
    "operator = input(' + , - , / , * kindly selct the option ')\n",
    "if operator == '+':\n",
    "    ans= value1+value2\n",
    "    print(ans,' Answer')\n",
    "elif operator == '-':\n",
    "    ans= value1-value2\n",
    "    print(ans,' Answer')\n",
    "elif operator == '/':\n",
    "    ans= value1/value2\n",
    "    print(ans,' Answer')\n",
    "elif operator == '*':\n",
    "    ans= val1*val2\n",
    "    print(ans,' Answer')\n",
    "else:\n",
    "    print('invalid operator')\n"
   ]
  },
  {
   "cell_type": "markdown",
   "metadata": {},
   "source": [
    "# Question No 02"
   ]
  },
  {
   "cell_type": "code",
   "execution_count": 3,
   "metadata": {},
   "outputs": [
    {
     "name": "stdout",
     "output_type": "stream",
     "text": [
      "11\n",
      "35\n",
      "45\n",
      "0.95\n",
      "[11, 35, 45, 0.95]\n"
     ]
    }
   ],
   "source": [
    "mix = ['Wasim','Mahad','24',11,35,'Python',45,0.95]\n",
    "for i in mix:\n",
    "    if type(i)==int or type(i) == float:\n",
    "        print(i)\n",
    "#Another Way\n",
    "\n",
    "Set = [i for i in mix if type(i) == int or type(i) == float]\n",
    "print(Set)\n"
   ]
  },
  {
   "cell_type": "markdown",
   "metadata": {},
   "source": [
    "# Question NO. 03"
   ]
  },
  {
   "cell_type": "code",
   "execution_count": 5,
   "metadata": {},
   "outputs": [
    {
     "name": "stdout",
     "output_type": "stream",
     "text": [
      "{'Name': 'Wasim Iqbal', 'Age': 37, 'DoB': '01 Nov 1983'}\n",
      "{'Name': 'Wasim Iqbal', 'Age': 37, 'DoB': '01 Nov 1983', 'Address': 'Karachi'}\n",
      "{'Name': 'Wasim Iqbal', 'Age': 37, 'DoB': '01 Nov 1983', 'Address': 'Karachi', 'Course Title': 'Python', 'RollNo': 12200}\n"
     ]
    }
   ],
   "source": [
    "dict = {'Name':'Wasim Iqbal',\n",
    "       'Age':37,\n",
    "       'DoB':'01 Nov 1983'}\n",
    "print(dict)\n",
    "dict['Address'] = 'Karachi'\n",
    "print(dict)\n",
    "dict.update({'Course Title':'Python', 'RollNo':12200})\n",
    "print(dict)\n"
   ]
  },
  {
   "cell_type": "markdown",
   "metadata": {},
   "source": [
    "# Question NO. 04"
   ]
  },
  {
   "cell_type": "code",
   "execution_count": 11,
   "metadata": {},
   "outputs": [
    {
     "name": "stdout",
     "output_type": "stream",
     "text": [
      "[71, 35]\n"
     ]
    }
   ],
   "source": [
    "# Inetifying Duplicate Values from the list\n",
    "new = [71,50,71,75,89,41,35,95,35,35,5,72]\n",
    "my = []\n",
    "lim=len(new)\n",
    "for i in range (lim):\n",
    "    k=i+1\n",
    "    for k in range(k,lim):\n",
    "        if new[i]==new[k] and new[k] not in my:\n",
    "            my.append(new[i])\n",
    "print(my)\n"
   ]
  },
  {
   "cell_type": "markdown",
   "metadata": {},
   "source": [
    "# Question NO. 05"
   ]
  },
  {
   "cell_type": "code",
   "execution_count": 12,
   "metadata": {},
   "outputs": [
    {
     "name": "stdout",
     "output_type": "stream",
     "text": [
      "[80, 100, 35]\n"
     ]
    }
   ],
   "source": [
    "# Inetifying Duplicate Values from the list\n",
    "new = [71,80,74,78,80,75,891,100,100,95,35,35,5,72]\n",
    "my = []\n",
    "lim=len(new)\n",
    "for i in range (lim):\n",
    "    k=i+1\n",
    "    for k in range(k,lim):\n",
    "        if new[i]==new[k] and new[k] not in my:\n",
    "            my.append(new[i])\n",
    "print(my)\n"
   ]
  },
  {
   "cell_type": "markdown",
   "metadata": {},
   "source": [
    "# Question NO. 06"
   ]
  },
  {
   "cell_type": "code",
   "execution_count": null,
   "metadata": {},
   "outputs": [],
   "source": [
    "dicto = {'a': 50, 'b':200, 'c':300,300:'a'}\n",
    "print(dicto)\n",
    "val = input('enter key ')\n",
    "if val in str(dicto.keys()):\n",
    "    print('key is already present')\n",
    "else:\n",
    "    print('u can use this key')\n"
   ]
  }
 ],
 "metadata": {
  "kernelspec": {
   "display_name": "Python 3",
   "language": "python",
   "name": "python3"
  },
  "language_info": {
   "codemirror_mode": {
    "name": "ipython",
    "version": 3
   },
   "file_extension": ".py",
   "mimetype": "text/x-python",
   "name": "python",
   "nbconvert_exporter": "python",
   "pygments_lexer": "ipython3",
   "version": "3.6.5"
  }
 },
 "nbformat": 4,
 "nbformat_minor": 2
}
