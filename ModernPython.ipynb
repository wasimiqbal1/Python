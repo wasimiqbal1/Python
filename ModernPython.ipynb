{
 "cells": [
  {
   "cell_type": "markdown",
   "metadata": {},
   "source": [
    "The is First Code in Python"
   ]
  },
  {
   "cell_type": "code",
   "execution_count": 58,
   "metadata": {},
   "outputs": [
    {
     "name": "stdout",
     "output_type": "stream",
     "text": [
      "Hellow World\n"
     ]
    }
   ],
   "source": [
    "print(\"Hellow World\")"
   ]
  },
  {
   "cell_type": "code",
   "execution_count": 59,
   "metadata": {},
   "outputs": [
    {
     "name": "stdout",
     "output_type": "stream",
     "text": [
      "WasimIqbal\n",
      "<class 'str'>\n",
      "1794823084464\n",
      "['capitalize', 'casefold', 'center', 'count', 'encode', 'endswith', 'expandtabs', 'find', 'format', 'format_map', 'index', 'isalnum', 'isalpha', 'isascii', 'isdecimal', 'isdigit', 'isidentifier', 'islower', 'isnumeric', 'isprintable', 'isspace', 'istitle', 'isupper', 'join', 'ljust', 'lower', 'lstrip', 'maketrans', 'partition', 'removeprefix', 'removesuffix', 'replace', 'rfind', 'rindex', 'rjust', 'rpartition', 'rsplit', 'rstrip', 'split', 'splitlines', 'startswith', 'strip', 'swapcase', 'title', 'translate', 'upper', 'zfill']\n"
     ]
    }
   ],
   "source": [
    "name : str = \"WasimIqbal\"\n",
    "print(name)\n",
    "print(type(name))\n",
    "print(id(name))\n",
    "print([i for i in dir(name) if \"__\" not in i])\n"
   ]
  },
  {
   "cell_type": "markdown",
   "metadata": {},
   "source": [
    "Strings data type in python"
   ]
  },
  {
   "cell_type": "code",
   "execution_count": 60,
   "metadata": {},
   "outputs": [
    {
     "name": "stdout",
     "output_type": "stream",
     "text": [
      "\n",
      "PIAIC Student Card\n",
      "Student Name: Wasim Iqbal\n",
      "Father Name : Muhammad Iqbal\n",
      "Age: 42\n",
      "Education: Graduation\n",
      "\n"
     ]
    }
   ],
   "source": [
    "name : str = \"Wasim Iqbal\"\n",
    "fname : str = \"Muhammad Iqbal\"\n",
    "education : str = \"Graduation\"\n",
    "age : int = \"42\"\n",
    "\n",
    "card : str = f\"\"\"\n",
    "PIAIC Student Card\n",
    "Student Name: {name}\n",
    "Father Name : {fname}\n",
    "Age: {age}\n",
    "Education: {education}\n",
    "\"\"\"\n",
    "print(card)"
   ]
  },
  {
   "cell_type": "markdown",
   "metadata": {},
   "source": [
    "use f-string"
   ]
  },
  {
   "cell_type": "code",
   "execution_count": 61,
   "metadata": {},
   "outputs": [
    {
     "name": "stdout",
     "output_type": "stream",
     "text": [
      "ada lovelace\n"
     ]
    }
   ],
   "source": [
    "first_name = \"ada\"\n",
    "last_name = \"lovelace\"\n",
    "full_name = f\"{first_name} {last_name}\"\n",
    "print(full_name)"
   ]
  },
  {
   "cell_type": "code",
   "execution_count": 62,
   "metadata": {},
   "outputs": [
    {
     "data": {
      "text/plain": [
       "'This value a is 8 and b is 7 and c is 10'"
      ]
     },
     "execution_count": 62,
     "metadata": {},
     "output_type": "execute_result"
    }
   ],
   "source": [
    "a = 7\n",
    "b = 8\n",
    "c = 10\n",
    "\n",
    "\"This value a is {} and b is {} and c is {}\".format(b,a,c)"
   ]
  },
  {
   "cell_type": "markdown",
   "metadata": {},
   "source": [
    "Changing Case in a String with Methods"
   ]
  },
  {
   "cell_type": "code",
   "execution_count": 63,
   "metadata": {},
   "outputs": [
    {
     "name": "stdout",
     "output_type": "stream",
     "text": [
      "Ada Lovelace\n",
      "ADA LOVELACE\n",
      "ada lovelace\n"
     ]
    }
   ],
   "source": [
    "name = \"ada lovelace\"\n",
    "print(name.title())\n",
    "print(name.upper())\n",
    "print(name.lower())"
   ]
  },
  {
   "cell_type": "markdown",
   "metadata": {},
   "source": [
    "Adding Whitespace to Strings with Tabs or Newlines"
   ]
  },
  {
   "cell_type": "code",
   "execution_count": 64,
   "metadata": {},
   "outputs": [
    {
     "name": "stdout",
     "output_type": "stream",
     "text": [
      "Python\n",
      "\tPython\n"
     ]
    }
   ],
   "source": [
    "#To add a tab to your text, use the character combination \\t:\n",
    "print(\"Python\")\n",
    "print(\"\\tPython\")"
   ]
  },
  {
   "cell_type": "code",
   "execution_count": 65,
   "metadata": {},
   "outputs": [
    {
     "name": "stdout",
     "output_type": "stream",
     "text": [
      "Languages:\n",
      "Python\n",
      "C\n",
      "JavaScript\n"
     ]
    }
   ],
   "source": [
    "#To add a newline in a string, use the character combination \\n:\n",
    "print(\"Languages:\\nPython\\nC\\nJavaScript\")"
   ]
  },
  {
   "cell_type": "code",
   "execution_count": 66,
   "metadata": {},
   "outputs": [
    {
     "name": "stdout",
     "output_type": "stream",
     "text": [
      "Languages:\n",
      "\tPython\n",
      "\tC\n",
      "\tJavaScript\n"
     ]
    }
   ],
   "source": [
    "#combine tabs and newlines in a single string\n",
    "print(\"Languages:\\n\\tPython\\n\\tC\\n\\tJavaScript\")"
   ]
  },
  {
   "cell_type": "markdown",
   "metadata": {},
   "source": [
    "Stripping Whitespace"
   ]
  },
  {
   "cell_type": "code",
   "execution_count": 67,
   "metadata": {},
   "outputs": [
    {
     "data": {
      "text/plain": [
       "'python  '"
      ]
     },
     "execution_count": 67,
     "metadata": {},
     "output_type": "execute_result"
    }
   ],
   "source": [
    "favorite_language = 'python  '\n",
    "favorite_language\n"
   ]
  },
  {
   "cell_type": "code",
   "execution_count": 68,
   "metadata": {},
   "outputs": [
    {
     "data": {
      "text/plain": [
       "' python'"
      ]
     },
     "execution_count": 68,
     "metadata": {},
     "output_type": "execute_result"
    }
   ],
   "source": [
    "favorite_language = ' python '\n",
    "favorite_language.rstrip()\n"
   ]
  },
  {
   "cell_type": "code",
   "execution_count": 69,
   "metadata": {},
   "outputs": [
    {
     "data": {
      "text/plain": [
       "'python'"
      ]
     },
     "execution_count": 69,
     "metadata": {},
     "output_type": "execute_result"
    }
   ],
   "source": [
    "favorite_language = ' python '\n",
    "favorite_language.lstrip()\n",
    "favorite_language.strip()"
   ]
  },
  {
   "cell_type": "code",
   "execution_count": 70,
   "metadata": {},
   "outputs": [
    {
     "data": {
      "text/plain": [
       "'nostarch.com'"
      ]
     },
     "execution_count": 70,
     "metadata": {},
     "output_type": "execute_result"
    }
   ],
   "source": [
    "#Removing Prefixes\n",
    "nostarch_url = 'https://nostarch.com'\n",
    "nostarch_url.removeprefix('https://')"
   ]
  },
  {
   "cell_type": "markdown",
   "metadata": {},
   "source": [
    "Python Operators\n"
   ]
  },
  {
   "cell_type": "code",
   "execution_count": 71,
   "metadata": {},
   "outputs": [
    {
     "data": {
      "text/html": [
       "<div>\n",
       "<style scoped>\n",
       "    .dataframe tbody tr th:only-of-type {\n",
       "        vertical-align: middle;\n",
       "    }\n",
       "\n",
       "    .dataframe tbody tr th {\n",
       "        vertical-align: top;\n",
       "    }\n",
       "\n",
       "    .dataframe thead th {\n",
       "        text-align: right;\n",
       "    }\n",
       "</style>\n",
       "<table border=\"1\" class=\"dataframe\">\n",
       "  <thead>\n",
       "    <tr style=\"text-align: right;\">\n",
       "      <th></th>\n",
       "      <th>Operator</th>\n",
       "      <th>Name</th>\n",
       "      <th>Example</th>\n",
       "      <th>Try it</th>\n",
       "    </tr>\n",
       "  </thead>\n",
       "  <tbody>\n",
       "    <tr>\n",
       "      <th>0</th>\n",
       "      <td>+</td>\n",
       "      <td>Addition</td>\n",
       "      <td>x + y</td>\n",
       "      <td>Try it »</td>\n",
       "    </tr>\n",
       "    <tr>\n",
       "      <th>1</th>\n",
       "      <td>-</td>\n",
       "      <td>Subtraction</td>\n",
       "      <td>x - y</td>\n",
       "      <td>Try it »</td>\n",
       "    </tr>\n",
       "    <tr>\n",
       "      <th>2</th>\n",
       "      <td>*</td>\n",
       "      <td>Multiplication</td>\n",
       "      <td>x * y</td>\n",
       "      <td>Try it »</td>\n",
       "    </tr>\n",
       "    <tr>\n",
       "      <th>3</th>\n",
       "      <td>/</td>\n",
       "      <td>Division</td>\n",
       "      <td>x / y</td>\n",
       "      <td>Try it »</td>\n",
       "    </tr>\n",
       "    <tr>\n",
       "      <th>4</th>\n",
       "      <td>%</td>\n",
       "      <td>Modulus</td>\n",
       "      <td>x % y</td>\n",
       "      <td>Try it »</td>\n",
       "    </tr>\n",
       "    <tr>\n",
       "      <th>5</th>\n",
       "      <td>**</td>\n",
       "      <td>Exponentiation</td>\n",
       "      <td>x ** y</td>\n",
       "      <td>Try it »</td>\n",
       "    </tr>\n",
       "    <tr>\n",
       "      <th>6</th>\n",
       "      <td>//</td>\n",
       "      <td>Floor division</td>\n",
       "      <td>x // y</td>\n",
       "      <td>Try it »</td>\n",
       "    </tr>\n",
       "  </tbody>\n",
       "</table>\n",
       "</div>"
      ],
      "text/plain": [
       "  Operator            Name Example    Try it\n",
       "0        +        Addition   x + y  Try it »\n",
       "1        -     Subtraction   x - y  Try it »\n",
       "2        *  Multiplication   x * y  Try it »\n",
       "3        /        Division   x / y  Try it »\n",
       "4        %         Modulus   x % y  Try it »\n",
       "5       **  Exponentiation  x ** y  Try it »\n",
       "6       //  Floor division  x // y  Try it »"
      ]
     },
     "execution_count": 71,
     "metadata": {},
     "output_type": "execute_result"
    }
   ],
   "source": [
    "\n",
    "import pandas as pd\n",
    "\n",
    "table = pd.read_html('https://www.w3schools.com/python/python_operators.asp')\n",
    "table[0]"
   ]
  },
  {
   "cell_type": "markdown",
   "metadata": {},
   "source": [
    "Python Arithmetic Operators\n"
   ]
  },
  {
   "cell_type": "code",
   "execution_count": 72,
   "metadata": {},
   "outputs": [
    {
     "name": "stdout",
     "output_type": "stream",
     "text": [
      "7\n",
      "3\n",
      "10\n",
      "2.5\n",
      "1\n",
      "25\n",
      "2\n"
     ]
    }
   ],
   "source": [
    "x = 5\n",
    "y = 2\n",
    "\n",
    "print(x + y) # Addition\n",
    "print(x - y) # Subtraction\n",
    "print(x * y) # Multiplication\n",
    "print(x / y) # Division\n",
    "print(x % y) # Modulus\n",
    "print(x ** y) # Exponentiation\n",
    "print(x // y) # Floor division\t\n",
    "\n"
   ]
  },
  {
   "cell_type": "code",
   "execution_count": 73,
   "metadata": {},
   "outputs": [
    {
     "name": "stdout",
     "output_type": "stream",
     "text": [
      "7\n",
      "9\n"
     ]
    }
   ],
   "source": [
    "# +=\n",
    "a : int = 7\n",
    "print(a)\n",
    "a = a + 2\n",
    "print(a)\n"
   ]
  },
  {
   "cell_type": "code",
   "execution_count": 74,
   "metadata": {},
   "outputs": [
    {
     "name": "stdout",
     "output_type": "stream",
     "text": [
      "7\n",
      "9\n"
     ]
    }
   ],
   "source": [
    "# +=\n",
    "a : int = 7\n",
    "print(a)\n",
    "a += 2\n",
    "print(a)"
   ]
  },
  {
   "cell_type": "code",
   "execution_count": 75,
   "metadata": {},
   "outputs": [
    {
     "name": "stdout",
     "output_type": "stream",
     "text": [
      "7\n",
      "5\n"
     ]
    }
   ],
   "source": [
    "# -=\n",
    "a : int = 7\n",
    "print(a)\n",
    "a -= 2\n",
    "print(a)"
   ]
  },
  {
   "cell_type": "code",
   "execution_count": 76,
   "metadata": {},
   "outputs": [
    {
     "name": "stdout",
     "output_type": "stream",
     "text": [
      "7\n",
      "14\n"
     ]
    }
   ],
   "source": [
    "# *=\n",
    "a : int = 7\n",
    "print(a)\n",
    "a *= 2\n",
    "print(a)"
   ]
  },
  {
   "cell_type": "code",
   "execution_count": 77,
   "metadata": {},
   "outputs": [
    {
     "name": "stdout",
     "output_type": "stream",
     "text": [
      "8\n",
      "4\n"
     ]
    }
   ],
   "source": [
    "# /=\n",
    "a : int = 8\n",
    "print(a)\n",
    "a //= 2\n",
    "print(a)"
   ]
  },
  {
   "cell_type": "markdown",
   "metadata": {},
   "source": [
    "Python Comparison Operators\n"
   ]
  },
  {
   "cell_type": "code",
   "execution_count": 78,
   "metadata": {},
   "outputs": [
    {
     "data": {
      "text/html": [
       "<div>\n",
       "<style scoped>\n",
       "    .dataframe tbody tr th:only-of-type {\n",
       "        vertical-align: middle;\n",
       "    }\n",
       "\n",
       "    .dataframe tbody tr th {\n",
       "        vertical-align: top;\n",
       "    }\n",
       "\n",
       "    .dataframe thead th {\n",
       "        text-align: right;\n",
       "    }\n",
       "</style>\n",
       "<table border=\"1\" class=\"dataframe\">\n",
       "  <thead>\n",
       "    <tr style=\"text-align: right;\">\n",
       "      <th></th>\n",
       "      <th>Operator</th>\n",
       "      <th>Name</th>\n",
       "      <th>Example</th>\n",
       "      <th>Try it</th>\n",
       "    </tr>\n",
       "  </thead>\n",
       "  <tbody>\n",
       "    <tr>\n",
       "      <th>0</th>\n",
       "      <td>==</td>\n",
       "      <td>Equal</td>\n",
       "      <td>x == y</td>\n",
       "      <td>Try it »</td>\n",
       "    </tr>\n",
       "    <tr>\n",
       "      <th>1</th>\n",
       "      <td>!=</td>\n",
       "      <td>Not equal</td>\n",
       "      <td>x != y</td>\n",
       "      <td>Try it »</td>\n",
       "    </tr>\n",
       "    <tr>\n",
       "      <th>2</th>\n",
       "      <td>&gt;</td>\n",
       "      <td>Greater than</td>\n",
       "      <td>x &gt; y</td>\n",
       "      <td>Try it »</td>\n",
       "    </tr>\n",
       "    <tr>\n",
       "      <th>3</th>\n",
       "      <td>&lt;</td>\n",
       "      <td>Less than</td>\n",
       "      <td>x &lt; y</td>\n",
       "      <td>Try it »</td>\n",
       "    </tr>\n",
       "    <tr>\n",
       "      <th>4</th>\n",
       "      <td>&gt;=</td>\n",
       "      <td>Greater than or equal to</td>\n",
       "      <td>x &gt;= y</td>\n",
       "      <td>Try it »</td>\n",
       "    </tr>\n",
       "    <tr>\n",
       "      <th>5</th>\n",
       "      <td>&lt;=</td>\n",
       "      <td>Less than or equal to</td>\n",
       "      <td>x &lt;= y</td>\n",
       "      <td>Try it »</td>\n",
       "    </tr>\n",
       "  </tbody>\n",
       "</table>\n",
       "</div>"
      ],
      "text/plain": [
       "  Operator                      Name Example    Try it\n",
       "0       ==                     Equal  x == y  Try it »\n",
       "1       !=                 Not equal  x != y  Try it »\n",
       "2        >              Greater than   x > y  Try it »\n",
       "3        <                 Less than   x < y  Try it »\n",
       "4       >=  Greater than or equal to  x >= y  Try it »\n",
       "5       <=     Less than or equal to  x <= y  Try it »"
      ]
     },
     "execution_count": 78,
     "metadata": {},
     "output_type": "execute_result"
    }
   ],
   "source": [
    "\n",
    "import pandas as pd\n",
    "\n",
    "table = pd.read_html('https://www.w3schools.com/python/python_operators.asp')\n",
    "table[2]"
   ]
  },
  {
   "cell_type": "code",
   "execution_count": 79,
   "metadata": {},
   "outputs": [
    {
     "name": "stdout",
     "output_type": "stream",
     "text": [
      "False\n"
     ]
    }
   ],
   "source": [
    "# == Equal\n",
    "a : int = 7 \n",
    "b : int = 10\n",
    "\n",
    "print (a == b)\n"
   ]
  },
  {
   "cell_type": "code",
   "execution_count": 80,
   "metadata": {},
   "outputs": [
    {
     "name": "stdout",
     "output_type": "stream",
     "text": [
      "True\n"
     ]
    }
   ],
   "source": [
    "# != Not Equal\n",
    "a : int = 7 \n",
    "b : int = 10\n",
    "\n",
    "print (a != b)\n"
   ]
  },
  {
   "cell_type": "code",
   "execution_count": 81,
   "metadata": {},
   "outputs": [
    {
     "name": "stdout",
     "output_type": "stream",
     "text": [
      "True\n"
     ]
    }
   ],
   "source": [
    "# > Greater than\t\n",
    "a : int = 10 \n",
    "b : int = 8\n",
    "\n",
    "print (a > b)\n"
   ]
  },
  {
   "cell_type": "code",
   "execution_count": 82,
   "metadata": {},
   "outputs": [
    {
     "name": "stdout",
     "output_type": "stream",
     "text": [
      "False\n"
     ]
    }
   ],
   "source": [
    "# > Greater than\t\n",
    "a : str = 'A' \n",
    "b : str = 'B'\n",
    "\n",
    "print (a > b)\n"
   ]
  },
  {
   "cell_type": "markdown",
   "metadata": {},
   "source": [
    "Python Logical Operators\n"
   ]
  },
  {
   "cell_type": "code",
   "execution_count": 83,
   "metadata": {},
   "outputs": [
    {
     "name": "stdout",
     "output_type": "stream",
     "text": [
      "True\n"
     ]
    }
   ],
   "source": [
    "# \"and\" Returns True if both statements are true\n",
    "\n",
    "x = 5\n",
    "\n",
    "print(x > 3 and x < 10)\n",
    "\n",
    "# returns True because 5 is greater than 3 AND 5 is less than 10\n"
   ]
  },
  {
   "cell_type": "code",
   "execution_count": 84,
   "metadata": {},
   "outputs": [
    {
     "name": "stdout",
     "output_type": "stream",
     "text": [
      "True\n"
     ]
    }
   ],
   "source": [
    "# \"or\" Returns True if one of the statements is true\t\n",
    "\n",
    "x = 5\n",
    "\n",
    "print(x > 3 or x < 4)\n",
    "\n",
    "# returns True because one of the conditions are true (5 is greater than 3, but 5 is not less than 4)\n"
   ]
  },
  {
   "cell_type": "code",
   "execution_count": 85,
   "metadata": {},
   "outputs": [
    {
     "name": "stdout",
     "output_type": "stream",
     "text": [
      "False\n"
     ]
    }
   ],
   "source": [
    "# \"not\" Reverse the result, returns False if the result is true\t\t\n",
    "\n",
    "x = 5\n",
    "\n",
    "print(not(x > 3 and x < 10))\n",
    "\n",
    "# returns False because not is used to reverse the result\n"
   ]
  },
  {
   "cell_type": "markdown",
   "metadata": {},
   "source": [
    "Python Identity Operators\n"
   ]
  },
  {
   "cell_type": "code",
   "execution_count": 86,
   "metadata": {},
   "outputs": [
    {
     "data": {
      "text/html": [
       "<div>\n",
       "<style scoped>\n",
       "    .dataframe tbody tr th:only-of-type {\n",
       "        vertical-align: middle;\n",
       "    }\n",
       "\n",
       "    .dataframe tbody tr th {\n",
       "        vertical-align: top;\n",
       "    }\n",
       "\n",
       "    .dataframe thead th {\n",
       "        text-align: right;\n",
       "    }\n",
       "</style>\n",
       "<table border=\"1\" class=\"dataframe\">\n",
       "  <thead>\n",
       "    <tr style=\"text-align: right;\">\n",
       "      <th></th>\n",
       "      <th>Operator</th>\n",
       "      <th>Description</th>\n",
       "      <th>Example</th>\n",
       "      <th>Try it</th>\n",
       "    </tr>\n",
       "  </thead>\n",
       "  <tbody>\n",
       "    <tr>\n",
       "      <th>0</th>\n",
       "      <td>is</td>\n",
       "      <td>Returns True if both variables are the same ob...</td>\n",
       "      <td>x is y</td>\n",
       "      <td>Try it »</td>\n",
       "    </tr>\n",
       "    <tr>\n",
       "      <th>1</th>\n",
       "      <td>is not</td>\n",
       "      <td>Returns True if both variables are not the sam...</td>\n",
       "      <td>x is not y</td>\n",
       "      <td>Try it »</td>\n",
       "    </tr>\n",
       "  </tbody>\n",
       "</table>\n",
       "</div>"
      ],
      "text/plain": [
       "  Operator                                        Description     Example  \\\n",
       "0       is  Returns True if both variables are the same ob...      x is y   \n",
       "1   is not  Returns True if both variables are not the sam...  x is not y   \n",
       "\n",
       "     Try it  \n",
       "0  Try it »  \n",
       "1  Try it »  "
      ]
     },
     "execution_count": 86,
     "metadata": {},
     "output_type": "execute_result"
    }
   ],
   "source": [
    "\n",
    "import pandas as pd\n",
    "\n",
    "table = pd.read_html('https://www.w3schools.com/python/python_operators.asp')\n",
    "table[4]"
   ]
  },
  {
   "cell_type": "code",
   "execution_count": 87,
   "metadata": {},
   "outputs": [
    {
     "name": "stdout",
     "output_type": "stream",
     "text": [
      "140731348173904\n",
      "140731348173904\n"
     ]
    },
    {
     "data": {
      "text/plain": [
       "True"
      ]
     },
     "execution_count": 87,
     "metadata": {},
     "output_type": "execute_result"
    }
   ],
   "source": [
    "x : str = 'abc'\n",
    "z : str = 'abc'\n",
    "\n",
    "print(id(x))\n",
    "print(id(z))\n",
    "\n",
    "x is z\n"
   ]
  },
  {
   "cell_type": "code",
   "execution_count": 88,
   "metadata": {},
   "outputs": [
    {
     "name": "stdout",
     "output_type": "stream",
     "text": [
      "140731348173904\n",
      "140731348173904\n"
     ]
    },
    {
     "data": {
      "text/plain": [
       "False"
      ]
     },
     "execution_count": 88,
     "metadata": {},
     "output_type": "execute_result"
    }
   ],
   "source": [
    "x : str = 'abc'\n",
    "z : str = 'abc'\n",
    "\n",
    "print(id(x))\n",
    "print(id(z))\n",
    "\n",
    "x is not z"
   ]
  },
  {
   "cell_type": "markdown",
   "metadata": {},
   "source": [
    "Python Membership Operators\n"
   ]
  },
  {
   "cell_type": "code",
   "execution_count": 89,
   "metadata": {},
   "outputs": [
    {
     "data": {
      "text/html": [
       "<div>\n",
       "<style scoped>\n",
       "    .dataframe tbody tr th:only-of-type {\n",
       "        vertical-align: middle;\n",
       "    }\n",
       "\n",
       "    .dataframe tbody tr th {\n",
       "        vertical-align: top;\n",
       "    }\n",
       "\n",
       "    .dataframe thead th {\n",
       "        text-align: right;\n",
       "    }\n",
       "</style>\n",
       "<table border=\"1\" class=\"dataframe\">\n",
       "  <thead>\n",
       "    <tr style=\"text-align: right;\">\n",
       "      <th></th>\n",
       "      <th>Operator</th>\n",
       "      <th>Description</th>\n",
       "      <th>Example</th>\n",
       "      <th>Try it</th>\n",
       "    </tr>\n",
       "  </thead>\n",
       "  <tbody>\n",
       "    <tr>\n",
       "      <th>0</th>\n",
       "      <td>in</td>\n",
       "      <td>Returns True if a sequence with the specified ...</td>\n",
       "      <td>x in y</td>\n",
       "      <td>Try it »</td>\n",
       "    </tr>\n",
       "    <tr>\n",
       "      <th>1</th>\n",
       "      <td>not in</td>\n",
       "      <td>Returns True if a sequence with the specified ...</td>\n",
       "      <td>x not in y</td>\n",
       "      <td>Try it »</td>\n",
       "    </tr>\n",
       "  </tbody>\n",
       "</table>\n",
       "</div>"
      ],
      "text/plain": [
       "  Operator                                        Description     Example  \\\n",
       "0       in  Returns True if a sequence with the specified ...      x in y   \n",
       "1   not in  Returns True if a sequence with the specified ...  x not in y   \n",
       "\n",
       "     Try it  \n",
       "0  Try it »  \n",
       "1  Try it »  "
      ]
     },
     "execution_count": 89,
     "metadata": {},
     "output_type": "execute_result"
    }
   ],
   "source": [
    "\n",
    "import pandas as pd\n",
    "\n",
    "table = pd.read_html('https://www.w3schools.com/python/python_operators.asp')\n",
    "table[5]"
   ]
  },
  {
   "cell_type": "code",
   "execution_count": 90,
   "metadata": {},
   "outputs": [
    {
     "data": {
      "text/plain": [
       "['A',\n",
       " 'B',\n",
       " 'C',\n",
       " 'D',\n",
       " 'E',\n",
       " 'F',\n",
       " 'G',\n",
       " 'H',\n",
       " 'I',\n",
       " 'J',\n",
       " 'K',\n",
       " 'L',\n",
       " 'M',\n",
       " 'N',\n",
       " 'O',\n",
       " 'P',\n",
       " 'Q',\n",
       " 'R',\n",
       " 'S',\n",
       " 'T',\n",
       " 'U',\n",
       " 'V',\n",
       " 'W',\n",
       " 'X',\n",
       " 'Y',\n",
       " 'Z']"
      ]
     },
     "execution_count": 90,
     "metadata": {},
     "output_type": "execute_result"
    }
   ],
   "source": [
    "names: list[str] = [chr(i) for i in range (65,91)]\n",
    "names"
   ]
  },
  {
   "cell_type": "code",
   "execution_count": 91,
   "metadata": {},
   "outputs": [
    {
     "name": "stdout",
     "output_type": "stream",
     "text": [
      "0 A\n",
      "1 B\n",
      "2 C\n",
      "3 D\n",
      "True\n"
     ]
    }
   ],
   "source": [
    "names: list[str] = [chr(i) for i in range (65,91)]\n",
    "\n",
    "for i in range(len(names)):\n",
    "    print(i, names[i])\n",
    "    if names[i] == \"D\":\n",
    "        print(\"True\")\n",
    "        break"
   ]
  },
  {
   "cell_type": "code",
   "execution_count": 92,
   "metadata": {},
   "outputs": [
    {
     "data": {
      "text/plain": [
       "False"
      ]
     },
     "execution_count": 92,
     "metadata": {},
     "output_type": "execute_result"
    }
   ],
   "source": [
    "names: list[str] = [chr(i) for i in range (65,91)]\n",
    "\n",
    "\"D\" not in names"
   ]
  },
  {
   "cell_type": "code",
   "execution_count": 93,
   "metadata": {},
   "outputs": [
    {
     "ename": "KeyboardInterrupt",
     "evalue": "Interrupted by user",
     "output_type": "error",
     "traceback": [
      "\u001b[1;31m---------------------------------------------------------------------------\u001b[0m",
      "\u001b[1;31mKeyboardInterrupt\u001b[0m                         Traceback (most recent call last)",
      "Cell \u001b[1;32mIn[93], line 3\u001b[0m\n\u001b[0;32m      1\u001b[0m names : \u001b[38;5;28mlist\u001b[39m[\u001b[38;5;28mstr\u001b[39m] \u001b[38;5;241m=\u001b[39m [\u001b[38;5;124m'\u001b[39m\u001b[38;5;124mSir Zia\u001b[39m\u001b[38;5;124m'\u001b[39m, \u001b[38;5;124m'\u001b[39m\u001b[38;5;124mSir Nasir\u001b[39m\u001b[38;5;124m'\u001b[39m, \u001b[38;5;124m'\u001b[39m\u001b[38;5;124mQasim\u001b[39m\u001b[38;5;124m'\u001b[39m, \u001b[38;5;124m'\u001b[39m\u001b[38;5;124mWasim\u001b[39m\u001b[38;5;124m'\u001b[39m]\n\u001b[1;32m----> 3\u001b[0m uninput : \u001b[38;5;28mstr\u001b[39m \u001b[38;5;241m=\u001b[39m \u001b[38;5;28minput\u001b[39m(\u001b[38;5;124m\"\u001b[39m\u001b[38;5;124mEnter your Name\u001b[39m\u001b[38;5;124m\"\u001b[39m)\n\u001b[0;32m      5\u001b[0m uninput \u001b[38;5;129;01min\u001b[39;00m names\n",
      "File \u001b[1;32mc:\\Users\\HP\\anaconda3\\Lib\\site-packages\\ipykernel\\kernelbase.py:1202\u001b[0m, in \u001b[0;36mKernel.raw_input\u001b[1;34m(self, prompt)\u001b[0m\n\u001b[0;32m   1200\u001b[0m     msg \u001b[38;5;241m=\u001b[39m \u001b[38;5;124m\"\u001b[39m\u001b[38;5;124mraw_input was called, but this frontend does not support input requests.\u001b[39m\u001b[38;5;124m\"\u001b[39m\n\u001b[0;32m   1201\u001b[0m     \u001b[38;5;28;01mraise\u001b[39;00m StdinNotImplementedError(msg)\n\u001b[1;32m-> 1202\u001b[0m \u001b[38;5;28;01mreturn\u001b[39;00m \u001b[38;5;28mself\u001b[39m\u001b[38;5;241m.\u001b[39m_input_request(\n\u001b[0;32m   1203\u001b[0m     \u001b[38;5;28mstr\u001b[39m(prompt),\n\u001b[0;32m   1204\u001b[0m     \u001b[38;5;28mself\u001b[39m\u001b[38;5;241m.\u001b[39m_parent_ident[\u001b[38;5;124m\"\u001b[39m\u001b[38;5;124mshell\u001b[39m\u001b[38;5;124m\"\u001b[39m],\n\u001b[0;32m   1205\u001b[0m     \u001b[38;5;28mself\u001b[39m\u001b[38;5;241m.\u001b[39mget_parent(\u001b[38;5;124m\"\u001b[39m\u001b[38;5;124mshell\u001b[39m\u001b[38;5;124m\"\u001b[39m),\n\u001b[0;32m   1206\u001b[0m     password\u001b[38;5;241m=\u001b[39m\u001b[38;5;28;01mFalse\u001b[39;00m,\n\u001b[0;32m   1207\u001b[0m )\n",
      "File \u001b[1;32mc:\\Users\\HP\\anaconda3\\Lib\\site-packages\\ipykernel\\kernelbase.py:1245\u001b[0m, in \u001b[0;36mKernel._input_request\u001b[1;34m(self, prompt, ident, parent, password)\u001b[0m\n\u001b[0;32m   1242\u001b[0m \u001b[38;5;28;01mexcept\u001b[39;00m \u001b[38;5;167;01mKeyboardInterrupt\u001b[39;00m:\n\u001b[0;32m   1243\u001b[0m     \u001b[38;5;66;03m# re-raise KeyboardInterrupt, to truncate traceback\u001b[39;00m\n\u001b[0;32m   1244\u001b[0m     msg \u001b[38;5;241m=\u001b[39m \u001b[38;5;124m\"\u001b[39m\u001b[38;5;124mInterrupted by user\u001b[39m\u001b[38;5;124m\"\u001b[39m\n\u001b[1;32m-> 1245\u001b[0m     \u001b[38;5;28;01mraise\u001b[39;00m \u001b[38;5;167;01mKeyboardInterrupt\u001b[39;00m(msg) \u001b[38;5;28;01mfrom\u001b[39;00m \u001b[38;5;28;01mNone\u001b[39;00m\n\u001b[0;32m   1246\u001b[0m \u001b[38;5;28;01mexcept\u001b[39;00m \u001b[38;5;167;01mException\u001b[39;00m:\n\u001b[0;32m   1247\u001b[0m     \u001b[38;5;28mself\u001b[39m\u001b[38;5;241m.\u001b[39mlog\u001b[38;5;241m.\u001b[39mwarning(\u001b[38;5;124m\"\u001b[39m\u001b[38;5;124mInvalid Message:\u001b[39m\u001b[38;5;124m\"\u001b[39m, exc_info\u001b[38;5;241m=\u001b[39m\u001b[38;5;28;01mTrue\u001b[39;00m)\n",
      "\u001b[1;31mKeyboardInterrupt\u001b[0m: Interrupted by user"
     ]
    }
   ],
   "source": [
    "names : list[str] = ['Sir Zia', 'Sir Nasir', 'Qasim', 'Wasim']\n",
    "\n",
    "uninput : str = input(\"Enter your Name\")\n",
    "\n",
    "uninput in names"
   ]
  },
  {
   "cell_type": "code",
   "execution_count": null,
   "metadata": {},
   "outputs": [
    {
     "data": {
      "text/plain": [
       "True"
      ]
     },
     "execution_count": 2,
     "metadata": {},
     "output_type": "execute_result"
    }
   ],
   "source": [
    "names : list[str] = ['Sir Zia', 'Sir Nasir', 'Qasim', 'Wasim']\n",
    "\n",
    "uninput : str = input(\"Enter your Name\")\n",
    "\n",
    "uninput not in names"
   ]
  },
  {
   "cell_type": "markdown",
   "metadata": {},
   "source": [
    "<img src = 'https://learningmonkey.in/wp-content/uploads/2021/05/Operator-Precedence-and-Associativity-in-Python.jpg'>"
   ]
  },
  {
   "cell_type": "markdown",
   "metadata": {},
   "source": [
    "Operator Precedence solve through PEMDAS rules "
   ]
  },
  {
   "cell_type": "code",
   "execution_count": null,
   "metadata": {},
   "outputs": [
    {
     "name": "stdout",
     "output_type": "stream",
     "text": [
      "0\n"
     ]
    }
   ],
   "source": [
    "print((6 + 3) - (6 + 3))\n"
   ]
  },
  {
   "cell_type": "code",
   "execution_count": null,
   "metadata": {},
   "outputs": [
    {
     "name": "stdout",
     "output_type": "stream",
     "text": [
      "115\n"
     ]
    }
   ],
   "source": [
    "print(100 + 5 * 3)\n"
   ]
  },
  {
   "cell_type": "code",
   "execution_count": null,
   "metadata": {},
   "outputs": [
    {
     "name": "stdout",
     "output_type": "stream",
     "text": [
      "Sir Zia\n",
      "Founder of PIAIC is SIR ZIA\n"
     ]
    }
   ],
   "source": [
    "\n",
    "names = [\"Qasim\",\"Sir Zia\",\"Sir Inam\"]\n",
    "print(names[-2])\n",
    "print(f'Founder of PIAIC is {names[-2].upper()}')"
   ]
  },
  {
   "cell_type": "code",
   "execution_count": null,
   "metadata": {},
   "outputs": [
    {
     "name": "stdout",
     "output_type": "stream",
     "text": [
      "['A', 'B', 'C', 'D', 'E', 'F', 'G', 'H', 'I', 'J', 'K', 'L', 'M', 'N', 'O', 'P', 'Q', 'R', 'S', 'T', 'U', 'V', 'W', 'X', 'Y', 'Z']\n"
     ]
    }
   ],
   "source": [
    "characters : list[str] = list(\"ABCDEFGHIJKLMNOPQRSTUVWXYZ\")\n",
    "print(characters)"
   ]
  },
  {
   "cell_type": "code",
   "execution_count": null,
   "metadata": {},
   "outputs": [
    {
     "name": "stdout",
     "output_type": "stream",
     "text": [
      "['A', 'B']\n",
      "['A', 'B']\n",
      "['A', 'B']\n",
      "['A', 'B']\n",
      "['A', 'B']\n",
      "['A', 'D', 'G', 'J', 'M', 'P', 'S', 'V', 'Y']\n",
      "['Z', 'Y', 'X', 'W', 'V', 'U', 'T', 'S', 'R', 'Q', 'P', 'O', 'N', 'M', 'L', 'K', 'J', 'I', 'H', 'G', 'F', 'E', 'D', 'C', 'B', 'A']\n",
      "['Y', 'X', 'W']\n"
     ]
    }
   ],
   "source": [
    "characters:list[str] = ['A', 'B', 'C', 'D', 'E', 'F', 'G', 'H', 'I', 'J', 'K', 'L', 'M', 'N', 'O', 'P', 'Q', 'R', 'S', 'T', 'U', 'V', 'W', 'X', 'Y', 'Z']\n",
    "print(characters[0:2])\n",
    "print(characters[:2])\n",
    "print(characters[-26:-24])\n",
    "print(characters[0:2:1])\n",
    "print(characters[0:2:])\n",
    "print(characters[::3])\n",
    "print(characters[::-1])\n",
    "print(characters[-2:-5:-1])\n",
    "\n"
   ]
  },
  {
   "cell_type": "code",
   "execution_count": null,
   "metadata": {},
   "outputs": [
    {
     "name": "stdout",
     "output_type": "stream",
     "text": [
      "['Sir Zia', 'Wasim', 'Qasim', 0, True]\n",
      "True\n"
     ]
    }
   ],
   "source": [
    "names : list[any] = [\"Sir Zia\",\"Wasim\",\"Qasim\",0,True]\n",
    "print(names)\n",
    "a : str = names.pop()\n",
    "print(a)\n",
    "\n"
   ]
  },
  {
   "cell_type": "code",
   "execution_count": null,
   "metadata": {},
   "outputs": [
    {
     "name": "stdout",
     "output_type": "stream",
     "text": [
      "['Sir Zia', 'Wasim', 'Qasim', 0, True]\n",
      "Wasim\n"
     ]
    }
   ],
   "source": [
    "names : list[any] = [\"Sir Zia\",\"Wasim\",\"Qasim\",0,True]\n",
    "print(names)\n",
    "a : str = names.pop(1)\n",
    "print(a)\n"
   ]
  },
  {
   "cell_type": "code",
   "execution_count": null,
   "metadata": {},
   "outputs": [
    {
     "name": "stdout",
     "output_type": "stream",
     "text": [
      "['apple', 'banana', 'cherry']\n",
      "[1, 5, 7, 9, 3]\n",
      "[True, False, False]\n"
     ]
    }
   ],
   "source": [
    "list1 = [\"apple\", \"banana\", \"cherry\"]\n",
    "list2 = [1, 5, 7, 9, 3]\n",
    "list3 = [True, False, False]\n",
    "\n",
    "print(list1)\n",
    "print(list2)\n",
    "print(list3)\n"
   ]
  },
  {
   "cell_type": "code",
   "execution_count": null,
   "metadata": {},
   "outputs": [
    {
     "name": "stdout",
     "output_type": "stream",
     "text": [
      "['abc', 34, True, 40, 'male']\n"
     ]
    }
   ],
   "source": [
    "list1 = [\"abc\", 34, True, 40, \"male\"]\n",
    "\n",
    "print(list1)\n"
   ]
  },
  {
   "cell_type": "code",
   "execution_count": null,
   "metadata": {},
   "outputs": [
    {
     "name": "stdout",
     "output_type": "stream",
     "text": [
      "banana\n",
      "cherry\n"
     ]
    }
   ],
   "source": [
    "#Python - Access List Items\n",
    "\n",
    "\n",
    "thislist = [\"apple\", \"banana\", \"cherry\"]\n",
    "print(thislist[1])\n",
    "print(thislist[-1])\n"
   ]
  },
  {
   "cell_type": "code",
   "execution_count": null,
   "metadata": {},
   "outputs": [
    {
     "name": "stdout",
     "output_type": "stream",
     "text": [
      "['cherry', 'orange', 'kiwi']\n"
     ]
    }
   ],
   "source": [
    "#Return the third, fourth, and fifth item:\n",
    "\n",
    "thislist = [\"apple\", \"banana\", \"cherry\", \"orange\", \"kiwi\", \"melon\", \"mango\"]\n",
    "print(thislist[2:5])\n"
   ]
  },
  {
   "cell_type": "code",
   "execution_count": null,
   "metadata": {},
   "outputs": [
    {
     "name": "stdout",
     "output_type": "stream",
     "text": [
      "['apple', 'banana', 'cherry', 'orange']\n"
     ]
    }
   ],
   "source": [
    "thislist = [\"apple\", \"banana\", \"cherry\", \"orange\", \"kiwi\", \"melon\", \"mango\"]\n",
    "print(thislist[:4])"
   ]
  },
  {
   "cell_type": "code",
   "execution_count": null,
   "metadata": {},
   "outputs": [
    {
     "name": "stdout",
     "output_type": "stream",
     "text": [
      "['cherry', 'orange', 'kiwi', 'melon', 'mango']\n"
     ]
    }
   ],
   "source": [
    "thislist = [\"apple\", \"banana\", \"cherry\", \"orange\", \"kiwi\", \"melon\", \"mango\"]\n",
    "print(thislist[2:])\n"
   ]
  },
  {
   "cell_type": "code",
   "execution_count": null,
   "metadata": {},
   "outputs": [
    {
     "name": "stdout",
     "output_type": "stream",
     "text": [
      "Yes, 'apple' is in the fruits list\n"
     ]
    }
   ],
   "source": [
    "thislist = [\"apple\", \"banana\", \"cherry\"]\n",
    "if \"apple\" in thislist:\n",
    "  print(\"Yes, 'apple' is in the fruits list\")\n"
   ]
  },
  {
   "cell_type": "code",
   "execution_count": null,
   "metadata": {},
   "outputs": [
    {
     "name": "stdout",
     "output_type": "stream",
     "text": [
      "['apple', 'blackcurrant', 'cherry']\n"
     ]
    }
   ],
   "source": [
    "#Change List Items\n",
    "thislist = [\"apple\", \"banana\", \"cherry\"]\n",
    "thislist[1] = \"blackcurrant\"\n",
    "print(thislist)\n"
   ]
  },
  {
   "cell_type": "code",
   "execution_count": null,
   "metadata": {},
   "outputs": [
    {
     "name": "stdout",
     "output_type": "stream",
     "text": [
      "['apple', 'blackcurrant', 'watermelon', 'orange', 'kiwi', 'mango']\n"
     ]
    }
   ],
   "source": [
    "#Change a Range of Item Values\n",
    "\n",
    "thislist = [\"apple\", \"banana\", \"cherry\", \"orange\", \"kiwi\", \"mango\"]\n",
    "thislist[1:3] = [\"blackcurrant\", \"watermelon\"]\n",
    "print(thislist)\n"
   ]
  },
  {
   "cell_type": "code",
   "execution_count": null,
   "metadata": {},
   "outputs": [
    {
     "name": "stdout",
     "output_type": "stream",
     "text": [
      "['apple', 'banana', 'watermelon', 'cherry']\n"
     ]
    }
   ],
   "source": [
    "#Insert Items\n",
    "thislist = [\"apple\", \"banana\", \"cherry\"]\n",
    "thislist.insert(2, \"watermelon\")\n",
    "print(thislist)\n",
    "\n"
   ]
  },
  {
   "cell_type": "code",
   "execution_count": null,
   "metadata": {},
   "outputs": [
    {
     "name": "stdout",
     "output_type": "stream",
     "text": [
      "['apple', 'banana', 'cherry', 'orange']\n"
     ]
    }
   ],
   "source": [
    "#Append Items\n",
    "\n",
    "\n",
    "thislist = [\"apple\", \"banana\", \"cherry\"]\n",
    "thislist.append(\"orange\")\n",
    "print(thislist)\n"
   ]
  },
  {
   "cell_type": "code",
   "execution_count": null,
   "metadata": {},
   "outputs": [
    {
     "name": "stdout",
     "output_type": "stream",
     "text": [
      "['apple', 'banana', 'cherry', 'mango', 'pineapple', 'papaya']\n"
     ]
    }
   ],
   "source": [
    "#Extend List\n",
    "thislist = [\"apple\", \"banana\", \"cherry\"]\n",
    "tropical = [\"mango\", \"pineapple\", \"papaya\"]\n",
    "thislist.extend(tropical)\n",
    "print(thislist)\n"
   ]
  },
  {
   "cell_type": "code",
   "execution_count": null,
   "metadata": {},
   "outputs": [
    {
     "name": "stdout",
     "output_type": "stream",
     "text": [
      "['apple', 'banana', 'cherry', 'kiwi', 'orange']\n"
     ]
    }
   ],
   "source": [
    "#Add Any Iterable\n",
    "thislist = [\"apple\", \"banana\", \"cherry\"]\n",
    "thistuple = (\"kiwi\", \"orange\")\n",
    "thislist.extend(thistuple)\n",
    "print(thislist)\n"
   ]
  },
  {
   "cell_type": "code",
   "execution_count": null,
   "metadata": {},
   "outputs": [
    {
     "name": "stdout",
     "output_type": "stream",
     "text": [
      "['apple', 'cherry']\n"
     ]
    }
   ],
   "source": [
    "#Remove Specified Item\n",
    "thislist = [\"apple\", \"banana\", \"cherry\"]\n",
    "thislist.remove(\"banana\")\n",
    "print(thislist)\n"
   ]
  },
  {
   "cell_type": "code",
   "execution_count": null,
   "metadata": {},
   "outputs": [
    {
     "name": "stdout",
     "output_type": "stream",
     "text": [
      "['apple', 'cherry', 'banana', 'kiwi']\n"
     ]
    }
   ],
   "source": [
    "thislist = [\"apple\", \"banana\", \"cherry\", \"banana\", \"kiwi\"]\n",
    "thislist.remove(\"banana\")\n",
    "print(thislist)"
   ]
  },
  {
   "cell_type": "code",
   "execution_count": null,
   "metadata": {},
   "outputs": [
    {
     "name": "stdout",
     "output_type": "stream",
     "text": [
      "['apple', 'cherry']\n"
     ]
    }
   ],
   "source": [
    "#Remove Specified Index\n",
    "#The pop() method removes the specified index.\n",
    "\n",
    "thislist = [\"apple\", \"banana\", \"cherry\"]\n",
    "thislist.pop(1)\n",
    "print(thislist)\n",
    "\n"
   ]
  },
  {
   "cell_type": "code",
   "execution_count": null,
   "metadata": {},
   "outputs": [
    {
     "name": "stdout",
     "output_type": "stream",
     "text": [
      "['apple', 'banana']\n"
     ]
    }
   ],
   "source": [
    "#Remove the last item:\n",
    "thislist = [\"apple\", \"banana\", \"cherry\"]\n",
    "thislist.pop()\n",
    "print(thislist)\n"
   ]
  },
  {
   "cell_type": "code",
   "execution_count": null,
   "metadata": {},
   "outputs": [
    {
     "name": "stdout",
     "output_type": "stream",
     "text": [
      "['banana', 'cherry']\n"
     ]
    }
   ],
   "source": [
    "#The del keyword also removes the specified index:\n",
    "\n",
    "thislist = [\"apple\", \"banana\", \"cherry\"]\n",
    "del thislist[0]\n",
    "print(thislist)\n"
   ]
  },
  {
   "cell_type": "code",
   "execution_count": null,
   "metadata": {},
   "outputs": [],
   "source": [
    "#The del keyword can also delete the list completely.\n",
    "\n",
    "thislist = [\"apple\", \"banana\", \"cherry\"]\n",
    "del thislist\n"
   ]
  },
  {
   "cell_type": "code",
   "execution_count": null,
   "metadata": {},
   "outputs": [
    {
     "name": "stdout",
     "output_type": "stream",
     "text": [
      "[]\n"
     ]
    }
   ],
   "source": [
    "#Clear the List, The list still remains, but it has no content.\n",
    "\n",
    "thislist = [\"apple\", \"banana\", \"cherry\"]\n",
    "thislist.clear()\n",
    "print(thislist)\n",
    "\n"
   ]
  },
  {
   "cell_type": "code",
   "execution_count": null,
   "metadata": {},
   "outputs": [
    {
     "data": {
      "text/plain": [
       "['append',\n",
       " 'clear',\n",
       " 'copy',\n",
       " 'count',\n",
       " 'extend',\n",
       " 'index',\n",
       " 'insert',\n",
       " 'pop',\n",
       " 'remove',\n",
       " 'reverse',\n",
       " 'sort']"
      ]
     },
     "execution_count": 49,
     "metadata": {},
     "output_type": "execute_result"
    }
   ],
   "source": [
    "[i for i in dir(list) if \"__\" not in i]"
   ]
  },
  {
   "cell_type": "code",
   "execution_count": null,
   "metadata": {},
   "outputs": [
    {
     "name": "stdout",
     "output_type": "stream",
     "text": [
      "['a', 'b', 'c']\n",
      "['a', 'b', 'c']\n",
      "['a', 'b', 'c']\n",
      "['Pakistan', 'b', 'c']\n"
     ]
    }
   ],
   "source": [
    "#copy \n",
    "a: list[str] = ['a','b','c']\n",
    "b = a.copy()\n",
    "print(a)\n",
    "print(b)\n",
    "\n",
    "b[0] = \"Pakistan\"\n",
    "\n",
    "print(a)\n",
    "print(b)"
   ]
  },
  {
   "cell_type": "code",
   "execution_count": null,
   "metadata": {},
   "outputs": [
    {
     "name": "stdout",
     "output_type": "stream",
     "text": [
      "2\n",
      "3\n"
     ]
    }
   ],
   "source": [
    "#Count\n",
    "\n",
    "names : list[str] = ['a','a','a','b','b','c','c']\n",
    "print(names.count(\"c\"))\n",
    "print(names.count(\"a\"))\n"
   ]
  },
  {
   "cell_type": "code",
   "execution_count": null,
   "metadata": {},
   "outputs": [
    {
     "name": "stdout",
     "output_type": "stream",
     "text": [
      "['A', 'B', 'C', 'D', 'E', 'F', 'G']\n",
      "['G', 'F', 'E', 'D', 'C', 'B', 'A']\n",
      "['A', 'B', 'C', 'D', 'E', 'F', 'G']\n"
     ]
    }
   ],
   "source": [
    "names : list [str] = list(\"ABCDEFG\")\n",
    "print(names)\n",
    "names.reverse()\n",
    "print(names)\n",
    "names.sort()\n",
    "print(names)\n"
   ]
  },
  {
   "cell_type": "code",
   "execution_count": null,
   "metadata": {},
   "outputs": [
    {
     "name": "stdout",
     "output_type": "stream",
     "text": [
      "The last motorcycle I owned was a Suzuki.\n"
     ]
    }
   ],
   "source": [
    "motorcycles = ['honda', 'yamaha', 'suzuki']\n",
    "\n",
    "last_owned = motorcycles.pop()\n",
    "print(f\"The last motorcycle I owned was a {last_owned.title()}.\")"
   ]
  },
  {
   "cell_type": "code",
   "execution_count": null,
   "metadata": {},
   "outputs": [
    {
     "name": "stdout",
     "output_type": "stream",
     "text": [
      "The first motorcycle I owned was a Honda.\n"
     ]
    }
   ],
   "source": [
    "motorcycles = ['honda', 'yamaha', 'suzuki']\n",
    "\n",
    "first_owned = motorcycles.pop(0)\n",
    "print(f\"The first motorcycle I owned was a {first_owned.title()}.\")"
   ]
  },
  {
   "cell_type": "code",
   "execution_count": null,
   "metadata": {},
   "outputs": [
    {
     "name": "stdout",
     "output_type": "stream",
     "text": [
      "Here is the original list:\n",
      "['bmw', 'audi', 'toyota', 'subaru']\n",
      "\n",
      "Here is the sorted list:\n",
      "['audi', 'bmw', 'subaru', 'toyota']\n",
      "\n",
      "Here is the original list again:\n",
      "['bmw', 'audi', 'toyota', 'subaru']\n"
     ]
    }
   ],
   "source": [
    "cars = ['bmw', 'audi', 'toyota', 'subaru']\n",
    "\n",
    "print(\"Here is the original list:\")\n",
    "print(cars)\n",
    "\n",
    "print(\"\\nHere is the sorted list:\")\n",
    "print(sorted(cars))\n",
    "\n",
    "print(\"\\nHere is the original list again:\")\n",
    "print(cars)"
   ]
  },
  {
   "cell_type": "code",
   "execution_count": null,
   "metadata": {},
   "outputs": [
    {
     "name": "stdout",
     "output_type": "stream",
     "text": [
      "Alice, that was a great trick!\n",
      "David, that was a great trick!\n",
      "Carolina, that was a great trick!\n"
     ]
    }
   ],
   "source": [
    "#Work Within a for Loop\n",
    "\n",
    "magicians = ['alice', 'david', 'carolina']\n",
    "for magician in magicians:\n",
    "    print(f\"{magician.title()}, that was a great trick!\")"
   ]
  },
  {
   "cell_type": "code",
   "execution_count": null,
   "metadata": {},
   "outputs": [
    {
     "name": "stdout",
     "output_type": "stream",
     "text": [
      "Alice, that was a great trick!\n",
      "I can't wait to see your next trick, Alice.\n",
      "\n",
      "David, that was a great trick!\n",
      "I can't wait to see your next trick, David.\n",
      "\n",
      "Carolina, that was a great trick!\n",
      "I can't wait to see your next trick, Carolina.\n",
      "\n"
     ]
    }
   ],
   "source": [
    "magicians = ['alice', 'david', 'carolina']\n",
    "for magician in magicians:\n",
    "    print(f\"{magician.title()}, that was a great trick!\")\n",
    "    print(f\"I can't wait to see your next trick, {magician.title()}.\\n\")\n"
   ]
  },
  {
   "cell_type": "code",
   "execution_count": null,
   "metadata": {},
   "outputs": [
    {
     "name": "stdout",
     "output_type": "stream",
     "text": [
      "[1, 2, 3, 4, 5]\n"
     ]
    }
   ],
   "source": [
    "numbers = list(range(1, 6))\n",
    "print(numbers)"
   ]
  },
  {
   "cell_type": "code",
   "execution_count": null,
   "metadata": {},
   "outputs": [
    {
     "name": "stdout",
     "output_type": "stream",
     "text": [
      "[2, 4, 6, 8, 10]\n"
     ]
    }
   ],
   "source": [
    "even_numbers = list(range(2, 11, 2))\n",
    "print(even_numbers)"
   ]
  },
  {
   "cell_type": "code",
   "execution_count": null,
   "metadata": {},
   "outputs": [
    {
     "name": "stdout",
     "output_type": "stream",
     "text": [
      "[1, 4, 9, 16, 25, 36, 49, 64, 81, 100]\n"
     ]
    }
   ],
   "source": [
    "squares = []\n",
    "for value in range(1, 11):\n",
    "    square = value ** 2\n",
    "    squares.append(square)\n",
    "print(squares)"
   ]
  },
  {
   "cell_type": "code",
   "execution_count": null,
   "metadata": {},
   "outputs": [
    {
     "name": "stdout",
     "output_type": "stream",
     "text": [
      "[2, 4, 6, 8, 10, 12, 14, 16, 18, 20]\n"
     ]
    }
   ],
   "source": [
    "squares = []\n",
    "for value in range(1,11):\n",
    "    squares.append(value*2)\n",
    "print(squares)"
   ]
  },
  {
   "cell_type": "code",
   "execution_count": null,
   "metadata": {},
   "outputs": [
    {
     "data": {
      "text/plain": [
       "0"
      ]
     },
     "execution_count": 72,
     "metadata": {},
     "output_type": "execute_result"
    }
   ],
   "source": [
    "digits = [1, 2, 3, 4, 5, 6, 7, 8, 9, 0]\n",
    "min(digits)\n"
   ]
  },
  {
   "cell_type": "code",
   "execution_count": null,
   "metadata": {},
   "outputs": [
    {
     "name": "stdout",
     "output_type": "stream",
     "text": [
      "apple\n",
      "banana\n",
      "cherry\n"
     ]
    },
    {
     "data": {
      "text/plain": [
       "[None, None, None]"
      ]
     },
     "execution_count": 2,
     "metadata": {},
     "output_type": "execute_result"
    }
   ],
   "source": [
    "thislist = [\"apple\", \"banana\", \"cherry\"]\n",
    "[print(x) for x in thislist]"
   ]
  },
  {
   "cell_type": "code",
   "execution_count": null,
   "metadata": {},
   "outputs": [
    {
     "name": "stdout",
     "output_type": "stream",
     "text": [
      "['apple', 'banana', 'mango']\n"
     ]
    }
   ],
   "source": [
    "#List Comprehension\n",
    "\n",
    "fruits = [\"apple\", \"banana\", \"cherry\", \"kiwi\", \"mango\"]\n",
    "newlist = []\n",
    "\n",
    "for x in fruits:\n",
    "  if \"a\" in x:\n",
    "    newlist.append(x)\n",
    "\n",
    "print(newlist)"
   ]
  },
  {
   "cell_type": "code",
   "execution_count": null,
   "metadata": {},
   "outputs": [
    {
     "name": "stdout",
     "output_type": "stream",
     "text": [
      "['apple', 'banana', 'mango']\n"
     ]
    }
   ],
   "source": [
    "fruits = [\"apple\", \"banana\", \"cherry\", \"kiwi\", \"mango\"]\n",
    "\n",
    "newlist = [x for x in fruits if \"a\" in x]\n",
    "\n",
    "print(newlist)"
   ]
  },
  {
   "cell_type": "code",
   "execution_count": null,
   "metadata": {},
   "outputs": [
    {
     "name": "stdout",
     "output_type": "stream",
     "text": [
      "Here are the first three players on my team:\n",
      "Charles\n",
      "Martina\n",
      "Michael\n"
     ]
    }
   ],
   "source": [
    "players = ['charles', 'martina', 'michael', 'florence', 'eli']\n",
    "print(\"Here are the first three players on my team:\")\n",
    "\n",
    "for player in players[:3]:\n",
    "    print(player.title())"
   ]
  },
  {
   "cell_type": "code",
   "execution_count": null,
   "metadata": {},
   "outputs": [
    {
     "name": "stdout",
     "output_type": "stream",
     "text": [
      "Enter User Name WASIM\n",
      "Enter Password 123\n",
      "Valid User\n"
     ]
    }
   ],
   "source": [
    "data_base : list[tuple[str,str]] = [\n",
    "    (\"WASIM\",'123'), (\"QASIM\",'456'), (\"ZIA KHAN\",'789')]\n",
    "\n",
    "input_user : str = input(\"Enter User Name \")\n",
    "input_password : str = input(\"Enter Password \")\n",
    "\n",
    "for row in data_base:\n",
    "    user, password = row\n",
    "    if input_user == user and input_password == password:\n",
    "        print(\"Valid User\")\n",
    "        break\n",
    "    else:\n",
    "        print(\"Invalid User or Password\")\n",
    "\n"
   ]
  },
  {
   "cell_type": "code",
   "execution_count": null,
   "metadata": {},
   "outputs": [
    {
     "name": "stdout",
     "output_type": "stream",
     "text": [
      "[1, 4, 9, 16, 25, 36, 49, 64, 81, 100]\n"
     ]
    }
   ],
   "source": [
    "print([i**2 for i in range(1,11)])"
   ]
  },
  {
   "cell_type": "code",
   "execution_count": null,
   "metadata": {},
   "outputs": [
    {
     "name": "stdout",
     "output_type": "stream",
     "text": [
      "{1, 2, 3, 'c', 'b', 'a'}\n"
     ]
    }
   ],
   "source": [
    "#Join Sets The union() method returns a new set with all items from both sets:\n",
    "\n",
    "set1 = {\"a\", \"b\" , \"c\"}\n",
    "set2 = {1, 2, 3}\n",
    "\n",
    "set3 = set1.union(set2)\n",
    "print(set3)\n"
   ]
  },
  {
   "cell_type": "code",
   "execution_count": null,
   "metadata": {},
   "outputs": [
    {
     "name": "stdout",
     "output_type": "stream",
     "text": [
      "{1, 2, 3, 'c', 'b', 'a'}\n"
     ]
    }
   ],
   "source": [
    "#The update() method inserts the items in set2 into set1:\n",
    "#Note: Both union() and update() will exclude any duplicate items.\n",
    "\n",
    "\n",
    "set1 = {\"a\", \"b\" , \"c\"}\n",
    "set2 = {1, 2, 3}\n",
    "\n",
    "set1.update(set2)\n",
    "print(set1)"
   ]
  },
  {
   "cell_type": "code",
   "execution_count": null,
   "metadata": {},
   "outputs": [
    {
     "name": "stdout",
     "output_type": "stream",
     "text": [
      "{'apple'}\n"
     ]
    }
   ],
   "source": [
    "#The intersection_update() method will keep only the items that are present in both sets.\n",
    "\n",
    "x = {\"apple\", \"banana\", \"cherry\"}\n",
    "y = {\"google\", \"microsoft\", \"apple\"}\n",
    "\n",
    "x.intersection_update(y)\n",
    "\n",
    "print(x)"
   ]
  },
  {
   "cell_type": "code",
   "execution_count": null,
   "metadata": {},
   "outputs": [
    {
     "name": "stdout",
     "output_type": "stream",
     "text": [
      "{'google', 'cherry', 'banana', 'microsoft'}\n"
     ]
    }
   ],
   "source": [
    "#The symmetric_difference_update() method will keep only the elements that are NOT present in both sets.\n",
    "\n",
    "x = {\"apple\", \"banana\", \"cherry\"}\n",
    "y = {\"google\", \"microsoft\", \"apple\"}\n",
    "\n",
    "x.symmetric_difference_update(y)\n",
    "\n",
    "print(x)\n"
   ]
  },
  {
   "cell_type": "code",
   "execution_count": null,
   "metadata": {},
   "outputs": [],
   "source": [
    "#Return a set that contains all items from both sets, except items that are present in both:\n",
    "\n",
    "x = {\"apple\", \"banana\", \"cherry\"}\n",
    "y = {\"google\", \"microsoft\", \"apple\"}\n",
    "\n",
    "z = x.symmetric_difference(y)\n",
    "\n",
    "print(z)"
   ]
  },
  {
   "cell_type": "code",
   "execution_count": null,
   "metadata": {},
   "outputs": [
    {
     "data": {
      "text/html": [
       "<div>\n",
       "<style scoped>\n",
       "    .dataframe tbody tr th:only-of-type {\n",
       "        vertical-align: middle;\n",
       "    }\n",
       "\n",
       "    .dataframe tbody tr th {\n",
       "        vertical-align: top;\n",
       "    }\n",
       "\n",
       "    .dataframe thead th {\n",
       "        text-align: right;\n",
       "    }\n",
       "</style>\n",
       "<table border=\"1\" class=\"dataframe\">\n",
       "  <thead>\n",
       "    <tr style=\"text-align: right;\">\n",
       "      <th></th>\n",
       "      <th>Method</th>\n",
       "      <th>Description</th>\n",
       "    </tr>\n",
       "  </thead>\n",
       "  <tbody>\n",
       "    <tr>\n",
       "      <th>0</th>\n",
       "      <td>add()</td>\n",
       "      <td>Adds an element to the set</td>\n",
       "    </tr>\n",
       "    <tr>\n",
       "      <th>1</th>\n",
       "      <td>clear()</td>\n",
       "      <td>Removes all the elements from the set</td>\n",
       "    </tr>\n",
       "    <tr>\n",
       "      <th>2</th>\n",
       "      <td>copy()</td>\n",
       "      <td>Returns a copy of the set</td>\n",
       "    </tr>\n",
       "    <tr>\n",
       "      <th>3</th>\n",
       "      <td>difference()</td>\n",
       "      <td>Returns a set containing the difference betwee...</td>\n",
       "    </tr>\n",
       "    <tr>\n",
       "      <th>4</th>\n",
       "      <td>difference_update()</td>\n",
       "      <td>Removes the items in this set that are also in...</td>\n",
       "    </tr>\n",
       "    <tr>\n",
       "      <th>5</th>\n",
       "      <td>discard()</td>\n",
       "      <td>Remove the specified item</td>\n",
       "    </tr>\n",
       "    <tr>\n",
       "      <th>6</th>\n",
       "      <td>intersection()</td>\n",
       "      <td>Returns a set, that is the intersection of two...</td>\n",
       "    </tr>\n",
       "    <tr>\n",
       "      <th>7</th>\n",
       "      <td>intersection_update()</td>\n",
       "      <td>Removes the items in this set that are not pre...</td>\n",
       "    </tr>\n",
       "    <tr>\n",
       "      <th>8</th>\n",
       "      <td>isdisjoint()</td>\n",
       "      <td>Returns whether two sets have a intersection o...</td>\n",
       "    </tr>\n",
       "    <tr>\n",
       "      <th>9</th>\n",
       "      <td>issubset()</td>\n",
       "      <td>Returns whether another set contains this set ...</td>\n",
       "    </tr>\n",
       "    <tr>\n",
       "      <th>10</th>\n",
       "      <td>issuperset()</td>\n",
       "      <td>Returns whether this set contains another set ...</td>\n",
       "    </tr>\n",
       "    <tr>\n",
       "      <th>11</th>\n",
       "      <td>pop()</td>\n",
       "      <td>Removes an element from the set</td>\n",
       "    </tr>\n",
       "    <tr>\n",
       "      <th>12</th>\n",
       "      <td>remove()</td>\n",
       "      <td>Removes the specified element</td>\n",
       "    </tr>\n",
       "    <tr>\n",
       "      <th>13</th>\n",
       "      <td>symmetric_difference()</td>\n",
       "      <td>Returns a set with the symmetric differences o...</td>\n",
       "    </tr>\n",
       "    <tr>\n",
       "      <th>14</th>\n",
       "      <td>symmetric_difference_update()</td>\n",
       "      <td>inserts the symmetric differences from this se...</td>\n",
       "    </tr>\n",
       "    <tr>\n",
       "      <th>15</th>\n",
       "      <td>union()</td>\n",
       "      <td>Return a set containing the union of sets</td>\n",
       "    </tr>\n",
       "    <tr>\n",
       "      <th>16</th>\n",
       "      <td>update()</td>\n",
       "      <td>Update the set with the union of this set and ...</td>\n",
       "    </tr>\n",
       "  </tbody>\n",
       "</table>\n",
       "</div>"
      ],
      "text/plain": [
       "                           Method  \\\n",
       "0                           add()   \n",
       "1                         clear()   \n",
       "2                          copy()   \n",
       "3                    difference()   \n",
       "4             difference_update()   \n",
       "5                       discard()   \n",
       "6                  intersection()   \n",
       "7           intersection_update()   \n",
       "8                    isdisjoint()   \n",
       "9                      issubset()   \n",
       "10                   issuperset()   \n",
       "11                          pop()   \n",
       "12                       remove()   \n",
       "13         symmetric_difference()   \n",
       "14  symmetric_difference_update()   \n",
       "15                        union()   \n",
       "16                       update()   \n",
       "\n",
       "                                          Description  \n",
       "0                          Adds an element to the set  \n",
       "1               Removes all the elements from the set  \n",
       "2                           Returns a copy of the set  \n",
       "3   Returns a set containing the difference betwee...  \n",
       "4   Removes the items in this set that are also in...  \n",
       "5                           Remove the specified item  \n",
       "6   Returns a set, that is the intersection of two...  \n",
       "7   Removes the items in this set that are not pre...  \n",
       "8   Returns whether two sets have a intersection o...  \n",
       "9   Returns whether another set contains this set ...  \n",
       "10  Returns whether this set contains another set ...  \n",
       "11                    Removes an element from the set  \n",
       "12                      Removes the specified element  \n",
       "13  Returns a set with the symmetric differences o...  \n",
       "14  inserts the symmetric differences from this se...  \n",
       "15          Return a set containing the union of sets  \n",
       "16  Update the set with the union of this set and ...  "
      ]
     },
     "execution_count": 5,
     "metadata": {},
     "output_type": "execute_result"
    }
   ],
   "source": [
    "import pandas as pd\n",
    "\n",
    "table = pd.read_html('https://www.w3schools.com/python/python_sets_methods.asp')\n",
    "table[0]"
   ]
  },
  {
   "cell_type": "code",
   "execution_count": null,
   "metadata": {},
   "outputs": [
    {
     "data": {
      "text/html": [
       "<div>\n",
       "<style scoped>\n",
       "    .dataframe tbody tr th:only-of-type {\n",
       "        vertical-align: middle;\n",
       "    }\n",
       "\n",
       "    .dataframe tbody tr th {\n",
       "        vertical-align: top;\n",
       "    }\n",
       "\n",
       "    .dataframe thead th {\n",
       "        text-align: right;\n",
       "    }\n",
       "</style>\n",
       "<table border=\"1\" class=\"dataframe\">\n",
       "  <thead>\n",
       "    <tr style=\"text-align: right;\">\n",
       "      <th></th>\n",
       "      <th>Method</th>\n",
       "      <th>Description</th>\n",
       "    </tr>\n",
       "  </thead>\n",
       "  <tbody>\n",
       "    <tr>\n",
       "      <th>0</th>\n",
       "      <td>clear()</td>\n",
       "      <td>Removes all the elements from the dictionary</td>\n",
       "    </tr>\n",
       "    <tr>\n",
       "      <th>1</th>\n",
       "      <td>copy()</td>\n",
       "      <td>Returns a copy of the dictionary</td>\n",
       "    </tr>\n",
       "    <tr>\n",
       "      <th>2</th>\n",
       "      <td>fromkeys()</td>\n",
       "      <td>Returns a dictionary with the specified keys a...</td>\n",
       "    </tr>\n",
       "    <tr>\n",
       "      <th>3</th>\n",
       "      <td>get()</td>\n",
       "      <td>Returns the value of the specified key</td>\n",
       "    </tr>\n",
       "    <tr>\n",
       "      <th>4</th>\n",
       "      <td>items()</td>\n",
       "      <td>Returns a list containing a tuple for each key...</td>\n",
       "    </tr>\n",
       "    <tr>\n",
       "      <th>5</th>\n",
       "      <td>keys()</td>\n",
       "      <td>Returns a list containing the dictionary's keys</td>\n",
       "    </tr>\n",
       "    <tr>\n",
       "      <th>6</th>\n",
       "      <td>pop()</td>\n",
       "      <td>Removes the element with the specified key</td>\n",
       "    </tr>\n",
       "    <tr>\n",
       "      <th>7</th>\n",
       "      <td>popitem()</td>\n",
       "      <td>Removes the last inserted key-value pair</td>\n",
       "    </tr>\n",
       "    <tr>\n",
       "      <th>8</th>\n",
       "      <td>setdefault()</td>\n",
       "      <td>Returns the value of the specified key. If the...</td>\n",
       "    </tr>\n",
       "    <tr>\n",
       "      <th>9</th>\n",
       "      <td>update()</td>\n",
       "      <td>Updates the dictionary with the specified key-...</td>\n",
       "    </tr>\n",
       "    <tr>\n",
       "      <th>10</th>\n",
       "      <td>values()</td>\n",
       "      <td>Returns a list of all the values in the dictio...</td>\n",
       "    </tr>\n",
       "  </tbody>\n",
       "</table>\n",
       "</div>"
      ],
      "text/plain": [
       "          Method                                        Description\n",
       "0        clear()       Removes all the elements from the dictionary\n",
       "1         copy()                   Returns a copy of the dictionary\n",
       "2     fromkeys()  Returns a dictionary with the specified keys a...\n",
       "3          get()             Returns the value of the specified key\n",
       "4        items()  Returns a list containing a tuple for each key...\n",
       "5         keys()    Returns a list containing the dictionary's keys\n",
       "6          pop()         Removes the element with the specified key\n",
       "7      popitem()           Removes the last inserted key-value pair\n",
       "8   setdefault()  Returns the value of the specified key. If the...\n",
       "9       update()  Updates the dictionary with the specified key-...\n",
       "10      values()  Returns a list of all the values in the dictio..."
      ]
     },
     "execution_count": 1,
     "metadata": {},
     "output_type": "execute_result"
    }
   ],
   "source": [
    "#Python Dictionary Methods\n",
    "\n",
    "import pandas as pd\n",
    "\n",
    "table = pd.read_html('https://www.w3schools.com/python/python_dictionaries_methods.asp')\n",
    "table[0]"
   ]
  },
  {
   "cell_type": "code",
   "execution_count": null,
   "metadata": {},
   "outputs": [
    {
     "name": "stdout",
     "output_type": "stream",
     "text": [
      "Pakistan\n"
     ]
    }
   ],
   "source": [
    "#IF STATEMENTS\n",
    "\n",
    "if True:\n",
    "    print(\"Pakistan\")\n",
    "else:\n",
    "    print(\"UK\")"
   ]
  },
  {
   "cell_type": "code",
   "execution_count": null,
   "metadata": {},
   "outputs": [
    {
     "name": "stdout",
     "output_type": "stream",
     "text": [
      "UK\n"
     ]
    }
   ],
   "source": [
    "if False:\n",
    "    print(\"Pakistan\")\n",
    "else:\n",
    "    print(\"UK\")"
   ]
  },
  {
   "cell_type": "code",
   "execution_count": null,
   "metadata": {},
   "outputs": [
    {
     "name": "stdout",
     "output_type": "stream",
     "text": [
      "Audi\n",
      "BMW\n",
      "Subaru\n",
      "Toyota\n"
     ]
    }
   ],
   "source": [
    "cars = ['audi', 'bmw', 'subaru', 'toyota']\n",
    "\n",
    "for car in cars:\n",
    "    if car == 'bmw':\n",
    "        print(car.upper())\n",
    "    else:\n",
    "        print(car.title())"
   ]
  },
  {
   "cell_type": "code",
   "execution_count": null,
   "metadata": {},
   "outputs": [
    {
     "name": "stdout",
     "output_type": "stream",
     "text": [
      "Enter your percentage:\t 84\n"
     ]
    },
    {
     "name": "stdout",
     "output_type": "stream",
     "text": [
      "Dear Student your percentage is 84 now your calculated grade is: \t A+\n"
     ]
    }
   ],
   "source": [
    "from typing import Union, Optional\n",
    "\n",
    "per : Union[int,float] = int (float(\"Enter your percentage:\\t\"))\n",
    "grade: Optional[str] = None\n",
    "\n",
    "if (per >= 0) and (per <33):\n",
    "    grade = \"Fail\"\n",
    "elif (per >= 33) and (per <40):\n",
    "    grade = \"E\"\n",
    "elif (per >= 40) and (per <50):\n",
    "    grade = \"D\"\n",
    "elif (per >= 50) and (per <60):\n",
    "    grade = \"C\"\n",
    "elif (per >= 60) and (per <70):\n",
    "    grade = \"B\"\n",
    "elif (per >= 70) and (per <80):\n",
    "    grade = \"A\"\n",
    "elif (per >= 80) and (per <100):\n",
    "    grade = \"A+\"\n",
    "\n",
    "print(f\"Dear Student your percentage is {per} now your calculated grade is: \\t {grade}\")\n"
   ]
  },
  {
   "cell_type": "markdown",
   "metadata": {},
   "source": [
    "Student Percentage"
   ]
  },
  {
   "cell_type": "code",
   "execution_count": null,
   "metadata": {},
   "outputs": [
    {
     "name": "stdout",
     "output_type": "stream",
     "text": [
      "[88, 99.8, 50, 51, 65, 70]\n",
      "['A+', 'A+', 'C', 'C', 'B', 'A']\n"
     ]
    }
   ],
   "source": [
    "from typing import Union\n",
    "\n",
    "PerType = Union[float, int]\n",
    "\n",
    "percentages : list[PerType] = [88,99.8, 50, 51, 65, 70]\n",
    "\n",
    "grades : list[str] = []\n",
    "\n",
    "for per in percentages:\n",
    "    grade : str = \"\"\n",
    "\n",
    "    if (per >= 0) and (per < 33):\n",
    "        grade = \"Fail\"\n",
    "    elif (per >= 33) and (per < 40):\n",
    "        grade = \"E\"\n",
    "    elif (per >= 40) and (per < 50):\n",
    "        grade = \"D\"\n",
    "    elif (per >= 50) and (per < 60):\n",
    "        grade = \"C\"\n",
    "    elif (per >= 60) and (per < 70):\n",
    "        grade = \"B\"\n",
    "    elif (per >= 70) and (per < 80):\n",
    "        grade = \"A\"\n",
    "    elif (per >= 80) and (per <= 100):\n",
    "        grade = \"A+\"\n",
    "\n",
    "    grades.append(grade)\n",
    "\n",
    "print(percentages)\n",
    "print(grades)\n",
    "\n",
    "    "
   ]
  },
  {
   "cell_type": "code",
   "execution_count": null,
   "metadata": {},
   "outputs": [
    {
     "data": {
      "text/plain": [
       "<zip at 0x24f76d9ef80>"
      ]
     },
     "execution_count": 17,
     "metadata": {},
     "output_type": "execute_result"
    }
   ],
   "source": [
    "zip(percentages, grades)"
   ]
  },
  {
   "cell_type": "code",
   "execution_count": null,
   "metadata": {},
   "outputs": [
    {
     "data": {
      "text/plain": [
       "[(88, 'A+'), (99.8, 'A+'), (50, 'C'), (51, 'C'), (65, 'B'), (70, 'A')]"
      ]
     },
     "execution_count": 19,
     "metadata": {},
     "output_type": "execute_result"
    }
   ],
   "source": [
    "\n",
    "list(zip(percentages, grades))"
   ]
  },
  {
   "cell_type": "code",
   "execution_count": null,
   "metadata": {},
   "outputs": [
    {
     "data": {
      "text/plain": [
       "[0, 1, 2, 3, 4, 5]"
      ]
     },
     "execution_count": 22,
     "metadata": {},
     "output_type": "execute_result"
    }
   ],
   "source": [
    "roll_no : list [int]= list(range(len(percentages)))\n",
    "roll_no"
   ]
  },
  {
   "cell_type": "code",
   "execution_count": null,
   "metadata": {},
   "outputs": [
    {
     "data": {
      "text/plain": [
       "[(0, 88, 'A+'),\n",
       " (1, 99.8, 'A+'),\n",
       " (2, 50, 'C'),\n",
       " (3, 51, 'C'),\n",
       " (4, 65, 'B'),\n",
       " (5, 70, 'A')]"
      ]
     },
     "execution_count": 27,
     "metadata": {},
     "output_type": "execute_result"
    }
   ],
   "source": [
    "data_base = list(zip(roll_no, percentages, grades, ))\n",
    "data_base"
   ]
  },
  {
   "cell_type": "code",
   "execution_count": null,
   "metadata": {},
   "outputs": [
    {
     "data": {
      "text/plain": [
       "[(0, 88, 'A+'),\n",
       " (1, 99.8, 'A+'),\n",
       " (2, 50, 'C'),\n",
       " (3, 51, 'C'),\n",
       " (4, 65, 'B'),\n",
       " (5, 70, 'A')]"
      ]
     },
     "metadata": {},
     "output_type": "display_data"
    },
    {
     "data": {
      "text/plain": [
       "[(5, 70, 'A'),\n",
       " (0, 88, 'A+'),\n",
       " (1, 99.8, 'A+'),\n",
       " (4, 65, 'B'),\n",
       " (2, 50, 'C'),\n",
       " (3, 51, 'C')]"
      ]
     },
     "execution_count": 29,
     "metadata": {},
     "output_type": "execute_result"
    }
   ],
   "source": [
    "display(data_base)\n",
    "sorted(data_base, key=lambda x:x[1])"
   ]
  },
  {
   "cell_type": "code",
   "execution_count": null,
   "metadata": {},
   "outputs": [
    {
     "data": {
      "text/plain": [
       "[(0, 88, 'A+'),\n",
       " (1, 99.8, 'A+'),\n",
       " (2, 50, 'C'),\n",
       " (3, 51, 'C'),\n",
       " (4, 65, 'B'),\n",
       " (5, 70, 'A')]"
      ]
     },
     "metadata": {},
     "output_type": "display_data"
    },
    {
     "data": {
      "text/plain": [
       "[(1, 99.8, 'A+'),\n",
       " (0, 88, 'A+'),\n",
       " (5, 70, 'A'),\n",
       " (4, 65, 'B'),\n",
       " (3, 51, 'C'),\n",
       " (2, 50, 'C')]"
      ]
     },
     "execution_count": 30,
     "metadata": {},
     "output_type": "execute_result"
    }
   ],
   "source": [
    "display(data_base)\n",
    "sorted(data_base, key=lambda x:x[1], reverse=True)"
   ]
  },
  {
   "cell_type": "code",
   "execution_count": null,
   "metadata": {},
   "outputs": [
    {
     "name": "stdout",
     "output_type": "stream",
     "text": [
      "Audi\n",
      "BMW\n",
      "Subaru\n",
      "Toyota\n"
     ]
    }
   ],
   "source": [
    "cars = ['audi', 'bmw', 'subaru', 'toyota']\n",
    "\n",
    "for car in cars:\n",
    "    if car == 'bmw':\n",
    "        print(car.upper())\n",
    "    else:\n",
    "        print(car.title())"
   ]
  },
  {
   "cell_type": "code",
   "execution_count": null,
   "metadata": {},
   "outputs": [
    {
     "data": {
      "text/plain": [
       "['Audi', 'Bmw', 'Subaru', 'TOYOTA']"
      ]
     },
     "execution_count": 34,
     "metadata": {},
     "output_type": "execute_result"
    }
   ],
   "source": [
    "cars : list [str] = ['audi', 'bmw', 'subaru', 'toyota']\n",
    "\n",
    "[i.upper() if i=='toyota' else i.title() for i in cars]\n"
   ]
  },
  {
   "cell_type": "code",
   "execution_count": null,
   "metadata": {},
   "outputs": [
    {
     "name": "stdout",
     "output_type": "stream",
     "text": [
      "Marie, you can post a response if you wish.\n"
     ]
    }
   ],
   "source": [
    "banned_users : list [str] = ['andrew', 'carolina', 'david']\n",
    "user : str = 'marie'\n",
    "\n",
    "if user not in banned_users:\n",
    "    print(f\"{user.title()}, you can post a response if you wish.\")"
   ]
  },
  {
   "cell_type": "code",
   "execution_count": null,
   "metadata": {},
   "outputs": [
    {
     "name": "stdout",
     "output_type": "stream",
     "text": [
      "{0: 'Pakistan', 'education': 'MSDS', 'fname': 'M. Aslam', 'name': 'M. Qasim'}\n",
      "M. Qasim\n",
      "M. Aslam\n",
      "MSDS\n",
      "Pakistan\n"
     ]
    }
   ],
   "source": [
    "from typing import Dict, Union, Optional\n",
    "import pprint\n",
    "\n",
    "Key = Union[int, str, list, dict, tuple]\n",
    "value = Union[int, str, list, dict, tuple, set]\n",
    "\n",
    "data: Dict[Key, value] = {\n",
    "                        \"fname\":\"M. Aslam\",\n",
    "                        \"name\":\"M. Qasim\",\n",
    "                        \"education\": \"MSDS\",\n",
    "                        0 : \"Pakistan\"\n",
    "                        }\n",
    "\n",
    "pprint.pprint(data)\n",
    "print(data[\"name\"])\n",
    "print(data[\"fname\"])\n",
    "print(data[\"education\"])\n",
    "print(data[0])\n",
    "\n"
   ]
  },
  {
   "cell_type": "code",
   "execution_count": null,
   "metadata": {},
   "outputs": [
    {
     "data": {
      "text/plain": [
       "['clear',\n",
       " 'copy',\n",
       " 'fromkeys',\n",
       " 'get',\n",
       " 'items',\n",
       " 'keys',\n",
       " 'pop',\n",
       " 'popitem',\n",
       " 'setdefault',\n",
       " 'update',\n",
       " 'values']"
      ]
     },
     "execution_count": 53,
     "metadata": {},
     "output_type": "execute_result"
    }
   ],
   "source": [
    "[i for i in dir(data) if \"__\" not in i]"
   ]
  },
  {
   "cell_type": "code",
   "execution_count": null,
   "metadata": {},
   "outputs": [
    {
     "name": "stdout",
     "output_type": "stream",
     "text": [
      "N/A\n",
      "M. Qasim\n"
     ]
    }
   ],
   "source": [
    "# get function\n",
    "\n",
    "from typing import Dict, Union, Optional\n",
    "import pprint\n",
    "\n",
    "Key = Union[int, str, list, dict, tuple]\n",
    "value = Union[int, str, list, dict, tuple, set]\n",
    "\n",
    "data: Dict[Key, value] = {\n",
    "                        \"fname\":\"M. Aslam\",\n",
    "                        \"name\":\"M. Qasim\",\n",
    "                        \"education\": \"MSDS\",\n",
    "                        0 : \"Pakistan\"\n",
    "                        }\n",
    "\n",
    "print(data.get('pakistan',\"N/A\"))\n",
    "print(data.get('name',\"N/A\"))\n"
   ]
  },
  {
   "cell_type": "code",
   "execution_count": null,
   "metadata": {},
   "outputs": [
    {
     "name": "stdout",
     "output_type": "stream",
     "text": [
      "dict_keys(['fname', 'name', 'education', 0])\n",
      "dict_values(['M. Aslam', 'M. Qasim', 'MSDS', 'Pakistan'])\n",
      "dict_items([('fname', 'M. Aslam'), ('name', 'M. Qasim'), ('education', 'MSDS'), (0, 'Pakistan')])\n",
      "M. Aslam\n",
      "M. Qasim\n",
      "MSDS\n",
      "Pakistan\n"
     ]
    }
   ],
   "source": [
    "# get function\n",
    "\n",
    "from typing import Dict, Union, Optional\n",
    "import pprint\n",
    "\n",
    "Key = Union[int, str, list, dict, tuple]\n",
    "value = Union[int, str, list, dict, tuple, set]\n",
    "\n",
    "data: Dict[Key, value] = {\n",
    "                        \"fname\":\"M. Aslam\",\n",
    "                        \"name\":\"M. Qasim\",\n",
    "                        \"education\": \"MSDS\",\n",
    "                        0 : \"Pakistan\"\n",
    "                        }\n",
    "\n",
    "print(data.keys())\n",
    "print(data.values())\n",
    "print(data.items())\n",
    "\n",
    "for v in data.values():\n",
    "    print(v)\n",
    "\n"
   ]
  },
  {
   "cell_type": "code",
   "execution_count": null,
   "metadata": {},
   "outputs": [
    {
     "name": "stdout",
     "output_type": "stream",
     "text": [
      "dict_keys(['fname', 'name', 'education', 0])\n",
      "dict_values(['M. Aslam', 'M. Qasim', 'MSDS', 'Pakistan'])\n",
      "dict_items([('fname', 'M. Aslam'), ('name', 'M. Qasim'), ('education', 'MSDS'), (0, 'Pakistan')])\n",
      "fname M. Aslam\n",
      "name M. Qasim\n",
      "education MSDS\n",
      "0 Pakistan\n"
     ]
    }
   ],
   "source": [
    "# get function\n",
    "\n",
    "from typing import Dict, Union, Optional\n",
    "import pprint\n",
    "\n",
    "Key = Union[int, str, list, dict, tuple]\n",
    "value = Union[int, str, list, dict, tuple, set]\n",
    "\n",
    "data: Dict[Key, value] = {\n",
    "                        \"fname\":\"M. Aslam\",\n",
    "                        \"name\":\"M. Qasim\",\n",
    "                        \"education\": \"MSDS\",\n",
    "                        0 : \"Pakistan\"\n",
    "                        }\n",
    "\n",
    "print(data.keys())\n",
    "print(data.values())\n",
    "print(data.items())\n",
    "\n",
    "for k,v in data.items():\n",
    "    print(k,v)\n",
    "\n"
   ]
  },
  {
   "cell_type": "code",
   "execution_count": null,
   "metadata": {},
   "outputs": [
    {
     "data": {
      "text/plain": [
       "{'M. Aslam': 'fname', 'M. Qasim': 'name', 'MSDS': 'education', 'Pakistan': 0}"
      ]
     },
     "execution_count": 62,
     "metadata": {},
     "output_type": "execute_result"
    }
   ],
   "source": [
    "{v:k for k,v in data.items()}"
   ]
  },
  {
   "cell_type": "code",
   "execution_count": null,
   "metadata": {},
   "outputs": [
    {
     "name": "stdout",
     "output_type": "stream",
     "text": [
      "9 7\n"
     ]
    }
   ],
   "source": [
    "a : int = 7\n",
    "b : int = 9\n",
    "\n",
    "a, b = b, a #Shuffle\n",
    "\n",
    "print(a,b)"
   ]
  },
  {
   "cell_type": "code",
   "execution_count": null,
   "metadata": {},
   "outputs": [
    {
     "name": "stdout",
     "output_type": "stream",
     "text": [
      "{}\n"
     ]
    },
    {
     "data": {
      "text/plain": [
       "{'id': None, 'name': None, 'fname': None, 'course': None}"
      ]
     },
     "execution_count": 65,
     "metadata": {},
     "output_type": "execute_result"
    }
   ],
   "source": [
    "Keys : list[str] = ['id', 'name', 'fname','course']\n",
    "\n",
    "data : dict[Key, value] = {}\n",
    "\n",
    "print(data)\n",
    "\n",
    "data.fromkeys(Keys)\n"
   ]
  },
  {
   "cell_type": "code",
   "execution_count": null,
   "metadata": {},
   "outputs": [
    {
     "name": "stdout",
     "output_type": "stream",
     "text": [
      "Before {'fname': 'M. Aslam', 'name': 'M. Qasim', 'education': 'MSDS', 0: 'Pakistan'}\n",
      "After {}\n",
      "['clear', 'copy', 'fromkeys', 'get', 'items', 'keys', 'pop', 'popitem', 'setdefault', 'update', 'values']\n"
     ]
    }
   ],
   "source": [
    "#Using Clear Method\n",
    "from typing import Dict, Union, Optional\n",
    "import pprint\n",
    "\n",
    "Key = Union[int, str, list, dict, tuple]\n",
    "value = Union[int, str, list, dict, tuple, set]\n",
    "\n",
    "data: Dict[Key, value] = {\n",
    "                        \"fname\":\"M. Aslam\",\n",
    "                        \"name\":\"M. Qasim\",\n",
    "                        \"education\": \"MSDS\",\n",
    "                        0 : \"Pakistan\"\n",
    "                        }\n",
    "\n",
    "print(\"Before\", data)\n",
    "data.clear()\n",
    "\n",
    "print(\"After\", data)\n",
    "\n",
    "\n",
    "methods : list[str] = [m for m in dir(data) if \"__\" not in m ]\n",
    "print(methods)\n"
   ]
  },
  {
   "cell_type": "code",
   "execution_count": null,
   "metadata": {},
   "outputs": [
    {
     "name": "stdout",
     "output_type": "stream",
     "text": [
      "Before {'fname': 'M. Aslam', 'name': 'M. Qasim', 'education': 'MSDS', 0: 'Pakistan'}\n",
      "After {'fname': 'M. Aslam', 'name': 'M. Qasim', 0: 'Pakistan'}\n",
      "['clear', 'copy', 'fromkeys', 'get', 'items', 'keys', 'pop', 'popitem', 'setdefault', 'update', 'values']\n"
     ]
    }
   ],
   "source": [
    "#Using Pop Method\n",
    "from typing import Dict, Union, Optional\n",
    "import pprint\n",
    "\n",
    "Key = Union[int, str, list, dict, tuple]\n",
    "value = Union[int, str, list, dict, tuple, set]\n",
    "\n",
    "data: Dict[Key, value] = {\n",
    "                        \"fname\":\"M. Aslam\",\n",
    "                        \"name\":\"M. Qasim\",\n",
    "                        \"education\": \"MSDS\",\n",
    "                        0 : \"Pakistan\"\n",
    "                        }\n",
    "\n",
    "print(\"Before\", data)\n",
    "data.pop(\"education\")\n",
    "print(\"After\", data)\n",
    "\n",
    "\n",
    "methods : list[str] = [m for m in dir(data) if \"__\" not in m ]\n",
    "print(methods)\n"
   ]
  },
  {
   "cell_type": "code",
   "execution_count": null,
   "metadata": {},
   "outputs": [
    {
     "name": "stdout",
     "output_type": "stream",
     "text": [
      "Before {'fname': 'M. Aslam', 'name': 'M. Qasim', 'education': 'MSDS', 0: 'Pakistan'}\n",
      "After {'fname': 'M. Aslam', 'name': 'M. Qasim', 'education': 'MSDS'}\n",
      "['clear', 'copy', 'fromkeys', 'get', 'items', 'keys', 'pop', 'popitem', 'setdefault', 'update', 'values']\n"
     ]
    }
   ],
   "source": [
    "#Using PopItem Method\n",
    "from typing import Dict, Union, Optional\n",
    "import pprint\n",
    "\n",
    "Key = Union[int, str, list, dict, tuple]\n",
    "value = Union[int, str, list, dict, tuple, set]\n",
    "\n",
    "data: Dict[Key, value] = {\n",
    "                        \"fname\":\"M. Aslam\",\n",
    "                        \"name\":\"M. Qasim\",\n",
    "                        \"education\": \"MSDS\",\n",
    "                        0 : \"Pakistan\"\n",
    "                        }\n",
    "\n",
    "print(\"Before\", data)\n",
    "data.popitem()\n",
    "print(\"After\", data)\n",
    "\n",
    "\n",
    "methods : list[str] = [m for m in dir(data) if \"__\" not in m ]\n",
    "print(methods)\n",
    "\n"
   ]
  },
  {
   "cell_type": "code",
   "execution_count": null,
   "metadata": {},
   "outputs": [
    {
     "name": "stdout",
     "output_type": "stream",
     "text": [
      "Before {'fname': 'M. Aslam', 'name': 'M. Qasim', 'education': 'MSDS', 0: 'Pakistan'}\n",
      "After {'fname': 'M. Aslam', 'name': 'M. Qasim', 'education': 'MSDS', 0: 'Pakistan', 'Pakistan': 'Empty Value'}\n",
      "['clear', 'copy', 'fromkeys', 'get', 'items', 'keys', 'pop', 'popitem', 'setdefault', 'update', 'values']\n"
     ]
    }
   ],
   "source": [
    "#Using setdefault Method\n",
    "from typing import Dict, Union, Optional\n",
    "import pprint\n",
    "\n",
    "Key = Union[int, str, list, dict, tuple]\n",
    "value = Union[int, str, list, dict, tuple, set]\n",
    "\n",
    "data: Dict[Key, value] = {\n",
    "                        \"fname\":\"M. Aslam\",\n",
    "                        \"name\":\"M. Qasim\",\n",
    "                        \"education\": \"MSDS\",\n",
    "                        0 : \"Pakistan\"\n",
    "                        }\n",
    "\n",
    "print(\"Before\", data)\n",
    "data.setdefault(\"Pakistan\",\"Empty Value\")\n",
    "print(\"After\", data)\n",
    "\n",
    "\n",
    "methods : list[str] = [m for m in dir(data) if \"__\" not in m ]\n",
    "print(methods)\n"
   ]
  },
  {
   "cell_type": "code",
   "execution_count": null,
   "metadata": {},
   "outputs": [
    {
     "name": "stdout",
     "output_type": "stream",
     "text": [
      "{'fname': 'M. Iqbal', 'name': 'Wasim Iqbal', 'education': 'MSDS', 0: 'Pakistan', 'age': 42, 'profession': 'AVP-Opearatios'}\n",
      "['clear', 'copy', 'fromkeys', 'get', 'items', 'keys', 'pop', 'popitem', 'setdefault', 'update', 'values']\n"
     ]
    }
   ],
   "source": [
    "#Using Pop Method\n",
    "from typing import Dict, Union, Optional\n",
    "import pprint\n",
    "\n",
    "Key = Union[int, str, list, dict, tuple]\n",
    "value = Union[int, str, list, dict, tuple, set]\n",
    "\n",
    "data: Dict[Key, value] = {\n",
    "                        \"fname\":\"M. Aslam\",\n",
    "                        \"name\":\"M. Qasim\",\n",
    "                        \"education\": \"MSDS\",\n",
    "                        0 : \"Pakistan\"\n",
    "                        }\n",
    "data1: Dict[Key,value] = {\"name\":\"Wasim Iqbal\",\n",
    "                          \"fname\":\"M. Iqbal\",\n",
    "                          \"age\":42,\n",
    "                          \"profession\":\"AVP-Opearatios\"\n",
    "                        }\n",
    "\n",
    "data.update(data1)\n",
    "print(data)\n",
    "\n",
    "methods : list[str] = [m for m in dir(data) if \"__\" not in m ]\n",
    "print(methods)\n"
   ]
  },
  {
   "cell_type": "code",
   "execution_count": null,
   "metadata": {},
   "outputs": [
    {
     "data": {
      "text/html": [
       "<div>\n",
       "<style scoped>\n",
       "    .dataframe tbody tr th:only-of-type {\n",
       "        vertical-align: middle;\n",
       "    }\n",
       "\n",
       "    .dataframe tbody tr th {\n",
       "        vertical-align: top;\n",
       "    }\n",
       "\n",
       "    .dataframe thead th {\n",
       "        text-align: right;\n",
       "    }\n",
       "</style>\n",
       "<table border=\"1\" class=\"dataframe\">\n",
       "  <thead>\n",
       "    <tr style=\"text-align: right;\">\n",
       "      <th></th>\n",
       "      <th>roll_no</th>\n",
       "      <th>name</th>\n",
       "      <th>age</th>\n",
       "      <th>gender</th>\n",
       "      <th>education</th>\n",
       "    </tr>\n",
       "  </thead>\n",
       "  <tbody>\n",
       "    <tr>\n",
       "      <th>0</th>\n",
       "      <td>1</td>\n",
       "      <td>John</td>\n",
       "      <td>25</td>\n",
       "      <td>Male</td>\n",
       "      <td>Masters</td>\n",
       "    </tr>\n",
       "    <tr>\n",
       "      <th>1</th>\n",
       "      <td>2</td>\n",
       "      <td>Alice</td>\n",
       "      <td>23</td>\n",
       "      <td>Female</td>\n",
       "      <td>Graduation</td>\n",
       "    </tr>\n",
       "    <tr>\n",
       "      <th>2</th>\n",
       "      <td>3</td>\n",
       "      <td>Bob</td>\n",
       "      <td>40</td>\n",
       "      <td>Male</td>\n",
       "      <td>Masters</td>\n",
       "    </tr>\n",
       "  </tbody>\n",
       "</table>\n",
       "</div>"
      ],
      "text/plain": [
       "   roll_no   name  age  gender   education\n",
       "0        1   John   25    Male     Masters\n",
       "1        2  Alice   23  Female  Graduation\n",
       "2        3    Bob   40    Male     Masters"
      ]
     },
     "execution_count": 18,
     "metadata": {},
     "output_type": "execute_result"
    }
   ],
   "source": [
    "import pandas as pd\n",
    "from typing import Any\n",
    "\n",
    "studend_data : Dict[str,list[any]] = {\"roll_no\" : [1,2,3],\n",
    "                                      \"name\" : [\"John\", \"Alice\",\"Bob\"],\n",
    "                                      \"age\": [25, 23,40],\n",
    "                                      \"gender\":[\"Male\", \"Female\",\"Male\"],\n",
    "                                      \"education\":[\"Masters\",\"Graduation\",\"Masters\"]}\n",
    "\n",
    "df : pd.DataFrame = pd.DataFrame(studend_data)\n",
    "df\n"
   ]
  },
  {
   "cell_type": "code",
   "execution_count": null,
   "metadata": {},
   "outputs": [
    {
     "name": "stdout",
     "output_type": "stream",
     "text": [
      "{'color': 'green', 'points': 5}\n",
      "{'color': 'green', 'points': 5, 'x_position': 0, 'y_position': 25}\n"
     ]
    }
   ],
   "source": [
    "alien_0 = {'color': 'green', 'points': 5}\n",
    "print(alien_0)\n",
    "alien_0['x_position'] = 0\n",
    "alien_0['y_position'] = 25\n",
    "print(alien_0)"
   ]
  },
  {
   "cell_type": "code",
   "execution_count": null,
   "metadata": {},
   "outputs": [
    {
     "name": "stdout",
     "output_type": "stream",
     "text": [
      "{'color': 'green', 'points': 5}\n"
     ]
    }
   ],
   "source": [
    "#Starting with an Empty Dictionary\n",
    "alien_0 = {}\n",
    "alien_0['color'] = 'green'\n",
    "alien_0['points'] = 5\n",
    "print(alien_0)"
   ]
  },
  {
   "cell_type": "code",
   "execution_count": null,
   "metadata": {},
   "outputs": [
    {
     "name": "stdout",
     "output_type": "stream",
     "text": [
      "Original position: 0\n",
      "New position: 2\n"
     ]
    }
   ],
   "source": [
    "#Modifying Values in a Dictionary\n",
    "\n",
    "alien_0 = {'x_position': 0, 'y_position': 25, 'speed': 'medium'}\n",
    "print(f\"Original position: {alien_0['x_position']}\")\n",
    "# Move the alien to the right.\n",
    "# Determine how far to move the alien based on its current speed.\n",
    "if alien_0['speed'] == 'slow':\n",
    "    x_increment = 1\n",
    "elif alien_0['speed'] == 'medium':\n",
    "    x_increment = 2\n",
    "else:\n",
    "# This must be a fast alien.\n",
    "    x_increment = 3\n",
    "# The new position is the old position plus the increment.\n",
    "# alien_0['x_position'] = alien_0['x_position'] + x_increment\n",
    "\n",
    "alien_0['x_position'] +=  x_increment\n",
    "     \n",
    "print(f\"New position: {alien_0['x_position']}\")"
   ]
  },
  {
   "cell_type": "code",
   "execution_count": null,
   "metadata": {},
   "outputs": [
    {
     "name": "stdout",
     "output_type": "stream",
     "text": [
      "Sarah's favorite language is Typescript.\n"
     ]
    }
   ],
   "source": [
    "favorite_languages = {'jen': 'python',\n",
    "                      'sarah': 'typescript',\n",
    "                      'edward': 'rust',\n",
    "                      'phil': 'python',\n",
    "                      }\n",
    "\n",
    "language = favorite_languages['sarah'].title()\n",
    "print(f\"Sarah's favorite language is {language}.\")"
   ]
  },
  {
   "cell_type": "code",
   "execution_count": null,
   "metadata": {},
   "outputs": [
    {
     "name": "stdout",
     "output_type": "stream",
     "text": [
      "Hi Jen.\n",
      "Hi Sarah.\n",
      "Hi Edward.\n",
      "Hi Phil.\n",
      "\tPhil, I see you love Python!\n"
     ]
    }
   ],
   "source": [
    "favorite_languages = {'jen': 'python',\n",
    "                      'sarah': 'typescript',\n",
    "                      'edward': 'rust',\n",
    "                      'phil': 'python',\n",
    "                      }\n",
    "\n",
    "friends = ['phil', 'sarah']\n",
    "for name in favorite_languages.keys():\n",
    "    print(f\"Hi {name.title()}.\")\n",
    "\n",
    "if name in friends:\n",
    "    language = favorite_languages[name].title()\n",
    "print(f\"\\t{name.title()}, I see you love {language}!\")"
   ]
  },
  {
   "cell_type": "code",
   "execution_count": null,
   "metadata": {},
   "outputs": [
    {
     "name": "stdout",
     "output_type": "stream",
     "text": [
      "{'color': 'green', 'points': 5}\n",
      "{'color': 'yellow', 'points': 10}\n",
      "{'color': 'red', 'points': 15}\n"
     ]
    }
   ],
   "source": [
    "alien_0 : list [Key,value] = {'color': 'green', 'points': 5}\n",
    "alien_1 : list [Key,value] = {'color': 'yellow', 'points': 10}\n",
    "alien_2 : list [Key,value] = {'color': 'red', 'points': 15}\n",
    "\n",
    "aliens  : list [Dict[str,str]] = [alien_0, alien_1, alien_2]\n",
    "\n",
    "for alien in aliens:\n",
    "    print(alien)"
   ]
  },
  {
   "cell_type": "code",
   "execution_count": null,
   "metadata": {},
   "outputs": [
    {
     "name": "stdout",
     "output_type": "stream",
     "text": [
      "{'color': 'green', 'points': 5, 'speed': 'slow'}\n",
      "...\n",
      "{'color': 'green', 'points': 5, 'speed': 'slow'}\n",
      "...\n",
      "{'color': 'green', 'points': 5, 'speed': 'slow'}\n",
      "...\n",
      "{'color': 'green', 'points': 5, 'speed': 'slow'}\n",
      "...\n",
      "{'color': 'green', 'points': 5, 'speed': 'slow'}\n",
      "...\n",
      "Total number of aliens: 10\n"
     ]
    }
   ],
   "source": [
    "# Make an empty list for storing aliens.\n",
    "aliens = []\n",
    "# Make 30 green aliens.\n",
    "for alien_number in range(10):\n",
    "    new_alien = {'color': 'green', 'points': 5, 'speed': 'slow'}\n",
    "    aliens.append(new_alien)\n",
    "\n",
    "# Show the first 5 aliens.\n",
    "for alien in aliens[:5]:\n",
    "    print(alien)\n",
    "    print(\"...\")\n",
    "\n",
    "# Show how many aliens have been created.\n",
    "print(f\"Total number of aliens: {len(aliens)}\")"
   ]
  },
  {
   "cell_type": "code",
   "execution_count": null,
   "metadata": {},
   "outputs": [
    {
     "name": "stdout",
     "output_type": "stream",
     "text": [
      "{'fname': 'M. Aslam', 'name': 'M. Qasim', 'education': 'MSDS', 0: 'Pakistan'}\n",
      "<class 'dict'>\n"
     ]
    }
   ],
   "source": [
    "#Using Pop Method\n",
    "from typing import Dict, Union, Optional\n",
    "import pprint\n",
    "\n",
    "Key = Union[int, str, list, dict, tuple]\n",
    "value = Union[int, str, list, dict, tuple, set]\n",
    "\n",
    "data: Dict[Key, value] = {\n",
    "                        \"fname\":\"M. Aslam\",\n",
    "                        \"name\":\"M. Qasim\",\n",
    "                        \"education\": \"MSDS\",\n",
    "                        0 : \"Pakistan\"\n",
    "                        }\n",
    "print(data)\n",
    "print(type(data))"
   ]
  },
  {
   "cell_type": "code",
   "execution_count": null,
   "metadata": {},
   "outputs": [
    {
     "name": "stdout",
     "output_type": "stream",
     "text": [
      "<class 'str'>\n"
     ]
    },
    {
     "data": {
      "text/plain": [
       "'{\\n    \"fname\": \"M. Aslam\",\\n    \"name\": \"M. Qasim\",\\n    \"education\": \"MSDS\",\\n    \"0\": \"Pakistan\"\\n}'"
      ]
     },
     "metadata": {},
     "output_type": "display_data"
    },
    {
     "name": "stdout",
     "output_type": "stream",
     "text": [
      "{\n",
      "    \"fname\": \"M. Aslam\",\n",
      "    \"name\": \"M. Qasim\",\n",
      "    \"education\": \"MSDS\",\n",
      "    \"0\": \"Pakistan\"\n",
      "}\n"
     ]
    }
   ],
   "source": [
    "import json\n",
    "\n",
    "data1 = json.dumps (data, indent=4)\n",
    "\n",
    "print(type(data1))\n",
    "display(data1)\n",
    "print(data1)\n"
   ]
  },
  {
   "cell_type": "markdown",
   "metadata": {},
   "source": [
    "# Loop and input from user \n",
    "* While\n",
    "* for\n",
    "* Controls\n",
    "    * break\n",
    "    * continue\n",
    "    * pass\n",
    "* input function\n",
    "* input from console\n",
    "\n",
    "# Loop working on iterative data type\n",
    "* list\n",
    "* dictionary\n",
    "* tuple\n",
    "* string\n"
   ]
  },
  {
   "cell_type": "code",
   "execution_count": null,
   "metadata": {},
   "outputs": [
    {
     "name": "stdout",
     "output_type": "stream",
     "text": [
      "Current Character : P\n",
      "Current Character : A\n",
      "Current Character : K\n",
      "Current Character : I\n",
      "Current Character : S\n",
      "Current Character : T\n",
      "Current Character : A\n",
      "Current Character : N\n"
     ]
    }
   ],
   "source": [
    "l1 : str = \"PAKISTAN\"\n",
    "\n",
    "for c in l1:\n",
    "    print(f\"Current Character : {c}\")\n"
   ]
  },
  {
   "cell_type": "code",
   "execution_count": null,
   "metadata": {},
   "outputs": [
    {
     "name": "stdout",
     "output_type": "stream",
     "text": [
      "value form list of set : 1\n",
      "value form list of set : 2\n",
      "value form list of set : 3\n",
      "value form list of set : 4\n"
     ]
    }
   ],
   "source": [
    "# Iteration perform on keys\n",
    "\n",
    "l1 : list[set[int]] = list({1,2,3,4,1,1,1})\n",
    "\n",
    "for k in l1:\n",
    "    print(f\"value form list of set : {k}\")"
   ]
  },
  {
   "cell_type": "markdown",
   "metadata": {},
   "source": [
    "# input from user\n",
    "* input function \n",
    "    * default type = string\n",
    "* sys.argv (for console input in abc.py file)\n",
    "    * default type = object\n",
    "    \n",
    "\n"
   ]
  },
  {
   "cell_type": "code",
   "execution_count": null,
   "metadata": {},
   "outputs": [
    {
     "name": "stdout",
     "output_type": "stream",
     "text": [
      "<class 'str'>\n",
      "Welcome dear User Mr/Miss wasim!\n"
     ]
    }
   ],
   "source": [
    "name : str = input(\"What is your name ? : \\t\")\n",
    "\n",
    "print(type(name))\n",
    "\n",
    "print(f\"Welcome dear User Mr/Miss {name}!\")"
   ]
  },
  {
   "cell_type": "markdown",
   "metadata": {},
   "source": [
    "# While Loop\n",
    "```\n",
    "While loop # True / False\n",
    "    loop_body\n",
    "\n",
    "``````"
   ]
  },
  {
   "cell_type": "code",
   "execution_count": null,
   "metadata": {},
   "outputs": [
    {
     "name": "stdout",
     "output_type": "stream",
     "text": [
      "Current Number is : 0\n",
      "Current Number is : 1\n",
      "Current Number is : 2\n",
      "Current Number is : 3\n",
      "Current Number is : 4\n",
      "Current Number is : 5\n"
     ]
    }
   ],
   "source": [
    "flag : bool = True # flag\n",
    "\n",
    "current_number : int = 0\n",
    "\n",
    "while flag:\n",
    "    print(f\"Current Number is : {current_number}\")\n",
    "    current_number += 1\n",
    "\n",
    "    if current_number == 6:\n",
    "        break"
   ]
  },
  {
   "cell_type": "code",
   "execution_count": null,
   "metadata": {},
   "outputs": [
    {
     "name": "stdout",
     "output_type": "stream",
     "text": [
      "write quit or exit to stop this program\n",
      "write quit or exit to stop this program\n",
      "write quit or exit to stop this program\n"
     ]
    },
    {
     "data": {
      "text/plain": [
       "[{'name': 'Wasim', 'education': 'Bcom'}, {'name': 'Saima ', 'education': 'BA'}]"
      ]
     },
     "metadata": {},
     "output_type": "display_data"
    }
   ],
   "source": [
    "data : list[dict[str, str]] = []\n",
    "\n",
    "flag : bool = True\n",
    "\n",
    "while flag:\n",
    "    print(\"write quit or exit to stop this program\")\n",
    "    name: str = input(\"Your Good Name ? \\t:\")\n",
    "    education: str = input(\"Your Last Education \\t:\")\n",
    "\n",
    "    if name in ['exti','quit','close','stop'] or education in ['exti','quit','close','stop']:\n",
    "        flag = False\n",
    "        break\n",
    "    data.append({\"name\":name,\n",
    "                 \"education\": education })\n",
    "    \n",
    "display(data)\n",
    "\n",
    "\n"
   ]
  },
  {
   "cell_type": "markdown",
   "metadata": {},
   "source": [
    "# Controls\n",
    "\n",
    "* break\n",
    "* continue\n",
    "* pass\n",
    "\n"
   ]
  },
  {
   "cell_type": "code",
   "execution_count": null,
   "metadata": {},
   "outputs": [
    {
     "name": "stdout",
     "output_type": "stream",
     "text": [
      "2 x 1 = 2\n",
      "2 x 2 = 4\n",
      "2 x 3 = 6\n",
      "2 x 4 = 8\n",
      "2 x 5 = 10\n",
      "2 x 6 = 12\n",
      "2 x 7 = 14\n",
      "2 x 8 = 16\n",
      "2 x 9 = 18\n",
      "2 x 10 = 20\n"
     ]
    }
   ],
   "source": [
    "for i in range(1,11):\n",
    "    print(f\"2 x {i} = {i*2}\")\n"
   ]
  },
  {
   "cell_type": "code",
   "execution_count": null,
   "metadata": {},
   "outputs": [
    {
     "name": "stdout",
     "output_type": "stream",
     "text": [
      "1\n",
      "2\n",
      "3\n",
      "4\n",
      "6\n",
      "7\n",
      "8\n",
      "9\n",
      "10\n"
     ]
    }
   ],
   "source": [
    "for i in range(1,11):\n",
    "    if i == 5:\n",
    "        continue\n",
    "    print(i)"
   ]
  },
  {
   "cell_type": "code",
   "execution_count": null,
   "metadata": {},
   "outputs": [
    {
     "name": "stdout",
     "output_type": "stream",
     "text": [
      "\n",
      "The number 77 is odd.\n"
     ]
    }
   ],
   "source": [
    "number = input(\"Enter a number, and I'll tell you if it's even or odd: \")\n",
    "number = int(number)\n",
    "\n",
    "if number % 2 == 0:\n",
    " print(f\"\\nThe number {number} is even.\")\n",
    "else:\n",
    " print(f\"\\nThe number {number} is odd.\")"
   ]
  },
  {
   "cell_type": "code",
   "execution_count": null,
   "metadata": {},
   "outputs": [
    {
     "name": "stdout",
     "output_type": "stream",
     "text": [
      "['dog', 'cat', 'dog', 'goldfish', 'cat', 'rabbit', 'cat']\n",
      "['dog', 'dog', 'goldfish', 'rabbit']\n"
     ]
    }
   ],
   "source": [
    "pets = ['dog', 'cat', 'dog', 'goldfish', 'cat', 'rabbit', 'cat']\n",
    "\n",
    "print(pets)\n",
    "\n",
    "while 'cat' in pets:\n",
    " pets.remove('cat')\n",
    "\n",
    "print(pets)"
   ]
  },
  {
   "cell_type": "markdown",
   "metadata": {},
   "source": [
    "# Functions\n",
    "* pre-Define Function\n",
    "    * provided by language \n",
    "* user-define Function\n",
    "    * custom function\n",
    "## Similar properties on both types\n",
    "* Return & Non-Return function\n",
    "    * Return\n",
    "        * we can assign this function output in any variable\n",
    "    * Non-Return \n",
    "        * Only run, we can't assign value of variable\n",
    "\n",
    "## Components\n",
    "* function delcations\n",
    "    * function name\n",
    "    * Parameters\n",
    "        * param : type\n",
    "    * rreturn output type\n",
    "* function body\n",
    "    * any business write logic\n",
    "* function calling\n",
    "    * function(arg1, arg2)\n",
    "\n",
    "### Syntax function\n",
    "\n",
    "```\n",
    "def function_name(param1: type, param2: type,...)->Return Type:\n",
    "    function_body\n",
    "\n",
    "function_name(arg1, arg2)\n",
    "\n",
    "```\n",
    "\n",
    "### Syntax Lambda function\n",
    "* One line function\n",
    "* without name function\n",
    "* Only use in this line \n",
    "\n",
    "```\n",
    "lambda param1, param2: function_body\n",
    "```\n",
    "\n"
   ]
  },
  {
   "cell_type": "markdown",
   "metadata": {},
   "source": [
    "# Return & Non-Return Function"
   ]
  },
  {
   "cell_type": "code",
   "execution_count": null,
   "metadata": {},
   "outputs": [
    {
     "name": "stdout",
     "output_type": "stream",
     "text": [
      "Pakistan\n"
     ]
    },
    {
     "data": {
      "text/plain": [
       "None"
      ]
     },
     "metadata": {},
     "output_type": "display_data"
    }
   ],
   "source": [
    "a : str = print(\"Pakistan\")\n",
    "\n",
    "display(a)"
   ]
  },
  {
   "cell_type": "code",
   "execution_count": null,
   "metadata": {},
   "outputs": [
    {
     "data": {
      "text/plain": [
       "8"
      ]
     },
     "metadata": {},
     "output_type": "display_data"
    }
   ],
   "source": [
    "a : int = len(\"Pakistan\")\n",
    "\n",
    "display(a)"
   ]
  },
  {
   "cell_type": "markdown",
   "metadata": {},
   "source": [
    "### Create simple function without any argument (default function)"
   ]
  },
  {
   "cell_type": "code",
   "execution_count": null,
   "metadata": {},
   "outputs": [
    {
     "name": "stdout",
     "output_type": "stream",
     "text": [
      "PIAIC Generative AI\n",
      "Python Crash Course\n"
     ]
    }
   ],
   "source": [
    "def piaic()->None: # Declation \n",
    "\n",
    "    # function body start\n",
    "    print(\"PIAIC Generative AI\")\n",
    "    print(\"Python Crash Course\")\n",
    "    # function body end\n",
    "\n",
    "piaic() # function calling\n",
    "\n"
   ]
  },
  {
   "cell_type": "markdown",
   "metadata": {},
   "source": [
    "# Function with optional parameter"
   ]
  },
  {
   "cell_type": "code",
   "execution_count": null,
   "metadata": {},
   "outputs": [
    {
     "name": "stdout",
     "output_type": "stream",
     "text": [
      "2 3\n"
     ]
    },
    {
     "data": {
      "text/plain": [
       "5"
      ]
     },
     "execution_count": 20,
     "metadata": {},
     "output_type": "execute_result"
    }
   ],
   "source": [
    "def add_two_numbers(num1: int, num2: int = 0)-> int:\n",
    "    print(num1, num2)\n",
    "    return num1 + num2\n",
    "\n",
    "add_two_numbers(2,3)"
   ]
  },
  {
   "cell_type": "code",
   "execution_count": null,
   "metadata": {},
   "outputs": [
    {
     "data": {
      "text/plain": [
       "10"
      ]
     },
     "execution_count": 24,
     "metadata": {},
     "output_type": "execute_result"
    }
   ],
   "source": [
    "a = lambda num1, num2 : num1 + num2\n",
    "a(7,3)"
   ]
  },
  {
   "cell_type": "code",
   "execution_count": null,
   "metadata": {},
   "outputs": [
    {
     "data": {
      "text/plain": [
       "[1, 4, 9, 16, 25, 36, 49, 64, 81, 100]"
      ]
     },
     "execution_count": 26,
     "metadata": {},
     "output_type": "execute_result"
    }
   ],
   "source": [
    "data : list[int] = [1,2,3,4,5,6,7,8,9,10]\n",
    "\n",
    "data = list(map(lambda x: x**2 , data))\n",
    "\n",
    "data"
   ]
  },
  {
   "cell_type": "code",
   "execution_count": null,
   "metadata": {},
   "outputs": [
    {
     "data": {
      "text/plain": [
       "[2, 4, 6, 8, 10]"
      ]
     },
     "execution_count": 30,
     "metadata": {},
     "output_type": "execute_result"
    }
   ],
   "source": [
    "data : list[int] = [1,2,3,4,5,6,7,8,9,10]\n",
    "\n",
    "data = list(filter(lambda x: x % 2==0 , data))\n",
    "\n",
    "data"
   ]
  },
  {
   "cell_type": "code",
   "execution_count": null,
   "metadata": {},
   "outputs": [
    {
     "name": "stdout",
     "output_type": "stream",
     "text": [
      "30\n"
     ]
    }
   ],
   "source": [
    "from typing import Callable\n",
    "\n",
    "add: Callable[[int, int], int] = lambda x, y : x + y\n",
    "result = add(10, 20) # result will be 30\n",
    "print(result)\n",
    "\n"
   ]
  },
  {
   "cell_type": "markdown",
   "metadata": {},
   "source": [
    "## Generator Function\n",
    "* iterate on element one by one\n",
    "* stop after each iteration \n",
    "* remember last iteration value \n",
    "* next iterate \n",
    "    * go forward from last iterate value \n"
   ]
  },
  {
   "cell_type": "code",
   "execution_count": null,
   "metadata": {},
   "outputs": [
    {
     "name": "stdout",
     "output_type": "stream",
     "text": [
      "<generator object my_range at 0x000001467EC509A0>\n",
      "[1, 2, 3, 4, 5, 6, 7, 8, 9]\n"
     ]
    }
   ],
   "source": [
    "## Generator Function\n",
    "\n",
    "def my_range(start:int, end:int, step: int=1):\n",
    "    for i in range(start, end, step):\n",
    "        yield i # Generator Function\n",
    "\n",
    "a = my_range(1,10)\n",
    "print(a)\n",
    "print(list(a))\n"
   ]
  },
  {
   "cell_type": "code",
   "execution_count": null,
   "metadata": {},
   "outputs": [
    {
     "name": "stdout",
     "output_type": "stream",
     "text": [
      "2\n"
     ]
    }
   ],
   "source": [
    "data:list[int] = filter(lambda x:x % 2==0, range(1,101))\n",
    "\n",
    "print(next(data))"
   ]
  },
  {
   "cell_type": "markdown",
   "metadata": {},
   "source": [
    "### pass unlimited arguments"
   ]
  },
  {
   "cell_type": "code",
   "execution_count": null,
   "metadata": {},
   "outputs": [
    {
     "name": "stdout",
     "output_type": "stream",
     "text": [
      "Hello Monica\n",
      "Hello Luke\n",
      "Hello Steve\n",
      "Hello John\n"
     ]
    }
   ],
   "source": [
    "from typing import Tuple\n",
    "\n",
    "def greet(*names:Tuple[str, ...])-> None:\n",
    "\n",
    "    \"\"\"\"\n",
    "    This function greets all persons in the names tuple\n",
    "    \"\"\"\n",
    "\n",
    "    for name in names:\n",
    "        print(\"Hello\", name)\n",
    "\n",
    "greet(\"Monica\", \"Luke\", \"Steve\",\"John\" )"
   ]
  },
  {
   "cell_type": "code",
   "execution_count": null,
   "metadata": {},
   "outputs": [
    {
     "name": "stdout",
     "output_type": "stream",
     "text": [
      "1 2 (7, 9, 9, 9) {'c': 20, 'x': 100}\n"
     ]
    }
   ],
   "source": [
    "def my_function(a: int, b:int, *abc: int, **xyz: int) -> None:\n",
    "    print(a, b, abc, xyz)\n",
    "\n",
    "my_function(1,2,7,9,9,9, c=20, x=100)"
   ]
  },
  {
   "cell_type": "code",
   "execution_count": null,
   "metadata": {},
   "outputs": [
    {
     "name": "stdout",
     "output_type": "stream",
     "text": [
      "Something is happeing before the function is called\n",
      "100\n",
      "Something is happeing after the function is called\n"
     ]
    }
   ],
   "source": [
    "from typing import Callable\n",
    "\n",
    "def decorator(func: Callable[[int],None]) -> Callable[[int],None]:\n",
    "    def wrapper (num1:int) -> None:\n",
    "        print(\"Something is happeing before the function is called\")\n",
    "        func(num1)\n",
    "        print(\"Something is happeing after the function is called\")\n",
    "    return wrapper\n",
    "\n",
    "@decorator\n",
    "def say_hello(num1:int)-> None:\n",
    "    print(num1)\n",
    "\n",
    "say_hello(100)\n",
    "\n",
    "        \n"
   ]
  },
  {
   "cell_type": "markdown",
   "metadata": {},
   "source": [
    "### Recursive Function"
   ]
  },
  {
   "cell_type": "code",
   "execution_count": null,
   "metadata": {},
   "outputs": [
    {
     "name": "stdout",
     "output_type": "stream",
     "text": [
      "This factorial of 5 is 120\n"
     ]
    }
   ],
   "source": [
    "def factorial (x: int) -> int:\n",
    "\n",
    "    \"\"\"This is a recursive function \n",
    "    to find the factorial of an integar\"\"\"\n",
    "\n",
    "    if x == 1:\n",
    "        return 1\n",
    "    else:\n",
    "        return(x * factorial (x-1))\n",
    "    \n",
    "num = 5\n",
    "print(\"This factorial of\", num, \"is\", factorial(num))"
   ]
  },
  {
   "cell_type": "markdown",
   "metadata": {},
   "source": [
    "Mutable Objects\n"
   ]
  },
  {
   "cell_type": "code",
   "execution_count": null,
   "metadata": {},
   "outputs": [
    {
     "name": "stdout",
     "output_type": "stream",
     "text": [
      "list_b [1, 2, 3, 4]\n"
     ]
    }
   ],
   "source": [
    "list_a = [1,2,3]\n",
    "list_b = list_a\n",
    "list_a.append(4)\n",
    "\n",
    "print(\"list_b\", list_b)"
   ]
  },
  {
   "cell_type": "code",
   "execution_count": null,
   "metadata": {},
   "outputs": [
    {
     "name": "stdout",
     "output_type": "stream",
     "text": [
      "num_b: 5\n"
     ]
    }
   ],
   "source": [
    "num_a:int = 5\n",
    "num_b = num_a\n",
    "num_a += 1\n",
    "print(\"num_b:\", num_b) # Output: num_b: 5\n"
   ]
  },
  {
   "cell_type": "markdown",
   "metadata": {},
   "source": [
    "Addressing Changes without Function Calls\n"
   ]
  },
  {
   "cell_type": "code",
   "execution_count": null,
   "metadata": {},
   "outputs": [
    {
     "name": "stdout",
     "output_type": "stream",
     "text": [
      "Before modification: 10 140715169846344\n",
      "After modification: 11 140715169846376\n"
     ]
    }
   ],
   "source": [
    "x = 10\n",
    "print(\"Before modification:\", x, id(x))\n",
    "x += 1\n",
    "print(\"After modification:\", x, id(x))"
   ]
  },
  {
   "cell_type": "code",
   "execution_count": null,
   "metadata": {},
   "outputs": [
    {
     "name": "stdout",
     "output_type": "stream",
     "text": [
      "num1 value before 5\n",
      "num1 value is 6\n",
      "Original variable value is 5\n"
     ]
    }
   ],
   "source": [
    "a : int = 5\n",
    "\n",
    "def abc(num1:int)->None:\n",
    "    print(f\"num1 value before {num1}\")\n",
    "    num1 = 6 # copy\n",
    "    print(f\"num1 value is {num1}\")\n",
    "\n",
    "abc(a) # pass by value imutable\n",
    "\n",
    "print(f\"Original variable value is {a}\")"
   ]
  },
  {
   "cell_type": "code",
   "execution_count": null,
   "metadata": {},
   "outputs": [
    {
     "name": "stdout",
     "output_type": "stream",
     "text": [
      "num1 value is [7, 200]\n",
      "[1, 2, 3, 4]\n"
     ]
    }
   ],
   "source": [
    "a : list[int] = [1,2,3,4]\n",
    "\n",
    "def abc(num1:list[int])->None:\n",
    "    num1 = [7] # reassign list variable -> create new object\n",
    "    num1.append(200)# added on element\n",
    "    print(f\"num1 value is {num1}\")\n",
    "\n",
    "abc(a)# pass by refference (mutable data type)\n",
    "\n",
    "print(a)\n",
    "\n"
   ]
  },
  {
   "cell_type": "code",
   "execution_count": null,
   "metadata": {},
   "outputs": [
    {
     "name": "stdout",
     "output_type": "stream",
     "text": [
      "First Assignment of variable a value is 140737131484072\n",
      "\tValue of start of function 5 address 140737131484072\n",
      "\tnum1 value end of function 6 address 140737131484104\n",
      "\tEnd of program\n",
      "End of program variable value is 5 address of a 140737131484072\n"
     ]
    }
   ],
   "source": [
    "a : int = 5\n",
    "\n",
    "print(f\"First Assignment of variable a value is {id(a)}\")\n",
    "\n",
    "def abc(num1:int)->None:\n",
    "    print(f\"\\tValue of start of function {num1} address {id(num1)}\")\n",
    "    num1 = 6# copy now it will change update object\n",
    "\n",
    "    print(f\"\\tnum1 value end of function {num1} address {id(num1)}\") # change here\n",
    "    print(\"\\tEnd of program\")\n",
    "\n",
    "abc(a) # pass by value imutable\n",
    "\n",
    "print(f\"End of program variable value is {a} address of a {id(a)}\")\n",
    "\n"
   ]
  },
  {
   "cell_type": "code",
   "execution_count": null,
   "metadata": {},
   "outputs": [
    {
     "name": "stdout",
     "output_type": "stream",
     "text": [
      "X value is 7 and X address 140737131484136\n",
      "X value is 7 and X address 140737131484136\n",
      "X value is 7 and X address 140737131490312\n"
     ]
    }
   ],
   "source": [
    "x : int = 7\n",
    "\n",
    "b = x\n",
    "\n",
    "print(f\"X value is {x} and X address {id(x)}\")\n",
    "print(f\"X value is {x} and X address {id(b)}\")\n",
    "\n",
    "b = 200 # update then it will change address\n",
    "\n",
    "print(f\"X value is {x} and X address {id(b)}\")"
   ]
  },
  {
   "cell_type": "code",
   "execution_count": null,
   "metadata": {},
   "outputs": [
    {
     "name": "stdout",
     "output_type": "stream",
     "text": [
      "X value is 7 and X address 140737445598184\n",
      "X value is 7 and X address 140737445598184\n",
      "X value is 200 and X address 140737445604360\n"
     ]
    }
   ],
   "source": [
    "x : int = 7\n",
    "\n",
    "b : int = 7\n",
    "\n",
    "print(f\"X value is {x} and X address {id(x)}\")\n",
    "print(f\"X value is {b} and X address {id(b)}\")\n",
    "\n",
    "b = 200 # update then it will change address\n",
    "\n",
    "print(f\"X value is {b} and X address {id(b)}\")"
   ]
  },
  {
   "cell_type": "code",
   "execution_count": null,
   "metadata": {},
   "outputs": [
    {
     "name": "stdout",
     "output_type": "stream",
     "text": [
      "X value is 7 and X address 140737445598184\n",
      "X value is 7 and X address 140737445598184\n",
      "X value is 200 and X address 140737445604360\n"
     ]
    }
   ],
   "source": [
    "x : int = 7\n",
    "\n",
    "b : int = int(7)# changes then it will create new object\n",
    "\n",
    "print(f\"X value is {x} and X address {id(x)}\")\n",
    "print(f\"X value is {b} and X address {id(b)}\")\n",
    "\n",
    "b = 200 # update then it will change address\n",
    "\n",
    "print(f\"X value is {b} and X address {id(b)}\")"
   ]
  },
  {
   "cell_type": "code",
   "execution_count": null,
   "metadata": {},
   "outputs": [
    {
     "name": "stdout",
     "output_type": "stream",
     "text": [
      "1836523733952\n",
      "\tValue of start of function [1, 2, 3, 4] address 1836523733952\n",
      "num1 value is [1, 2, 3, 4, 200] address 1836523733952\n",
      "[1, 2, 3, 4, 200]\n"
     ]
    }
   ],
   "source": [
    "a : list[int] = [1,2,3,4]\n",
    "\n",
    "print(id(a))\n",
    "\n",
    "def abc(num1:list[int])->None:\n",
    "    print(f\"\\tValue of start of function {num1} address {id(num1)}\")\n",
    "    num1.append(200)# added on element\n",
    "    print(f\"num1 value is {num1} address {id(num1)}\")\n",
    "\n",
    "abc(a)# pass by refference (mutable data type)\n",
    "\n",
    "print(a)\n",
    "\n"
   ]
  },
  {
   "cell_type": "code",
   "execution_count": null,
   "metadata": {},
   "outputs": [
    {
     "name": "stdout",
     "output_type": "stream",
     "text": [
      "num1 value is [7, 200]\n",
      "[1, 2, 3, 4]\n"
     ]
    }
   ],
   "source": [
    "a : list[int] = [1,2,3,4]\n",
    "\n",
    "def abc(num1:list[int])->None:\n",
    "    num1:list[int] = [7] # reassign list variable -> create new object\n",
    "    num1.append(200)# added on element\n",
    "    print(f\"num1 value is {num1}\")\n",
    "\n",
    "abc(a)# pass by refference (mutable data type)\n",
    "\n",
    "print(a)\n",
    "\n"
   ]
  },
  {
   "cell_type": "code",
   "execution_count": null,
   "metadata": {},
   "outputs": [
    {
     "name": "stdout",
     "output_type": "stream",
     "text": [
      "1836523666240\n",
      "1836522165760\n"
     ]
    }
   ],
   "source": [
    "a : list[int] = [1,2,3,4] # mutable\n",
    "b : list[int] = [1,2,3,4] # mutable\n",
    "\n",
    "print(id(a))\n",
    "print(id(b))"
   ]
  },
  {
   "cell_type": "markdown",
   "metadata": {},
   "source": [
    "# Run time Error"
   ]
  },
  {
   "cell_type": "code",
   "execution_count": null,
   "metadata": {},
   "outputs": [
    {
     "name": "stdout",
     "output_type": "stream",
     "text": [
      "5.0\n"
     ]
    }
   ],
   "source": [
    "a : int = int(input(\"Enter number1:\\t\"))\n",
    "b : int = int(input(\"Enter number2:\\t\"))\n",
    "\n",
    "print(a / b)"
   ]
  },
  {
   "cell_type": "code",
   "execution_count": null,
   "metadata": {},
   "outputs": [
    {
     "ename": "ZeroDivisionError",
     "evalue": "division by zero",
     "output_type": "error",
     "traceback": [
      "\u001b[1;31m---------------------------------------------------------------------------\u001b[0m",
      "\u001b[1;31mZeroDivisionError\u001b[0m                         Traceback (most recent call last)",
      "Cell \u001b[1;32mIn[8], line 4\u001b[0m\n\u001b[0;32m      1\u001b[0m a : \u001b[38;5;28mint\u001b[39m \u001b[38;5;241m=\u001b[39m \u001b[38;5;28mint\u001b[39m(\u001b[38;5;28minput\u001b[39m(\u001b[38;5;124m\"\u001b[39m\u001b[38;5;124mEnter number1:\u001b[39m\u001b[38;5;130;01m\\t\u001b[39;00m\u001b[38;5;124m\"\u001b[39m))\n\u001b[0;32m      2\u001b[0m b : \u001b[38;5;28mint\u001b[39m \u001b[38;5;241m=\u001b[39m \u001b[38;5;28mint\u001b[39m(\u001b[38;5;28minput\u001b[39m(\u001b[38;5;124m\"\u001b[39m\u001b[38;5;124mEnter number2:\u001b[39m\u001b[38;5;130;01m\\t\u001b[39;00m\u001b[38;5;124m\"\u001b[39m))\n\u001b[1;32m----> 4\u001b[0m \u001b[38;5;28mprint\u001b[39m(a \u001b[38;5;241m/\u001b[39m b)\n",
      "\u001b[1;31mZeroDivisionError\u001b[0m: division by zero"
     ]
    }
   ],
   "source": [
    "a : int = int(input(\"Enter number1:\\t\"))\n",
    "b : int = int(input(\"Enter number2:\\t\"))\n",
    "\n",
    "print(a / b)"
   ]
  },
  {
   "cell_type": "code",
   "execution_count": null,
   "metadata": {},
   "outputs": [
    {
     "name": "stdout",
     "output_type": "stream",
     "text": [
      "Sir Zia\n"
     ]
    }
   ],
   "source": [
    "names:list[str] = ['Sir Zia',\"Sir Inam\",\"Muhammad Qasim\"]\n",
    "\n",
    "indx : int = int(input(\"Enter index number:\\t\"))\n",
    "print(names[indx])"
   ]
  },
  {
   "cell_type": "code",
   "execution_count": null,
   "metadata": {},
   "outputs": [
    {
     "ename": "IndexError",
     "evalue": "list index out of range",
     "output_type": "error",
     "traceback": [
      "\u001b[1;31m---------------------------------------------------------------------------\u001b[0m",
      "\u001b[1;31mIndexError\u001b[0m                                Traceback (most recent call last)",
      "Cell \u001b[1;32mIn[10], line 4\u001b[0m\n\u001b[0;32m      1\u001b[0m names:\u001b[38;5;28mlist\u001b[39m[\u001b[38;5;28mstr\u001b[39m] \u001b[38;5;241m=\u001b[39m [\u001b[38;5;124m'\u001b[39m\u001b[38;5;124mSir Zia\u001b[39m\u001b[38;5;124m'\u001b[39m,\u001b[38;5;124m\"\u001b[39m\u001b[38;5;124mSir Inam\u001b[39m\u001b[38;5;124m\"\u001b[39m,\u001b[38;5;124m\"\u001b[39m\u001b[38;5;124mMuhammad Qasim\u001b[39m\u001b[38;5;124m\"\u001b[39m]\n\u001b[0;32m      3\u001b[0m indx : \u001b[38;5;28mint\u001b[39m \u001b[38;5;241m=\u001b[39m \u001b[38;5;28mint\u001b[39m(\u001b[38;5;28minput\u001b[39m(\u001b[38;5;124m\"\u001b[39m\u001b[38;5;124mEnter index number:\u001b[39m\u001b[38;5;130;01m\\t\u001b[39;00m\u001b[38;5;124m\"\u001b[39m))\n\u001b[1;32m----> 4\u001b[0m \u001b[38;5;28mprint\u001b[39m(names[indx])\n",
      "\u001b[1;31mIndexError\u001b[0m: list index out of range"
     ]
    }
   ],
   "source": [
    "names:list[str] = ['Sir Zia',\"Sir Inam\",\"Muhammad Qasim\"]\n",
    "\n",
    "indx : int = int(input(\"Enter index number:\\t\"))\n",
    "print(names[indx])"
   ]
  },
  {
   "cell_type": "code",
   "execution_count": null,
   "metadata": {},
   "outputs": [
    {
     "ename": "TypeError",
     "evalue": "'tuple' object does not support item assignment",
     "output_type": "error",
     "traceback": [
      "\u001b[1;31m---------------------------------------------------------------------------\u001b[0m",
      "\u001b[1;31mTypeError\u001b[0m                                 Traceback (most recent call last)",
      "Cell \u001b[1;32mIn[11], line 2\u001b[0m\n\u001b[0;32m      1\u001b[0m data : \u001b[38;5;28mtuple\u001b[39m[\u001b[38;5;28mint\u001b[39m,\u001b[38;5;28mint\u001b[39m,\u001b[38;5;28mint\u001b[39m] \u001b[38;5;241m=\u001b[39m (\u001b[38;5;241m1\u001b[39m,\u001b[38;5;241m2\u001b[39m,\u001b[38;5;241m3\u001b[39m)\n\u001b[1;32m----> 2\u001b[0m data[\u001b[38;5;241m0\u001b[39m] \u001b[38;5;241m=\u001b[39m \u001b[38;5;241m2000\u001b[39m\n",
      "\u001b[1;31mTypeError\u001b[0m: 'tuple' object does not support item assignment"
     ]
    }
   ],
   "source": [
    "data : tuple[int,int,int] = (1,2,3)\n",
    "data[0] = 2000"
   ]
  },
  {
   "cell_type": "code",
   "execution_count": null,
   "metadata": {},
   "outputs": [
    {
     "ename": "TypeError",
     "evalue": "can only concatenate str (not \"int\") to str",
     "output_type": "error",
     "traceback": [
      "\u001b[1;31m---------------------------------------------------------------------------\u001b[0m",
      "\u001b[1;31mTypeError\u001b[0m                                 Traceback (most recent call last)",
      "Cell \u001b[1;32mIn[12], line 1\u001b[0m\n\u001b[1;32m----> 1\u001b[0m \u001b[38;5;124m\"\u001b[39m\u001b[38;5;124m2\u001b[39m\u001b[38;5;124m\"\u001b[39m \u001b[38;5;241m+\u001b[39m \u001b[38;5;241m2\u001b[39m\n",
      "\u001b[1;31mTypeError\u001b[0m: can only concatenate str (not \"int\") to str"
     ]
    }
   ],
   "source": [
    "\"2\" + 2"
   ]
  },
  {
   "cell_type": "markdown",
   "metadata": {},
   "source": [
    "# Handle run time error\n",
    "\n",
    "```\n",
    "try:\n",
    "    logic \n",
    "except(Error_class1, Error_class2):\n",
    "    if error occured then run this block\n",
    "else:\n",
    "    if error not occured \n",
    "finally: \n",
    "    always run\n",
    "\n",
    "\n",
    "\n",
    "\n",
    "```"
   ]
  },
  {
   "cell_type": "code",
   "execution_count": null,
   "metadata": {},
   "outputs": [
    {
     "name": "stdout",
     "output_type": "stream",
     "text": [
      "There is Error\n"
     ]
    }
   ],
   "source": [
    "try:\n",
    "    print(7/0) # logic code\n",
    "except (ZeroDivisionError):\n",
    "    print(\"There is Error\")"
   ]
  },
  {
   "cell_type": "code",
   "execution_count": null,
   "metadata": {},
   "outputs": [
    {
     "name": "stdout",
     "output_type": "stream",
     "text": [
      "logic1\n",
      "logic2\n"
     ]
    },
    {
     "ename": "ZeroDivisionError",
     "evalue": "division by zero",
     "output_type": "error",
     "traceback": [
      "\u001b[1;31m---------------------------------------------------------------------------\u001b[0m",
      "\u001b[1;31mZeroDivisionError\u001b[0m                         Traceback (most recent call last)",
      "Cell \u001b[1;32mIn[16], line 3\u001b[0m\n\u001b[0;32m      1\u001b[0m \u001b[38;5;28mprint\u001b[39m(\u001b[38;5;124m\"\u001b[39m\u001b[38;5;124mlogic1\u001b[39m\u001b[38;5;124m\"\u001b[39m)\n\u001b[0;32m      2\u001b[0m \u001b[38;5;28mprint\u001b[39m(\u001b[38;5;124m\"\u001b[39m\u001b[38;5;124mlogic2\u001b[39m\u001b[38;5;124m\"\u001b[39m)\n\u001b[1;32m----> 3\u001b[0m \u001b[38;5;28mprint\u001b[39m(\u001b[38;5;241m5\u001b[39m\u001b[38;5;241m/\u001b[39m\u001b[38;5;241m0\u001b[39m)\u001b[38;5;66;03m# Error\u001b[39;00m\n\u001b[0;32m      4\u001b[0m \u001b[38;5;28mprint\u001b[39m(\u001b[38;5;124m\"\u001b[39m\u001b[38;5;124mlogic4\u001b[39m\u001b[38;5;124m\"\u001b[39m)\n\u001b[0;32m      5\u001b[0m \u001b[38;5;28mprint\u001b[39m(\u001b[38;5;124m\"\u001b[39m\u001b[38;5;124mlogic5\u001b[39m\u001b[38;5;124m\"\u001b[39m)\n",
      "\u001b[1;31mZeroDivisionError\u001b[0m: division by zero"
     ]
    }
   ],
   "source": [
    "print(\"logic1\")\n",
    "print(\"logic2\")\n",
    "print(5/0)# Error\n",
    "print(\"logic4\")\n",
    "print(\"logic5\")\n"
   ]
  },
  {
   "cell_type": "code",
   "execution_count": null,
   "metadata": {},
   "outputs": [
    {
     "name": "stdout",
     "output_type": "stream",
     "text": [
      "logic1\n",
      "logic2\n",
      "Zerro Division Error!\n",
      "logic4\n",
      "logic5\n"
     ]
    }
   ],
   "source": [
    "print(\"logic1\")\n",
    "print(\"logic2\")\n",
    "try:\n",
    "    print(5/0)# Error\n",
    "except ZeroDivisionError:\n",
    "    print(\"Zerro Division Error!\")\n",
    "print(\"logic4\")\n",
    "print(\"logic5\")"
   ]
  },
  {
   "cell_type": "code",
   "execution_count": null,
   "metadata": {},
   "outputs": [
    {
     "name": "stdout",
     "output_type": "stream",
     "text": [
      "logic1\n",
      "logic2\n",
      "logic4\n",
      "logic5\n"
     ]
    }
   ],
   "source": [
    "print(\"logic1\")\n",
    "print(\"logic2\")\n",
    "try:\n",
    "    print(5/0)# Error\n",
    "except ZeroDivisionError:\n",
    "    pass\n",
    "print(\"logic4\")\n",
    "print(\"logic5\")"
   ]
  },
  {
   "cell_type": "code",
   "execution_count": null,
   "metadata": {},
   "outputs": [
    {
     "ename": "IndexError",
     "evalue": "list index out of range",
     "output_type": "error",
     "traceback": [
      "\u001b[1;31m---------------------------------------------------------------------------\u001b[0m",
      "\u001b[1;31mIndexError\u001b[0m                                Traceback (most recent call last)",
      "Cell \u001b[1;32mIn[19], line 2\u001b[0m\n\u001b[0;32m      1\u001b[0m l1 : \u001b[38;5;28mlist\u001b[39m[\u001b[38;5;28mint\u001b[39m] \u001b[38;5;241m=\u001b[39m [\u001b[38;5;241m1\u001b[39m,\u001b[38;5;241m2\u001b[39m,\u001b[38;5;241m3\u001b[39m]\n\u001b[1;32m----> 2\u001b[0m l1[\u001b[38;5;241m200\u001b[39m]\n",
      "\u001b[1;31mIndexError\u001b[0m: list index out of range"
     ]
    }
   ],
   "source": [
    "l1 : list[int] = [1,2,3]\n",
    "l1[200]"
   ]
  },
  {
   "cell_type": "code",
   "execution_count": null,
   "metadata": {},
   "outputs": [
    {
     "name": "stdout",
     "output_type": "stream",
     "text": [
      "logic1\n",
      "logic2\n",
      "Zerro Division Error!\n",
      "logic4\n",
      "logic5\n"
     ]
    }
   ],
   "source": [
    "print(\"logic1\")\n",
    "print(\"logic2\")\n",
    "\n",
    "l1 : list[int] = [1,2,3]\n",
    "\n",
    "try:\n",
    "    print(5/0)# Error\n",
    "    print(l1[0])\n",
    "    print(xyz)\n",
    "\n",
    "    \n",
    "except (ZeroDivisionError,IndexError, NameError):\n",
    "    print(\"Zerro Division Error!\")\n",
    "print(\"logic4\")\n",
    "print(\"logic5\")"
   ]
  },
  {
   "cell_type": "code",
   "execution_count": null,
   "metadata": {},
   "outputs": [
    {
     "name": "stdout",
     "output_type": "stream",
     "text": [
      "logic1\n",
      "logic2\n",
      "2.5\n",
      "1\n",
      "Zerro Division Error!\n",
      "logic4\n",
      "logic5\n"
     ]
    }
   ],
   "source": [
    "print(\"logic1\")\n",
    "print(\"logic2\")\n",
    "\n",
    "l1 : list[int] = [1,2,3]\n",
    "\n",
    "try:\n",
    "    print(5/2)\n",
    "    print(l1[0])\n",
    "    print(xyz) # error\n",
    "except (ZeroDivisionError,IndexError,NameError):\n",
    "    print(\"Zerro Division Error!\")\n",
    "print(\"logic4\")\n",
    "print(\"logic5\")"
   ]
  },
  {
   "cell_type": "code",
   "execution_count": null,
   "metadata": {},
   "outputs": [
    {
     "name": "stdout",
     "output_type": "stream",
     "text": [
      "logic1\n",
      "logic2\n",
      "2.5\n",
      "1\n",
      "Some thing is wrong!\n",
      "logic4\n",
      "logic5\n"
     ]
    }
   ],
   "source": [
    "print(\"logic1\")\n",
    "print(\"logic2\")\n",
    "\n",
    "l1 : list[int] = [1,2,3]\n",
    "\n",
    "try:\n",
    "    print(5/2)\n",
    "    print(l1[0])# Error\n",
    "    # print(xyz) # error\n",
    "    open(\"aa.txt\")\n",
    "except (ZeroDivisionError):\n",
    "    print(\"Zerro Division Error!\")\n",
    "except IndexError:\n",
    "    print(\"Index Error\")\n",
    "except NameError:\n",
    "    print(\"Name not defined\")\n",
    "except:\n",
    "    print(\"Some thing    wrong!\")\n",
    "\n",
    "\n",
    "print(\"logic4\")\n",
    "print(\"logic5\")"
   ]
  },
  {
   "cell_type": "code",
   "execution_count": null,
   "metadata": {},
   "outputs": [
    {
     "name": "stdout",
     "output_type": "stream",
     "text": [
      "Some thing is wrong!\n",
      "list index out of range\n"
     ]
    }
   ],
   "source": [
    "try:\n",
    "    # print(age)\n",
    "    print(l1[200])\n",
    "except Exception as e:\n",
    "    print(f\"Some thing is wrong!\\n{e}\")"
   ]
  },
  {
   "cell_type": "code",
   "execution_count": null,
   "metadata": {},
   "outputs": [
    {
     "name": "stdout",
     "output_type": "stream",
     "text": [
      "Qasim 1 30\n"
     ]
    }
   ],
   "source": [
    "class StudentCard():\n",
    "    def __init__(self, roll_no:int, name:str, age:int) -> None:\n",
    "        if age < 18 or age > 60:\n",
    "            raise StudentAgeError(\"Your are not eligible for this program!\")\n",
    "        self.roll_no = roll_no\n",
    "        self.name = name\n",
    "        self.age = age\n",
    "\n",
    "class StudentAgeError(Exception):# custom error class\n",
    "    pass\n",
    "\n",
    "studen1 = StudentCard(1,\"Qasim\",30)\n",
    "\n",
    "print(studen1.name, studen1.roll_no, studen1.age)"
   ]
  },
  {
   "cell_type": "code",
   "execution_count": null,
   "metadata": {},
   "outputs": [
    {
     "ename": "StudentAgeError",
     "evalue": "Your are not eligible for this program!",
     "output_type": "error",
     "traceback": [
      "\u001b[1;31m---------------------------------------------------------------------------\u001b[0m",
      "\u001b[1;31mStudentAgeError\u001b[0m                           Traceback (most recent call last)",
      "Cell \u001b[1;32mIn[4], line 1\u001b[0m\n\u001b[1;32m----> 1\u001b[0m studen1 \u001b[38;5;241m=\u001b[39m StudentCard(\u001b[38;5;241m1\u001b[39m,\u001b[38;5;124m\"\u001b[39m\u001b[38;5;124mHammad\u001b[39m\u001b[38;5;124m\"\u001b[39m,\u001b[38;5;241m61\u001b[39m)\n\u001b[0;32m      3\u001b[0m \u001b[38;5;28mprint\u001b[39m(studen1\u001b[38;5;241m.\u001b[39mname, studen1\u001b[38;5;241m.\u001b[39mroll_no, studen1\u001b[38;5;241m.\u001b[39mage)\n",
      "Cell \u001b[1;32mIn[3], line 4\u001b[0m, in \u001b[0;36mStudentCard.__init__\u001b[1;34m(self, roll_no, name, age)\u001b[0m\n\u001b[0;32m      2\u001b[0m \u001b[38;5;28;01mdef\u001b[39;00m \u001b[38;5;21m__init__\u001b[39m(\u001b[38;5;28mself\u001b[39m, roll_no:\u001b[38;5;28mint\u001b[39m, name:\u001b[38;5;28mstr\u001b[39m, age:\u001b[38;5;28mint\u001b[39m) \u001b[38;5;241m-\u001b[39m\u001b[38;5;241m>\u001b[39m \u001b[38;5;28;01mNone\u001b[39;00m:\n\u001b[0;32m      3\u001b[0m     \u001b[38;5;28;01mif\u001b[39;00m age \u001b[38;5;241m<\u001b[39m \u001b[38;5;241m18\u001b[39m \u001b[38;5;129;01mor\u001b[39;00m age \u001b[38;5;241m>\u001b[39m \u001b[38;5;241m60\u001b[39m:\n\u001b[1;32m----> 4\u001b[0m         \u001b[38;5;28;01mraise\u001b[39;00m StudentAgeError(\u001b[38;5;124m\"\u001b[39m\u001b[38;5;124mYour are not eligible for this program!\u001b[39m\u001b[38;5;124m\"\u001b[39m)\n\u001b[0;32m      5\u001b[0m     \u001b[38;5;28mself\u001b[39m\u001b[38;5;241m.\u001b[39mroll_no \u001b[38;5;241m=\u001b[39m roll_no\n\u001b[0;32m      6\u001b[0m     \u001b[38;5;28mself\u001b[39m\u001b[38;5;241m.\u001b[39mname \u001b[38;5;241m=\u001b[39m name\n",
      "\u001b[1;31mStudentAgeError\u001b[0m: Your are not eligible for this program!"
     ]
    }
   ],
   "source": [
    "studen1 = StudentCard(1,\"Hammad\",61)\n",
    "\n",
    "print(studen1.name, studen1.roll_no, studen1.age)"
   ]
  },
  {
   "cell_type": "code",
   "execution_count": null,
   "metadata": {},
   "outputs": [
    {
     "ename": "StudentAgeError",
     "evalue": "Your are not eligible for this program!",
     "output_type": "error",
     "traceback": [
      "\u001b[1;31m---------------------------------------------------------------------------\u001b[0m",
      "\u001b[1;31mStudentAgeError\u001b[0m                           Traceback (most recent call last)",
      "Cell \u001b[1;32mIn[5], line 1\u001b[0m\n\u001b[1;32m----> 1\u001b[0m studen1 \u001b[38;5;241m=\u001b[39m StudentCard(\u001b[38;5;241m1\u001b[39m,\u001b[38;5;124m\"\u001b[39m\u001b[38;5;124mHammad\u001b[39m\u001b[38;5;124m\"\u001b[39m,\u001b[38;5;241m16\u001b[39m)\n\u001b[0;32m      3\u001b[0m \u001b[38;5;28mprint\u001b[39m(studen1\u001b[38;5;241m.\u001b[39mname, studen1\u001b[38;5;241m.\u001b[39mroll_no, studen1\u001b[38;5;241m.\u001b[39mage)\n",
      "Cell \u001b[1;32mIn[3], line 4\u001b[0m, in \u001b[0;36mStudentCard.__init__\u001b[1;34m(self, roll_no, name, age)\u001b[0m\n\u001b[0;32m      2\u001b[0m \u001b[38;5;28;01mdef\u001b[39;00m \u001b[38;5;21m__init__\u001b[39m(\u001b[38;5;28mself\u001b[39m, roll_no:\u001b[38;5;28mint\u001b[39m, name:\u001b[38;5;28mstr\u001b[39m, age:\u001b[38;5;28mint\u001b[39m) \u001b[38;5;241m-\u001b[39m\u001b[38;5;241m>\u001b[39m \u001b[38;5;28;01mNone\u001b[39;00m:\n\u001b[0;32m      3\u001b[0m     \u001b[38;5;28;01mif\u001b[39;00m age \u001b[38;5;241m<\u001b[39m \u001b[38;5;241m18\u001b[39m \u001b[38;5;129;01mor\u001b[39;00m age \u001b[38;5;241m>\u001b[39m \u001b[38;5;241m60\u001b[39m:\n\u001b[1;32m----> 4\u001b[0m         \u001b[38;5;28;01mraise\u001b[39;00m StudentAgeError(\u001b[38;5;124m\"\u001b[39m\u001b[38;5;124mYour are not eligible for this program!\u001b[39m\u001b[38;5;124m\"\u001b[39m)\n\u001b[0;32m      5\u001b[0m     \u001b[38;5;28mself\u001b[39m\u001b[38;5;241m.\u001b[39mroll_no \u001b[38;5;241m=\u001b[39m roll_no\n\u001b[0;32m      6\u001b[0m     \u001b[38;5;28mself\u001b[39m\u001b[38;5;241m.\u001b[39mname \u001b[38;5;241m=\u001b[39m name\n",
      "\u001b[1;31mStudentAgeError\u001b[0m: Your are not eligible for this program!"
     ]
    }
   ],
   "source": [
    "studen1 = StudentCard(1,\"Hammad\",16)\n",
    "\n",
    "print(studen1.name, studen1.roll_no, studen1.age)"
   ]
  },
  {
   "cell_type": "markdown",
   "metadata": {},
   "source": [
    "# File Handling\n",
    "https://www.geeksforgeeks.org/reading-writing-text-files-python/\n",
    "\n",
    "<img src=\"https://net-informations.com/python/file/img/modes.png\">"
   ]
  },
  {
   "cell_type": "code",
   "execution_count": null,
   "metadata": {},
   "outputs": [
    {
     "data": {
      "text/plain": [
       "<_io.TextIOWrapper name='./filehandling/abc.txt' mode='r' encoding='utf-8'>"
      ]
     },
     "execution_count": 8,
     "metadata": {},
     "output_type": "execute_result"
    }
   ],
   "source": [
    "open(\"./filehandling/abc.txt\")"
   ]
  },
  {
   "cell_type": "code",
   "execution_count": null,
   "metadata": {},
   "outputs": [
    {
     "data": {
      "text/plain": [
       "<_io.TextIOWrapper name='./filehandling/abc.txt' mode='r' encoding='utf-8'>"
      ]
     },
     "execution_count": 11,
     "metadata": {},
     "output_type": "execute_result"
    }
   ],
   "source": [
    "data = open(\"./filehandling/abc.txt\")\n",
    "data"
   ]
  },
  {
   "cell_type": "code",
   "execution_count": null,
   "metadata": {},
   "outputs": [
    {
     "data": {
      "text/plain": [
       "['_CHUNK_SIZE',\n",
       " '_checkClosed',\n",
       " '_checkReadable',\n",
       " '_checkSeekable',\n",
       " '_checkWritable',\n",
       " '_finalizing',\n",
       " 'buffer',\n",
       " 'close',\n",
       " 'closed',\n",
       " 'detach',\n",
       " 'encoding',\n",
       " 'errors',\n",
       " 'fileno',\n",
       " 'flush',\n",
       " 'isatty',\n",
       " 'line_buffering',\n",
       " 'mode',\n",
       " 'name',\n",
       " 'newlines',\n",
       " 'read',\n",
       " 'readable',\n",
       " 'readline',\n",
       " 'readlines',\n",
       " 'reconfigure',\n",
       " 'seek',\n",
       " 'seekable',\n",
       " 'tell',\n",
       " 'truncate',\n",
       " 'writable',\n",
       " 'write',\n",
       " 'write_through',\n",
       " 'writelines']"
      ]
     },
     "execution_count": 12,
     "metadata": {},
     "output_type": "execute_result"
    }
   ],
   "source": [
    "[i for i in dir(data) if \"__\" not in i]"
   ]
  },
  {
   "cell_type": "code",
   "execution_count": null,
   "metadata": {},
   "outputs": [
    {
     "data": {
      "text/plain": [
       "_io.TextIOWrapper"
      ]
     },
     "execution_count": 13,
     "metadata": {},
     "output_type": "execute_result"
    }
   ],
   "source": [
    "type(data)"
   ]
  },
  {
   "cell_type": "code",
   "execution_count": null,
   "metadata": {},
   "outputs": [
    {
     "name": "stdout",
     "output_type": "stream",
     "text": [
      "LINE1\n",
      "LINE2\n",
      "LINE3\n",
      "LINE4\n",
      "LINE5\n",
      "\n"
     ]
    }
   ],
   "source": [
    "from typing import TextIO\n",
    "\n",
    "data:TextIO = open(\"./filehandling/abc.txt\") # connectivity with abc.txt file\n",
    "print(data.read())\n",
    "\n",
    "data.close() # close connectivity"
   ]
  },
  {
   "cell_type": "code",
   "execution_count": null,
   "metadata": {},
   "outputs": [
    {
     "name": "stdout",
     "output_type": "stream",
     "text": [
      "<class '_io.TextIOWrapper'>\n",
      "LINE1\n",
      "\n",
      "LINE2\n",
      "\n"
     ]
    }
   ],
   "source": [
    "with open(\"./filehandling/abc.txt\") as file:  # type: TextIO\n",
    "    print(type(file))\n",
    "    print(file.readline()) # read only one line (first line)\n",
    "    print(file.readline())# line2"
   ]
  },
  {
   "cell_type": "code",
   "execution_count": null,
   "metadata": {},
   "outputs": [
    {
     "name": "stdout",
     "output_type": "stream",
     "text": [
      "<class '_io.TextIOWrapper'>\n",
      "[]\n"
     ]
    }
   ],
   "source": [
    "with open(\"./filehandling/abc.txt\") as file:\n",
    "    print(type(file))\n",
    "    print(file.readlines()) # read only first line    \n"
   ]
  },
  {
   "cell_type": "code",
   "execution_count": null,
   "metadata": {},
   "outputs": [
    {
     "name": "stdout",
     "output_type": "stream",
     "text": [
      "<class '_io.TextIOWrapper'>\n",
      "['LINE1\\n', 'LINE2\\n', 'LINE3\\n']\n"
     ]
    }
   ],
   "source": [
    "with open(\"./filehandling/abc.txt\") as file:\n",
    "    print(type(file))\n",
    "    print(file.readlines()[:3]) # read only first line    \n"
   ]
  },
  {
   "cell_type": "code",
   "execution_count": null,
   "metadata": {},
   "outputs": [
    {
     "name": "stdout",
     "output_type": "stream",
     "text": [
      "LINE1\n",
      "LINE2\n",
      "LINE3\n",
      "LINE4\n",
      "LINE5\n",
      "\n"
     ]
    }
   ],
   "source": [
    "with open(\"./filehandling/abc.txt\", 'r+') as file:  # type: TextIO\n",
    "    print(file.read())\n",
    "    file.write(\"Pakistan zinda bad\")\n",
    "    "
   ]
  },
  {
   "cell_type": "code",
   "execution_count": null,
   "metadata": {},
   "outputs": [
    {
     "name": "stdout",
     "output_type": "stream",
     "text": [
      "Pakistan zinda badWE love our country!\n",
      "After \n"
     ]
    }
   ],
   "source": [
    "with open(\"./filehandling/abc1.txt\", 'r+') as file:  # type: TextIO\n",
    "    print(file.read())\n",
    "\n",
    "    file.write(\"WE love our country!\")\n",
    "\n",
    "    print(\"After\",file.read())"
   ]
  },
  {
   "cell_type": "code",
   "execution_count": null,
   "metadata": {},
   "outputs": [],
   "source": [
    "with open(\"./filehandling/abc3.txt\", 'a') as file:  # type: TextIO\n",
    "    # print(file.read())\n",
    "    file.write(\"Pakistan\") \n",
    "\n",
    "# if file exist then it overwrite the text\n",
    "# if file not exist then it will create new file"
   ]
  },
  {
   "cell_type": "code",
   "execution_count": null,
   "metadata": {},
   "outputs": [],
   "source": [
    "with open(\"./filehandling/abc3.txt\", 'a') as file:  # type: TextIO\n",
    "    # print(file.read())\n",
    "    file.write(\"line3\") \n",
    "\n",
    "# if file exist then it overwrite the text\n",
    "# add content in last\n"
   ]
  },
  {
   "cell_type": "code",
   "execution_count": null,
   "metadata": {},
   "outputs": [],
   "source": [
    "with open(\"./filehandling/abc.txt4\", 'x') as file:  # type: TextIO\n",
    "    # print(file.read())\n",
    "    file.write(\"line3\") \n",
    "\n",
    "# if file exist then it overwrite the text\n",
    "# if file not exist then it will create new file"
   ]
  },
  {
   "cell_type": "markdown",
   "metadata": {},
   "source": [
    "<table class=\"s-table\">\n",
    "    <thead>\n",
    "    <tr>\n",
    "    <th style=\"text-align: center;\">Mode</th>\n",
    "    <th style=\"text-align: center;\">r</th>\n",
    "    <th style=\"text-align: center;\">r+</th>\n",
    "    <th style=\"text-align: center;\">w</th>\n",
    "    <th style=\"text-align: center;\">w+</th>\n",
    "    <th style=\"text-align: center;\">a</th>\n",
    "    <th style=\"text-align: center;\">a+</th>\n",
    "    </tr>\n",
    "    </thead>\n",
    "    <tbody>\n",
    "    <tr>\n",
    "    <td style=\"text-align: center;\">Read</td>\n",
    "    <td style=\"text-align: center;\">+</td>\n",
    "    <td style=\"text-align: center;\">+</td>\n",
    "    <td style=\"text-align: center;\"></td>\n",
    "    <td style=\"text-align: center;\">+</td>\n",
    "    <td style=\"text-align: center;\"></td>\n",
    "    <td style=\"text-align: center;\">+</td>\n",
    "    </tr>\n",
    "    <tr>\n",
    "    <td style=\"text-align: center;\">Write</td>\n",
    "    <td style=\"text-align: center;\"></td>\n",
    "    <td style=\"text-align: center;\">+</td>\n",
    "    <td style=\"text-align: center;\">+</td>\n",
    "    <td style=\"text-align: center;\">+</td>\n",
    "    <td style=\"text-align: center;\">+</td>\n",
    "    <td style=\"text-align: center;\">+</td>\n",
    "    </tr>\n",
    "    <tr>\n",
    "    <td style=\"text-align: center;\">Create</td>\n",
    "    <td style=\"text-align: center;\"></td>\n",
    "    <td style=\"text-align: center;\"></td>\n",
    "    <td style=\"text-align: center;\">+</td>\n",
    "    <td style=\"text-align: center;\">+</td>\n",
    "    <td style=\"text-align: center;\">+</td>\n",
    "    <td style=\"text-align: center;\">+</td>\n",
    "    </tr>\n",
    "    <tr>\n",
    "    <td style=\"text-align: center;\">Cover</td>\n",
    "    <td style=\"text-align: center;\"></td>\n",
    "    <td style=\"text-align: center;\"></td>\n",
    "    <td style=\"text-align: center;\">+</td>\n",
    "    <td style=\"text-align: center;\">+</td>\n",
    "    <td style=\"text-align: center;\"></td>\n",
    "    <td style=\"text-align: center;\"></td>\n",
    "    </tr>\n",
    "    <tr>\n",
    "    <td style=\"text-align: center;\">Point in the beginning</td>\n",
    "    <td style=\"text-align: center;\">+</td>\n",
    "    <td style=\"text-align: center;\">+</td>\n",
    "    <td style=\"text-align: center;\">+</td>\n",
    "    <td style=\"text-align: center;\">+</td>\n",
    "    <td style=\"text-align: center;\"></td>\n",
    "    <td style=\"text-align: center;\"></td>\n",
    "    </tr>\n",
    "    <tr>\n",
    "    <td style=\"text-align: center;\">Point in the end</td>\n",
    "    <td style=\"text-align: center;\"></td>\n",
    "    <td style=\"text-align: center;\"></td>\n",
    "    <td style=\"text-align: center;\"></td>\n",
    "    <td style=\"text-align: center;\"></td>\n",
    "    <td style=\"text-align: center;\">+</td>\n",
    "    <td style=\"text-align: center;\">+</td>\n",
    "    </tr>\n",
    "    </tbody>\n",
    "    </table>"
   ]
  },
  {
   "cell_type": "markdown",
   "metadata": {},
   "source": [
    "# read some real world data files\n",
    "* image \n",
    "* csv\n",
    "* live camera"
   ]
  },
  {
   "cell_type": "code",
   "execution_count": 95,
   "metadata": {},
   "outputs": [
    {
     "data": {
      "text/html": [
       "<div>\n",
       "<style scoped>\n",
       "    .dataframe tbody tr th:only-of-type {\n",
       "        vertical-align: middle;\n",
       "    }\n",
       "\n",
       "    .dataframe tbody tr th {\n",
       "        vertical-align: top;\n",
       "    }\n",
       "\n",
       "    .dataframe thead th {\n",
       "        text-align: right;\n",
       "    }\n",
       "</style>\n",
       "<table border=\"1\" class=\"dataframe\">\n",
       "  <thead>\n",
       "    <tr style=\"text-align: right;\">\n",
       "      <th></th>\n",
       "      <th>id</th>\n",
       "      <th>name</th>\n",
       "      <th>education</th>\n",
       "    </tr>\n",
       "  </thead>\n",
       "  <tbody>\n",
       "    <tr>\n",
       "      <th>0</th>\n",
       "      <td>1</td>\n",
       "      <td>Sir Zia</td>\n",
       "      <td>Master</td>\n",
       "    </tr>\n",
       "    <tr>\n",
       "      <th>1</th>\n",
       "      <td>2</td>\n",
       "      <td>Sir Inam</td>\n",
       "      <td>Master</td>\n",
       "    </tr>\n",
       "    <tr>\n",
       "      <th>2</th>\n",
       "      <td>3</td>\n",
       "      <td>Muhammad Qasim</td>\n",
       "      <td>MSDS</td>\n",
       "    </tr>\n",
       "  </tbody>\n",
       "</table>\n",
       "</div>"
      ],
      "text/plain": [
       "   id            name education\n",
       "0   1         Sir Zia    Master\n",
       "1   2        Sir Inam    Master\n",
       "2   3  Muhammad Qasim      MSDS"
      ]
     },
     "execution_count": 95,
     "metadata": {},
     "output_type": "execute_result"
    }
   ],
   "source": [
    "import pandas as pd\n",
    "\n",
    "df : pd.DataFrame = pd.read_csv(\"./filehandling/data.csv\")\n",
    "\n",
    "df"
   ]
  },
  {
   "cell_type": "code",
   "execution_count": 97,
   "metadata": {},
   "outputs": [
    {
     "data": {
      "text/html": [
       "<div>\n",
       "<style scoped>\n",
       "    .dataframe tbody tr th:only-of-type {\n",
       "        vertical-align: middle;\n",
       "    }\n",
       "\n",
       "    .dataframe tbody tr th {\n",
       "        vertical-align: top;\n",
       "    }\n",
       "\n",
       "    .dataframe thead th {\n",
       "        text-align: right;\n",
       "    }\n",
       "</style>\n",
       "<table border=\"1\" class=\"dataframe\">\n",
       "  <thead>\n",
       "    <tr style=\"text-align: right;\">\n",
       "      <th></th>\n",
       "      <th>id</th>\n",
       "      <th>name</th>\n",
       "      <th>education</th>\n",
       "    </tr>\n",
       "  </thead>\n",
       "  <tbody>\n",
       "    <tr>\n",
       "      <th>0</th>\n",
       "      <td>1</td>\n",
       "      <td>Sir Zia</td>\n",
       "      <td>Master</td>\n",
       "    </tr>\n",
       "    <tr>\n",
       "      <th>1</th>\n",
       "      <td>2</td>\n",
       "      <td>Sir Inam</td>\n",
       "      <td>Master</td>\n",
       "    </tr>\n",
       "    <tr>\n",
       "      <th>2</th>\n",
       "      <td>3</td>\n",
       "      <td>Muhammad Qasim</td>\n",
       "      <td>MSDS</td>\n",
       "    </tr>\n",
       "    <tr>\n",
       "      <th>3</th>\n",
       "      <td>4</td>\n",
       "      <td>Dr, Noman</td>\n",
       "      <td>PHD</td>\n",
       "    </tr>\n",
       "  </tbody>\n",
       "</table>\n",
       "</div>"
      ],
      "text/plain": [
       "   id            name education\n",
       "0   1         Sir Zia    Master\n",
       "1   2        Sir Inam    Master\n",
       "2   3  Muhammad Qasim      MSDS\n",
       "3   4       Dr, Noman       PHD"
      ]
     },
     "execution_count": 97,
     "metadata": {},
     "output_type": "execute_result"
    }
   ],
   "source": [
    "import pandas as pd\n",
    "\n",
    "df : pd.DataFrame = pd.read_excel(\"./filehandling/demo.xlsx\")\n",
    "\n",
    "df"
   ]
  },
  {
   "cell_type": "code",
   "execution_count": 101,
   "metadata": {},
   "outputs": [
    {
     "data": {
      "text/plain": [
       "<matplotlib.image.AxesImage at 0x1a1ea40b6d0>"
      ]
     },
     "execution_count": 101,
     "metadata": {},
     "output_type": "execute_result"
    },
    {
     "data": {
      "image/png": "[encoded data removed]",
      "text/plain": [
       "<Figure size 640x480 with 1 Axes>"
      ]
     },
     "metadata": {},
     "output_type": "display_data"
    }
   ],
   "source": [
    "import matplotlib.pyplot as plt\n",
    "import matplotlib.image as mpimg\n",
    "\n",
    "\n",
    "img = mpimg.imread(\"./filehandling/img1.jpeg\")# covert into numpy array\n",
    "plt.imshow(img)"
   ]
  },
  {
   "cell_type": "code",
   "execution_count": 105,
   "metadata": {},
   "outputs": [
    {
     "data": {
      "text/plain": [
       "['Pakistan\\nzinda\\nbad', 'We\\nlove\\nour\\ncountry', 'PIAIC']"
      ]
     },
     "execution_count": 105,
     "metadata": {},
     "output_type": "execute_result"
    }
   ],
   "source": [
    "from typing import List\n",
    "import PyPDF2\n",
    "\n",
    "def read_pdf(file_path: str) -> List[str]:\n",
    "    with open(file_path, 'rb') as file:  # The 'b' in 'rb' stands for binary mode\n",
    "        reader: PyPDF2.PdfReader = PyPDF2.PdfReader(file)\n",
    "        text_content: List[str] = [page.extract_text() for page in reader.pages]\n",
    "        return text_content\n",
    "\n",
    "pages: list[str] = read_pdf(\"./filehandling/mypdf.pdf\")\n",
    "pages"
   ]
  },
  {
   "cell_type": "code",
   "execution_count": 106,
   "metadata": {},
   "outputs": [
    {
     "data": {
      "image/png": "[encoded data removed]",
      "text/plain": [
       "<Figure size 640x480 with 1 Axes>"
      ]
     },
     "metadata": {},
     "output_type": "display_data"
    }
   ],
   "source": [
    "import matplotlib.pyplot as plt\n",
    "import numpy as np\n",
    "import wave\n",
    "import sys\n",
    "\n",
    "audio_file = wave.open(\"./filehandling/audio.wav\",\"rb\")\n",
    "\n",
    "signals = audio_file.readframes(-1)\n",
    "signals = np.frombuffer(signals, dtype=np.int16)\n",
    "\n",
    "plt.figure(1)\n",
    "plt.title(\"Signal waves...\")\n",
    "plt.plot(signals)\n",
    "plt.show()"
   ]
  }
 ],
 "metadata": {
  "kernelspec": {
   "display_name": "Python 3 (ipykernel)",
   "language": "python",
   "name": "python3"
  },
  "language_info": {
   "codemirror_mode": {
    "name": "ipython",
    "version": 3
   },
   "file_extension": ".py",
   "mimetype": "text/x-python",
   "name": "python",
   "nbconvert_exporter": "python",
   "pygments_lexer": "ipython3",
   "version": "3.11.5"
  }
 },
 "nbformat": 4,
 "nbformat_minor": 4
}
