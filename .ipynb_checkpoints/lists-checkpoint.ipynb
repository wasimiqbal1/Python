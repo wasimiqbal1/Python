{
 "cells": [
  {
   "cell_type": "code",
   "execution_count": 7,
   "metadata": {},
   "outputs": [
    {
     "name": "stdout",
     "output_type": "stream",
     "text": [
      "Sir Zia\n",
      "Founder of PIAIC is SIR ZIA\n"
     ]
    }
   ],
   "source": [
    "\n",
    "names = [\"Qasim\",\"Sir Zia\",\"Sir Inam\"]\n",
    "print(names[-2])\n",
    "print(f'Founder of PIAIC is {names[-2].upper()}')"
   ]
  },
  {
   "cell_type": "code",
   "execution_count": 8,
   "metadata": {},
   "outputs": [
    {
     "name": "stdout",
     "output_type": "stream",
     "text": [
      "['A', 'B', 'C', 'D', 'E', 'F', 'G', 'H', 'I', 'J', 'K', 'L', 'M', 'N', 'O', 'P', 'Q', 'R', 'S', 'T', 'U', 'V', 'W', 'X', 'Y', 'Z']\n"
     ]
    }
   ],
   "source": [
    "characters : list[str] = list(\"ABCDEFGHIJKLMNOPQRSTUVWXYZ\")\n",
    "print(characters)"
   ]
  },
  {
   "cell_type": "code",
   "execution_count": 17,
   "metadata": {},
   "outputs": [
    {
     "name": "stdout",
     "output_type": "stream",
     "text": [
      "['A', 'B']\n",
      "['A', 'B']\n",
      "['A', 'B']\n",
      "['A', 'B']\n",
      "['A', 'B']\n",
      "['A', 'D', 'G', 'J', 'M', 'P', 'S', 'V', 'Y']\n",
      "['Z', 'Y', 'X', 'W', 'V', 'U', 'T', 'S', 'R', 'Q', 'P', 'O', 'N', 'M', 'L', 'K', 'J', 'I', 'H', 'G', 'F', 'E', 'D', 'C', 'B', 'A']\n",
      "['Y', 'X', 'W']\n"
     ]
    }
   ],
   "source": [
    "characters:list[str] = ['A', 'B', 'C', 'D', 'E', 'F', 'G', 'H', 'I', 'J', 'K', 'L', 'M', 'N', 'O', 'P', 'Q', 'R', 'S', 'T', 'U', 'V', 'W', 'X', 'Y', 'Z']\n",
    "print(characters[0:2])\n",
    "print(characters[:2])\n",
    "print(characters[-26:-24])\n",
    "print(characters[0:2:1])\n",
    "print(characters[0:2:])\n",
    "print(characters[::3])\n",
    "print(characters[::-1])\n",
    "print(characters[-2:-5:-1])\n",
    "\n"
   ]
  },
  {
   "cell_type": "code",
   "execution_count": 21,
   "metadata": {},
   "outputs": [
    {
     "name": "stdout",
     "output_type": "stream",
     "text": [
      "['Sir Zia', 'Wasim', 'Qasim', 0, True]\n",
      "True\n"
     ]
    }
   ],
   "source": [
    "names : list[any] = [\"Sir Zia\",\"Wasim\",\"Qasim\",0,True]\n",
    "print(names)\n",
    "a : str = names.pop()\n",
    "print(a)\n",
    "\n"
   ]
  },
  {
   "cell_type": "code",
   "execution_count": 25,
   "metadata": {},
   "outputs": [
    {
     "name": "stdout",
     "output_type": "stream",
     "text": [
      "['Sir Zia', 'Wasim', 'Qasim', 0, True]\n",
      "Wasim\n"
     ]
    }
   ],
   "source": [
    "names : list[any] = [\"Sir Zia\",\"Wasim\",\"Qasim\",0,True]\n",
    "print(names)\n",
    "a : str = names.pop(1)\n",
    "print(a)\n"
   ]
  },
  {
   "cell_type": "code",
   "execution_count": 26,
   "metadata": {},
   "outputs": [
    {
     "name": "stdout",
     "output_type": "stream",
     "text": [
      "['apple', 'banana', 'cherry']\n",
      "[1, 5, 7, 9, 3]\n",
      "[True, False, False]\n"
     ]
    }
   ],
   "source": [
    "list1 = [\"apple\", \"banana\", \"cherry\"]\n",
    "list2 = [1, 5, 7, 9, 3]\n",
    "list3 = [True, False, False]\n",
    "\n",
    "print(list1)\n",
    "print(list2)\n",
    "print(list3)\n"
   ]
  },
  {
   "cell_type": "code",
   "execution_count": 27,
   "metadata": {},
   "outputs": [
    {
     "name": "stdout",
     "output_type": "stream",
     "text": [
      "['abc', 34, True, 40, 'male']\n"
     ]
    }
   ],
   "source": [
    "list1 = [\"abc\", 34, True, 40, \"male\"]\n",
    "\n",
    "print(list1)\n"
   ]
  },
  {
   "cell_type": "code",
   "execution_count": 28,
   "metadata": {},
   "outputs": [
    {
     "name": "stdout",
     "output_type": "stream",
     "text": [
      "banana\n",
      "cherry\n"
     ]
    }
   ],
   "source": [
    "#Python - Access List Items\n",
    "\n",
    "\n",
    "thislist = [\"apple\", \"banana\", \"cherry\"]\n",
    "print(thislist[1])\n",
    "print(thislist[-1])\n"
   ]
  },
  {
   "cell_type": "code",
   "execution_count": 29,
   "metadata": {},
   "outputs": [
    {
     "name": "stdout",
     "output_type": "stream",
     "text": [
      "['cherry', 'orange', 'kiwi']\n"
     ]
    }
   ],
   "source": [
    "#Return the third, fourth, and fifth item:\n",
    "\n",
    "thislist = [\"apple\", \"banana\", \"cherry\", \"orange\", \"kiwi\", \"melon\", \"mango\"]\n",
    "print(thislist[2:5])\n"
   ]
  },
  {
   "cell_type": "code",
   "execution_count": 30,
   "metadata": {},
   "outputs": [
    {
     "name": "stdout",
     "output_type": "stream",
     "text": [
      "['apple', 'banana', 'cherry', 'orange']\n"
     ]
    }
   ],
   "source": [
    "thislist = [\"apple\", \"banana\", \"cherry\", \"orange\", \"kiwi\", \"melon\", \"mango\"]\n",
    "print(thislist[:4])"
   ]
  },
  {
   "cell_type": "code",
   "execution_count": 31,
   "metadata": {},
   "outputs": [
    {
     "name": "stdout",
     "output_type": "stream",
     "text": [
      "['cherry', 'orange', 'kiwi', 'melon', 'mango']\n"
     ]
    }
   ],
   "source": [
    "thislist = [\"apple\", \"banana\", \"cherry\", \"orange\", \"kiwi\", \"melon\", \"mango\"]\n",
    "print(thislist[2:])\n"
   ]
  },
  {
   "cell_type": "code",
   "execution_count": 32,
   "metadata": {},
   "outputs": [
    {
     "name": "stdout",
     "output_type": "stream",
     "text": [
      "Yes, 'apple' is in the fruits list\n"
     ]
    }
   ],
   "source": [
    "thislist = [\"apple\", \"banana\", \"cherry\"]\n",
    "if \"apple\" in thislist:\n",
    "  print(\"Yes, 'apple' is in the fruits list\")\n"
   ]
  },
  {
   "cell_type": "code",
   "execution_count": 33,
   "metadata": {},
   "outputs": [
    {
     "name": "stdout",
     "output_type": "stream",
     "text": [
      "['apple', 'blackcurrant', 'cherry']\n"
     ]
    }
   ],
   "source": [
    "#Change List Items\n",
    "thislist = [\"apple\", \"banana\", \"cherry\"]\n",
    "thislist[1] = \"blackcurrant\"\n",
    "print(thislist)\n"
   ]
  },
  {
   "cell_type": "code",
   "execution_count": 34,
   "metadata": {},
   "outputs": [
    {
     "name": "stdout",
     "output_type": "stream",
     "text": [
      "['apple', 'blackcurrant', 'watermelon', 'orange', 'kiwi', 'mango']\n"
     ]
    }
   ],
   "source": [
    "#Change a Range of Item Values\n",
    "\n",
    "thislist = [\"apple\", \"banana\", \"cherry\", \"orange\", \"kiwi\", \"mango\"]\n",
    "thislist[1:3] = [\"blackcurrant\", \"watermelon\"]\n",
    "print(thislist)\n"
   ]
  },
  {
   "cell_type": "code",
   "execution_count": 36,
   "metadata": {},
   "outputs": [
    {
     "name": "stdout",
     "output_type": "stream",
     "text": [
      "['apple', 'banana', 'watermelon', 'cherry']\n"
     ]
    }
   ],
   "source": [
    "#Insert Items\n",
    "thislist = [\"apple\", \"banana\", \"cherry\"]\n",
    "thislist.insert(2, \"watermelon\")\n",
    "print(thislist)\n",
    "\n"
   ]
  },
  {
   "cell_type": "code",
   "execution_count": 37,
   "metadata": {},
   "outputs": [
    {
     "name": "stdout",
     "output_type": "stream",
     "text": [
      "['apple', 'banana', 'cherry', 'orange']\n"
     ]
    }
   ],
   "source": [
    "#Append Items\n",
    "\n",
    "\n",
    "thislist = [\"apple\", \"banana\", \"cherry\"]\n",
    "thislist.append(\"orange\")\n",
    "print(thislist)\n"
   ]
  },
  {
   "cell_type": "code",
   "execution_count": 38,
   "metadata": {},
   "outputs": [
    {
     "name": "stdout",
     "output_type": "stream",
     "text": [
      "['apple', 'banana', 'cherry', 'mango', 'pineapple', 'papaya']\n"
     ]
    }
   ],
   "source": [
    "#Extend List\n",
    "thislist = [\"apple\", \"banana\", \"cherry\"]\n",
    "tropical = [\"mango\", \"pineapple\", \"papaya\"]\n",
    "thislist.extend(tropical)\n",
    "print(thislist)\n"
   ]
  },
  {
   "cell_type": "code",
   "execution_count": 39,
   "metadata": {},
   "outputs": [
    {
     "name": "stdout",
     "output_type": "stream",
     "text": [
      "['apple', 'banana', 'cherry', 'kiwi', 'orange']\n"
     ]
    }
   ],
   "source": [
    "#Add Any Iterable\n",
    "thislist = [\"apple\", \"banana\", \"cherry\"]\n",
    "thistuple = (\"kiwi\", \"orange\")\n",
    "thislist.extend(thistuple)\n",
    "print(thislist)\n"
   ]
  },
  {
   "cell_type": "code",
   "execution_count": 40,
   "metadata": {},
   "outputs": [
    {
     "name": "stdout",
     "output_type": "stream",
     "text": [
      "['apple', 'cherry']\n"
     ]
    }
   ],
   "source": [
    "#Remove Specified Item\n",
    "thislist = [\"apple\", \"banana\", \"cherry\"]\n",
    "thislist.remove(\"banana\")\n",
    "print(thislist)\n"
   ]
  },
  {
   "cell_type": "code",
   "execution_count": 41,
   "metadata": {},
   "outputs": [
    {
     "name": "stdout",
     "output_type": "stream",
     "text": [
      "['apple', 'cherry', 'banana', 'kiwi']\n"
     ]
    }
   ],
   "source": [
    "thislist = [\"apple\", \"banana\", \"cherry\", \"banana\", \"kiwi\"]\n",
    "thislist.remove(\"banana\")\n",
    "print(thislist)"
   ]
  },
  {
   "cell_type": "code",
   "execution_count": 42,
   "metadata": {},
   "outputs": [
    {
     "name": "stdout",
     "output_type": "stream",
     "text": [
      "['apple', 'cherry']\n"
     ]
    }
   ],
   "source": [
    "#Remove Specified Index\n",
    "#The pop() method removes the specified index.\n",
    "\n",
    "thislist = [\"apple\", \"banana\", \"cherry\"]\n",
    "thislist.pop(1)\n",
    "print(thislist)\n",
    "\n"
   ]
  },
  {
   "cell_type": "code",
   "execution_count": 43,
   "metadata": {},
   "outputs": [
    {
     "name": "stdout",
     "output_type": "stream",
     "text": [
      "['apple', 'banana']\n"
     ]
    }
   ],
   "source": [
    "#Remove the last item:\n",
    "thislist = [\"apple\", \"banana\", \"cherry\"]\n",
    "thislist.pop()\n",
    "print(thislist)\n"
   ]
  },
  {
   "cell_type": "code",
   "execution_count": 44,
   "metadata": {},
   "outputs": [
    {
     "name": "stdout",
     "output_type": "stream",
     "text": [
      "['banana', 'cherry']\n"
     ]
    }
   ],
   "source": [
    "#The del keyword also removes the specified index:\n",
    "\n",
    "thislist = [\"apple\", \"banana\", \"cherry\"]\n",
    "del thislist[0]\n",
    "print(thislist)\n"
   ]
  },
  {
   "cell_type": "code",
   "execution_count": 46,
   "metadata": {},
   "outputs": [],
   "source": [
    "#The del keyword can also delete the list completely.\n",
    "\n",
    "thislist = [\"apple\", \"banana\", \"cherry\"]\n",
    "del thislist\n"
   ]
  },
  {
   "cell_type": "code",
   "execution_count": 47,
   "metadata": {},
   "outputs": [
    {
     "name": "stdout",
     "output_type": "stream",
     "text": [
      "[]\n"
     ]
    }
   ],
   "source": [
    "#Clear the List, The list still remains, but it has no content.\n",
    "\n",
    "thislist = [\"apple\", \"banana\", \"cherry\"]\n",
    "thislist.clear()\n",
    "print(thislist)\n",
    "\n"
   ]
  },
  {
   "cell_type": "code",
   "execution_count": 49,
   "metadata": {},
   "outputs": [
    {
     "data": {
      "text/plain": [
       "['append',\n",
       " 'clear',\n",
       " 'copy',\n",
       " 'count',\n",
       " 'extend',\n",
       " 'index',\n",
       " 'insert',\n",
       " 'pop',\n",
       " 'remove',\n",
       " 'reverse',\n",
       " 'sort']"
      ]
     },
     "execution_count": 49,
     "metadata": {},
     "output_type": "execute_result"
    }
   ],
   "source": [
    "[i for i in dir(list) if \"__\" not in i]"
   ]
  },
  {
   "cell_type": "code",
   "execution_count": 50,
   "metadata": {},
   "outputs": [
    {
     "name": "stdout",
     "output_type": "stream",
     "text": [
      "['a', 'b', 'c']\n",
      "['a', 'b', 'c']\n",
      "['a', 'b', 'c']\n",
      "['Pakistan', 'b', 'c']\n"
     ]
    }
   ],
   "source": [
    "#copy \n",
    "a: list[str] = ['a','b','c']\n",
    "b = a.copy()\n",
    "print(a)\n",
    "print(b)\n",
    "\n",
    "b[0] = \"Pakistan\"\n",
    "\n",
    "print(a)\n",
    "print(b)"
   ]
  },
  {
   "cell_type": "code",
   "execution_count": 51,
   "metadata": {},
   "outputs": [
    {
     "name": "stdout",
     "output_type": "stream",
     "text": [
      "2\n",
      "3\n"
     ]
    }
   ],
   "source": [
    "#Count\n",
    "\n",
    "names : list[str] = ['a','a','a','b','b','c','c']\n",
    "print(names.count(\"c\"))\n",
    "print(names.count(\"a\"))\n"
   ]
  },
  {
   "cell_type": "code",
   "execution_count": 54,
   "metadata": {},
   "outputs": [
    {
     "name": "stdout",
     "output_type": "stream",
     "text": [
      "['A', 'B', 'C', 'D', 'E', 'F', 'G']\n",
      "['G', 'F', 'E', 'D', 'C', 'B', 'A']\n",
      "['A', 'B', 'C', 'D', 'E', 'F', 'G']\n"
     ]
    }
   ],
   "source": [
    "names : list [str] = list(\"ABCDEFG\")\n",
    "print(names)\n",
    "names.reverse()\n",
    "print(names)\n",
    "names.sort()\n",
    "print(names)\n"
   ]
  },
  {
   "cell_type": "code",
   "execution_count": 56,
   "metadata": {},
   "outputs": [
    {
     "name": "stdout",
     "output_type": "stream",
     "text": [
      "The last motorcycle I owned was a Suzuki.\n"
     ]
    }
   ],
   "source": [
    "motorcycles = ['honda', 'yamaha', 'suzuki']\n",
    "\n",
    "last_owned = motorcycles.pop()\n",
    "print(f\"The last motorcycle I owned was a {last_owned.title()}.\")"
   ]
  },
  {
   "cell_type": "code",
   "execution_count": 57,
   "metadata": {},
   "outputs": [
    {
     "name": "stdout",
     "output_type": "stream",
     "text": [
      "The first motorcycle I owned was a Honda.\n"
     ]
    }
   ],
   "source": [
    "motorcycles = ['honda', 'yamaha', 'suzuki']\n",
    "\n",
    "first_owned = motorcycles.pop(0)\n",
    "print(f\"The first motorcycle I owned was a {first_owned.title()}.\")"
   ]
  },
  {
   "cell_type": "code",
   "execution_count": 60,
   "metadata": {},
   "outputs": [
    {
     "name": "stdout",
     "output_type": "stream",
     "text": [
      "Here is the original list:\n",
      "['bmw', 'audi', 'toyota', 'subaru']\n",
      "\n",
      "Here is the sorted list:\n",
      "['audi', 'bmw', 'subaru', 'toyota']\n",
      "\n",
      "Here is the original list again:\n",
      "['bmw', 'audi', 'toyota', 'subaru']\n"
     ]
    }
   ],
   "source": [
    "cars = ['bmw', 'audi', 'toyota', 'subaru']\n",
    "\n",
    "print(\"Here is the original list:\")\n",
    "print(cars)\n",
    "\n",
    "print(\"\\nHere is the sorted list:\")\n",
    "print(sorted(cars))\n",
    "\n",
    "print(\"\\nHere is the original list again:\")\n",
    "print(cars)"
   ]
  },
  {
   "cell_type": "code",
   "execution_count": 61,
   "metadata": {},
   "outputs": [
    {
     "name": "stdout",
     "output_type": "stream",
     "text": [
      "Alice, that was a great trick!\n",
      "David, that was a great trick!\n",
      "Carolina, that was a great trick!\n"
     ]
    }
   ],
   "source": [
    "#Work Within a for Loop\n",
    "\n",
    "magicians = ['alice', 'david', 'carolina']\n",
    "for magician in magicians:\n",
    "    print(f\"{magician.title()}, that was a great trick!\")"
   ]
  },
  {
   "cell_type": "code",
   "execution_count": 62,
   "metadata": {},
   "outputs": [
    {
     "name": "stdout",
     "output_type": "stream",
     "text": [
      "Alice, that was a great trick!\n",
      "I can't wait to see your next trick, Alice.\n",
      "\n",
      "David, that was a great trick!\n",
      "I can't wait to see your next trick, David.\n",
      "\n",
      "Carolina, that was a great trick!\n",
      "I can't wait to see your next trick, Carolina.\n",
      "\n"
     ]
    }
   ],
   "source": [
    "magicians = ['alice', 'david', 'carolina']\n",
    "for magician in magicians:\n",
    "    print(f\"{magician.title()}, that was a great trick!\")\n",
    "    print(f\"I can't wait to see your next trick, {magician.title()}.\\n\")\n"
   ]
  },
  {
   "cell_type": "code",
   "execution_count": 63,
   "metadata": {},
   "outputs": [
    {
     "name": "stdout",
     "output_type": "stream",
     "text": [
      "[1, 2, 3, 4, 5]\n"
     ]
    }
   ],
   "source": [
    "numbers = list(range(1, 6))\n",
    "print(numbers)"
   ]
  },
  {
   "cell_type": "code",
   "execution_count": 64,
   "metadata": {},
   "outputs": [
    {
     "name": "stdout",
     "output_type": "stream",
     "text": [
      "[2, 4, 6, 8, 10]\n"
     ]
    }
   ],
   "source": [
    "even_numbers = list(range(2, 11, 2))\n",
    "print(even_numbers)"
   ]
  },
  {
   "cell_type": "code",
   "execution_count": 65,
   "metadata": {},
   "outputs": [
    {
     "name": "stdout",
     "output_type": "stream",
     "text": [
      "[1, 4, 9, 16, 25, 36, 49, 64, 81, 100]\n"
     ]
    }
   ],
   "source": [
    "squares = []\n",
    "for value in range(1, 11):\n",
    "    square = value ** 2\n",
    "    squares.append(square)\n",
    "print(squares)"
   ]
  },
  {
   "cell_type": "code",
   "execution_count": 69,
   "metadata": {},
   "outputs": [
    {
     "name": "stdout",
     "output_type": "stream",
     "text": [
      "[2, 4, 6, 8, 10, 12, 14, 16, 18, 20]\n"
     ]
    }
   ],
   "source": [
    "squares = []\n",
    "for value in range(1,11):\n",
    "    squares.append(value*2)\n",
    "print(squares)"
   ]
  },
  {
   "cell_type": "code",
   "execution_count": 72,
   "metadata": {},
   "outputs": [
    {
     "data": {
      "text/plain": [
       "0"
      ]
     },
     "execution_count": 72,
     "metadata": {},
     "output_type": "execute_result"
    }
   ],
   "source": [
    "digits = [1, 2, 3, 4, 5, 6, 7, 8, 9, 0]\n",
    "min(digits)\n"
   ]
  },
  {
   "cell_type": "code",
   "execution_count": 2,
   "metadata": {},
   "outputs": [
    {
     "name": "stdout",
     "output_type": "stream",
     "text": [
      "apple\n",
      "banana\n",
      "cherry\n"
     ]
    },
    {
     "data": {
      "text/plain": [
       "[None, None, None]"
      ]
     },
     "execution_count": 2,
     "metadata": {},
     "output_type": "execute_result"
    }
   ],
   "source": [
    "thislist = [\"apple\", \"banana\", \"cherry\"]\n",
    "[print(x) for x in thislist]"
   ]
  },
  {
   "cell_type": "code",
   "execution_count": 6,
   "metadata": {},
   "outputs": [
    {
     "name": "stdout",
     "output_type": "stream",
     "text": [
      "['apple', 'banana', 'mango']\n"
     ]
    }
   ],
   "source": [
    "#List Comprehension\n",
    "\n",
    "fruits = [\"apple\", \"banana\", \"cherry\", \"kiwi\", \"mango\"]\n",
    "newlist = []\n",
    "\n",
    "for x in fruits:\n",
    "  if \"a\" in x:\n",
    "    newlist.append(x)\n",
    "\n",
    "print(newlist)"
   ]
  },
  {
   "cell_type": "code",
   "execution_count": 8,
   "metadata": {},
   "outputs": [
    {
     "name": "stdout",
     "output_type": "stream",
     "text": [
      "['apple', 'banana', 'mango']\n"
     ]
    }
   ],
   "source": [
    "fruits = [\"apple\", \"banana\", \"cherry\", \"kiwi\", \"mango\"]\n",
    "\n",
    "newlist = [x for x in fruits if \"a\" in x]\n",
    "\n",
    "print(newlist)"
   ]
  },
  {
   "cell_type": "code",
   "execution_count": 9,
   "metadata": {},
   "outputs": [
    {
     "name": "stdout",
     "output_type": "stream",
     "text": [
      "Here are the first three players on my team:\n",
      "Charles\n",
      "Martina\n",
      "Michael\n"
     ]
    }
   ],
   "source": [
    "players = ['charles', 'martina', 'michael', 'florence', 'eli']\n",
    "print(\"Here are the first three players on my team:\")\n",
    "\n",
    "for player in players[:3]:\n",
    "    print(player.title())"
   ]
  },
  {
   "cell_type": "code",
   "execution_count": 2,
   "metadata": {},
   "outputs": [
    {
     "name": "stdout",
     "output_type": "stream",
     "text": [
      "Enter User Name WASIM\n",
      "Enter Password 123\n",
      "Valid User\n"
     ]
    }
   ],
   "source": [
    "data_base : list[tuple[str,str]] = [\n",
    "    (\"WASIM\",'123'), (\"QASIM\",'456'), (\"ZIA KHAN\",'789')]\n",
    "\n",
    "input_user : str = input(\"Enter User Name \")\n",
    "input_password : str = input(\"Enter Password \")\n",
    "\n",
    "for row in data_base:\n",
    "    user, password = row\n",
    "    if input_user == user and input_password == password:\n",
    "        print(\"Valid User\")\n",
    "        break\n",
    "    else:\n",
    "        print(\"Invalid User or Password\")\n",
    "\n",
    "        \n"
   ]
  },
  {
   "cell_type": "code",
   "execution_count": 11,
   "metadata": {
    "scrolled": true
   },
   "outputs": [
    {
     "name": "stdout",
     "output_type": "stream",
     "text": [
      "15 x 1 = 15\n",
      "15 x 2 = 30\n",
      "15 x 3 = 45\n",
      "15 x 4 = 60\n",
      "15 x 5 = 75\n",
      "15 x 6 = 90\n",
      "15 x 7 = 105\n",
      "15 x 8 = 120\n",
      "15 x 9 = 135\n",
      "15 x 10 = 150\n"
     ]
    }
   ],
   "source": [
    "for n in range(1,11):\n",
    "    print(f\"{15} x {n} = {n*15}\")"
   ]
  },
  {
   "cell_type": "code",
   "execution_count": 18,
   "metadata": {},
   "outputs": [
    {
     "name": "stdout",
     "output_type": "stream",
     "text": [
      "[1, 2, 3, 4, 5, 6, 7, 8, 9, 0]\n",
      "9\n",
      "0\n",
      "45\n"
     ]
    }
   ],
   "source": [
    "digits: list[int] = [1,2,3,4,5,6,7,8,9,0]\n",
    "    \n",
    "print(digits)\n",
    "print(max(digits))\n",
    "print(min(digits))\n",
    "print(sum(digits))"
   ]
  },
  {
   "cell_type": "code",
   "execution_count": null,
   "metadata": {},
   "outputs": [],
   "source": []
  }
 ],
 "metadata": {
  "kernelspec": {
   "display_name": "Python 3 (ipykernel)",
   "language": "python",
   "name": "python3"
  },
  "language_info": {
   "codemirror_mode": {
    "name": "ipython",
    "version": 3
   },
   "file_extension": ".py",
   "mimetype": "text/x-python",
   "name": "python",
   "nbconvert_exporter": "python",
   "pygments_lexer": "ipython3",
   "version": "3.11.5"
  }
 },
 "nbformat": 4,
 "nbformat_minor": 2
}
